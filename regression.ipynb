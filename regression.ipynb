{
 "cells": [
  {
   "cell_type": "markdown",
   "metadata": {},
   "source": [
    "### Data cleaning and data converting"
   ]
  },
  {
   "cell_type": "markdown",
   "metadata": {},
   "source": [
    "## NAN data"
   ]
  },
  {
   "cell_type": "code",
   "execution_count": 2,
   "metadata": {},
   "outputs": [],
   "source": [
    "import os\n",
    "import pandas as pd"
   ]
  },
  {
   "cell_type": "code",
   "execution_count": 3,
   "metadata": {},
   "outputs": [
    {
     "name": "stdout",
     "output_type": "stream",
     "text": [
      "(19896, 12)\n"
     ]
    }
   ],
   "source": [
    "cols = ['id', 'listing_url', 'last_scraped', 'name', 'description', 'host_id', 'host_name', 'host_since', \n",
    "        'host_location', 'host_about', 'host_response_rate', 'host_acceptance_rate', 'host_is_superhost', \n",
    "        'host_listings_count', 'host_total_listings_count', 'host_verifications', 'latitude', 'longitude', \n",
    "        'property_type', 'room_type', 'accommodates', 'bathrooms', 'bathrooms_text', 'bedrooms', 'beds', \n",
    "        'amenities', 'price', 'minimum_nights', 'maximum_nights', 'availability_365', 'number_of_reviews', \n",
    "        'first_review', 'last_review', 'review_scores_rating', 'review_scores_cleanliness', \n",
    "        'review_scores_checkin', 'review_scores_communication', 'review_scores_location', 'license', \n",
    "        'instant_bookable', 'calculated_host_listings_count', 'reviews_per_month']\n",
    "\n",
    "key_fields=['host_about','host_response_rate','host_total_listings_count',\n",
    "            'accommodates','amenities', 'price','minimum_nights','number_of_reviews',\n",
    "            'review_scores_rating','room_type','host_is_superhost','instant_bookable']\n",
    "\n",
    "df = pd.read_csv('listings.csv',usecols=key_fields)\n",
    "df['price'] = df.price.str.replace('$','').str.replace(',','').astype(float)\n",
    "df['host_response_rate'] = df.host_response_rate.str.replace('%','').astype(float)\n",
    "print(df.shape)"
   ]
  },
  {
   "cell_type": "markdown",
   "metadata": {},
   "source": [
    "### text data"
   ]
  },
  {
   "cell_type": "code",
   "execution_count": 4,
   "metadata": {},
   "outputs": [],
   "source": [
    "def calculation(col_list,col_len,df_col,delimiter:'str'):\n",
    "    col_list\n",
    "    for i in df_col:\n",
    "    \n",
    "        if isinstance(i, str)== False:\n",
    "            j=str(i)\n",
    "            col_list.append(j.split(delimiter))\n",
    "    \n",
    "        else:\n",
    "            col_list.append(i.split(delimiter))\n",
    "    \n",
    "    col_len\n",
    "    for k in col_list:\n",
    "        p=len(k)\n",
    "        col_len.append(p)  "
   ]
  },
  {
   "cell_type": "code",
   "execution_count": 5,
   "metadata": {},
   "outputs": [
    {
     "name": "stdout",
     "output_type": "stream",
     "text": [
      "<class 'list'>\n",
      "Hello\n",
      "18\n",
      "['Hello', 'I', 'am', 'a', 'Professional', 'designer,', 'a', 'traveler,', 'an', 'entrepreneur.', 'I', 'try', 'always', 'to', 'find', 'a', 'solution.', '']\n"
     ]
    }
   ],
   "source": [
    "# for host about\n",
    "host_about_list=[]\n",
    "host_about_len=[]\n",
    "\n",
    "calculation(host_about_list,host_about_len,df.host_about,\" \")\n",
    "\n",
    "print(type(host_about_list))\n",
    "print(host_about_list[0][0])\n",
    "print(host_about_len[0])\n",
    "print(host_about_list[0])"
   ]
  },
  {
   "cell_type": "code",
   "execution_count": 6,
   "metadata": {},
   "outputs": [
    {
     "name": "stdout",
     "output_type": "stream",
     "text": [
      "<class 'list'>\n",
      "[\"Kitchen\"\n",
      "13\n",
      "['[\"Kitchen\"', ' \"Essentials\"', ' \"Cable TV\"', ' \"Air conditioning\"', ' \"Washer\"', ' \"Elevator\"', ' \"Dryer\"', ' \"Wifi\"', ' \"TV\"', ' \"Heating\"', ' \"Smoke alarm\"', ' \"Fire extinguisher\"', ' \"Carbon monoxide alarm\"]']\n"
     ]
    }
   ],
   "source": [
    "# for amentities \n",
    "amenities_list=[]\n",
    "amenities_len=[]\n",
    "\n",
    "calculation(amenities_list,amenities_len,df.amenities,\",\")\n",
    "\n",
    "print(type(amenities_list))\n",
    "print(amenities_list[0][0])\n",
    "print(amenities_len[0])\n",
    "print(amenities_list[0])"
   ]
  },
  {
   "cell_type": "code",
   "execution_count": 7,
   "metadata": {},
   "outputs": [],
   "source": [
    "df['host_about'] = host_about_len\n",
    "df['amenities'] = amenities_len"
   ]
  },
  {
   "cell_type": "code",
   "execution_count": null,
   "metadata": {},
   "outputs": [],
   "source": [
    "df.sample(4, random_state=42)[['amenities','host_about']]"
   ]
  },
  {
   "cell_type": "markdown",
   "metadata": {},
   "source": [
    "### boolean data"
   ]
  },
  {
   "cell_type": "code",
   "execution_count": 8,
   "metadata": {},
   "outputs": [
    {
     "data": {
      "text/html": [
       "<div>\n",
       "<style scoped>\n",
       "    .dataframe tbody tr th:only-of-type {\n",
       "        vertical-align: middle;\n",
       "    }\n",
       "\n",
       "    .dataframe tbody tr th {\n",
       "        vertical-align: top;\n",
       "    }\n",
       "\n",
       "    .dataframe thead th {\n",
       "        text-align: right;\n",
       "    }\n",
       "</style>\n",
       "<table border=\"1\" class=\"dataframe\">\n",
       "  <thead>\n",
       "    <tr style=\"text-align: right;\">\n",
       "      <th></th>\n",
       "      <th>instant_bookable</th>\n",
       "      <th>host_is_superhost</th>\n",
       "    </tr>\n",
       "  </thead>\n",
       "  <tbody>\n",
       "    <tr>\n",
       "      <th>0</th>\n",
       "      <td>f</td>\n",
       "      <td>f</td>\n",
       "    </tr>\n",
       "    <tr>\n",
       "      <th>1</th>\n",
       "      <td>t</td>\n",
       "      <td>t</td>\n",
       "    </tr>\n",
       "    <tr>\n",
       "      <th>2</th>\n",
       "      <td>t</td>\n",
       "      <td>f</td>\n",
       "    </tr>\n",
       "    <tr>\n",
       "      <th>3</th>\n",
       "      <td>f</td>\n",
       "      <td>f</td>\n",
       "    </tr>\n",
       "    <tr>\n",
       "      <th>4</th>\n",
       "      <td>t</td>\n",
       "      <td>f</td>\n",
       "    </tr>\n",
       "    <tr>\n",
       "      <th>...</th>\n",
       "      <td>...</td>\n",
       "      <td>...</td>\n",
       "    </tr>\n",
       "    <tr>\n",
       "      <th>19891</th>\n",
       "      <td>f</td>\n",
       "      <td>f</td>\n",
       "    </tr>\n",
       "    <tr>\n",
       "      <th>19892</th>\n",
       "      <td>t</td>\n",
       "      <td>f</td>\n",
       "    </tr>\n",
       "    <tr>\n",
       "      <th>19893</th>\n",
       "      <td>f</td>\n",
       "      <td>f</td>\n",
       "    </tr>\n",
       "    <tr>\n",
       "      <th>19894</th>\n",
       "      <td>f</td>\n",
       "      <td>f</td>\n",
       "    </tr>\n",
       "    <tr>\n",
       "      <th>19895</th>\n",
       "      <td>t</td>\n",
       "      <td>f</td>\n",
       "    </tr>\n",
       "  </tbody>\n",
       "</table>\n",
       "<p>19896 rows × 2 columns</p>\n",
       "</div>"
      ],
      "text/plain": [
       "      instant_bookable host_is_superhost\n",
       "0                    f                 f\n",
       "1                    t                 t\n",
       "2                    t                 f\n",
       "3                    f                 f\n",
       "4                    t                 f\n",
       "...                ...               ...\n",
       "19891                f                 f\n",
       "19892                t                 f\n",
       "19893                f                 f\n",
       "19894                f                 f\n",
       "19895                t                 f\n",
       "\n",
       "[19896 rows x 2 columns]"
      ]
     },
     "execution_count": 8,
     "metadata": {},
     "output_type": "execute_result"
    }
   ],
   "source": [
    "bools = ['instant_bookable','host_is_superhost']\n",
    "df[bools]"
   ]
  },
  {
   "cell_type": "code",
   "execution_count": 9,
   "metadata": {},
   "outputs": [
    {
     "data": {
      "text/html": [
       "<div>\n",
       "<style scoped>\n",
       "    .dataframe tbody tr th:only-of-type {\n",
       "        vertical-align: middle;\n",
       "    }\n",
       "\n",
       "    .dataframe tbody tr th {\n",
       "        vertical-align: top;\n",
       "    }\n",
       "\n",
       "    .dataframe thead th {\n",
       "        text-align: right;\n",
       "    }\n",
       "</style>\n",
       "<table border=\"1\" class=\"dataframe\">\n",
       "  <thead>\n",
       "    <tr style=\"text-align: right;\">\n",
       "      <th></th>\n",
       "      <th>instant_bookable</th>\n",
       "      <th>host_is_superhost</th>\n",
       "    </tr>\n",
       "  </thead>\n",
       "  <tbody>\n",
       "    <tr>\n",
       "      <th>9507</th>\n",
       "      <td>True</td>\n",
       "      <td>False</td>\n",
       "    </tr>\n",
       "    <tr>\n",
       "      <th>1512</th>\n",
       "      <td>False</td>\n",
       "      <td>False</td>\n",
       "    </tr>\n",
       "    <tr>\n",
       "      <th>17433</th>\n",
       "      <td>True</td>\n",
       "      <td>True</td>\n",
       "    </tr>\n",
       "  </tbody>\n",
       "</table>\n",
       "</div>"
      ],
      "text/plain": [
       "       instant_bookable  host_is_superhost\n",
       "9507               True              False\n",
       "1512              False              False\n",
       "17433              True               True"
      ]
     },
     "execution_count": 9,
     "metadata": {},
     "output_type": "execute_result"
    }
   ],
   "source": [
    "bools = ['instant_bookable','host_is_superhost']\n",
    "key={'t':True,'f':False}\n",
    "for b in bools:\n",
    "    df[b] = df[b].replace(key).astype('bool')\n",
    "df.sample(3, random_state=42)[bools]"
   ]
  },
  {
   "cell_type": "code",
   "execution_count": 10,
   "metadata": {},
   "outputs": [
    {
     "name": "stdout",
     "output_type": "stream",
     "text": [
      "<class 'pandas.core.frame.DataFrame'>\n",
      "RangeIndex: 19896 entries, 0 to 19895\n",
      "Data columns (total 12 columns):\n",
      " #   Column                     Non-Null Count  Dtype  \n",
      "---  ------                     --------------  -----  \n",
      " 0   host_about                 19896 non-null  int64  \n",
      " 1   host_response_rate         12409 non-null  float64\n",
      " 2   host_is_superhost          19896 non-null  bool   \n",
      " 3   host_total_listings_count  19889 non-null  float64\n",
      " 4   room_type                  19896 non-null  object \n",
      " 5   accommodates               19896 non-null  int64  \n",
      " 6   amenities                  19896 non-null  int64  \n",
      " 7   price                      19896 non-null  float64\n",
      " 8   minimum_nights             19896 non-null  int64  \n",
      " 9   number_of_reviews          19896 non-null  int64  \n",
      " 10  review_scores_rating       13773 non-null  float64\n",
      " 11  instant_bookable           19896 non-null  bool   \n",
      "dtypes: bool(2), float64(4), int64(5), object(1)\n",
      "memory usage: 1.6+ MB\n"
     ]
    }
   ],
   "source": [
    "df.info()"
   ]
  },
  {
   "cell_type": "code",
   "execution_count": null,
   "metadata": {},
   "outputs": [],
   "source": [
    "### categorical data"
   ]
  },
  {
   "cell_type": "code",
   "execution_count": 13,
   "metadata": {},
   "outputs": [],
   "source": [
    "df['room_type']=df['room_type'].astype('category')"
   ]
  },
  {
   "cell_type": "code",
   "execution_count": 14,
   "metadata": {},
   "outputs": [
    {
     "name": "stdout",
     "output_type": "stream",
     "text": [
      "<class 'pandas.core.frame.DataFrame'>\n",
      "RangeIndex: 19896 entries, 0 to 19895\n",
      "Data columns (total 12 columns):\n",
      " #   Column                     Non-Null Count  Dtype   \n",
      "---  ------                     --------------  -----   \n",
      " 0   host_about                 19896 non-null  int64   \n",
      " 1   host_response_rate         12409 non-null  float64 \n",
      " 2   host_is_superhost          19896 non-null  bool    \n",
      " 3   host_total_listings_count  19889 non-null  float64 \n",
      " 4   room_type                  19896 non-null  category\n",
      " 5   accommodates               19896 non-null  int64   \n",
      " 6   amenities                  19896 non-null  int64   \n",
      " 7   price                      19896 non-null  float64 \n",
      " 8   minimum_nights             19896 non-null  int64   \n",
      " 9   number_of_reviews          19896 non-null  int64   \n",
      " 10  review_scores_rating       13773 non-null  float64 \n",
      " 11  instant_bookable           19896 non-null  bool    \n",
      "dtypes: bool(2), category(1), float64(4), int64(5)\n",
      "memory usage: 1.4 MB\n"
     ]
    }
   ],
   "source": [
    "# check out the new dataFrame\n",
    "df.info()"
   ]
  },
  {
   "cell_type": "markdown",
   "metadata": {},
   "source": [
    "### drop nan"
   ]
  },
  {
   "cell_type": "code",
   "execution_count": 15,
   "metadata": {},
   "outputs": [
    {
     "name": "stdout",
     "output_type": "stream",
     "text": [
      "(8874, 12)\n"
     ]
    }
   ],
   "source": [
    "'''df.drop(index=(df[(df.host_about.isna()) | (df.host_response_rate.isna()) \n",
    "                  | (df.host_is_superhost.isna())|(df.host_total_listings_count.isna())\n",
    "                 |(df.room_type.isna())|(df.accommodates.isna())|(df.amenities.isna())\n",
    "                 |(df.price.isna())|(df.minimum_nights.isna())|(df.number_of_reviews.isna())\n",
    "                 |(df.instant_bookable.isna())|(df.review_scores_rating.isna())].index), inplace=True)\n",
    "print(df.shape)'''\n",
    "df.dropna(inplace=True)\n",
    "print(df.shape)"
   ]
  },
  {
   "cell_type": "markdown",
   "metadata": {},
   "source": [
    "### outlier"
   ]
  },
  {
   "cell_type": "code",
   "execution_count": 18,
   "metadata": {},
   "outputs": [
    {
     "name": "stdout",
     "output_type": "stream",
     "text": [
      "host_about                   85.0\n",
      "host_response_rate            9.0\n",
      "host_total_listings_count    19.0\n",
      "accommodates                  3.0\n",
      "amenities                    13.0\n",
      "price                        67.0\n",
      "minimum_nights                4.0\n",
      "number_of_reviews            66.0\n",
      "review_scores_rating          9.0\n",
      "dtype: float64\n"
     ]
    },
    {
     "data": {
      "text/plain": [
       "(4019, 9)"
      ]
     },
     "execution_count": 18,
     "metadata": {},
     "output_type": "execute_result"
    }
   ],
   "source": [
    "numerical=['host_about','host_response_rate','host_total_listings_count',\n",
    "            'accommodates','amenities', 'price','minimum_nights','number_of_reviews',\n",
    "            'review_scores_rating']\n",
    "df_o1 = df[numerical]\n",
    "Q1 = df_o1.quantile(0.25)\n",
    "Q3 = df_o1.quantile(0.75)\n",
    "IQR = Q3 - Q1\n",
    "print(IQR)\n",
    "\n",
    "df_out = df_o1[~((df_o1 < (Q1 - 1.5 * IQR)) |(df_o1 > (Q3 + 1.5 * IQR))).any(axis=1)]\n",
    "df_out.shape"
   ]
  },
  {
   "cell_type": "code",
   "execution_count": 19,
   "metadata": {},
   "outputs": [
    {
     "name": "stdout",
     "output_type": "stream",
     "text": [
      "(4855, 12)\n"
     ]
    }
   ],
   "source": [
    "index_name=df_out.index\n",
    "\n",
    "df.drop(index_name, inplace=True)\n",
    "\n",
    "print(df.shape)"
   ]
  },
  {
   "cell_type": "code",
   "execution_count": 28,
   "metadata": {},
   "outputs": [],
   "source": [
    "df.to_csv('data_cleaning.csv',index=False)"
   ]
  },
  {
   "cell_type": "markdown",
   "metadata": {},
   "source": [
    "### fit the regression model"
   ]
  },
  {
   "cell_type": "code",
   "execution_count": 62,
   "metadata": {},
   "outputs": [
    {
     "name": "stdout",
     "output_type": "stream",
     "text": [
      "<class 'pandas.core.frame.DataFrame'>\n",
      "RangeIndex: 4855 entries, 0 to 4854\n",
      "Data columns (total 12 columns):\n",
      " #   Column                     Non-Null Count  Dtype  \n",
      "---  ------                     --------------  -----  \n",
      " 0   host_about                 4855 non-null   int64  \n",
      " 1   host_response_rate         4855 non-null   float64\n",
      " 2   host_is_superhost          4855 non-null   bool   \n",
      " 3   host_total_listings_count  4855 non-null   float64\n",
      " 4   room_type                  4855 non-null   object \n",
      " 5   accommodates               4855 non-null   int64  \n",
      " 6   amenities                  4855 non-null   int64  \n",
      " 7   price                      4855 non-null   float64\n",
      " 8   minimum_nights             4855 non-null   int64  \n",
      " 9   number_of_reviews          4855 non-null   int64  \n",
      " 10  review_scores_rating       4855 non-null   float64\n",
      " 11  instant_bookable           4855 non-null   bool   \n",
      "dtypes: bool(2), float64(4), int64(5), object(1)\n",
      "memory usage: 388.9+ KB\n"
     ]
    }
   ],
   "source": [
    "df1=pd.read_csv('data_cleaning.csv')\n",
    "df1.info()"
   ]
  },
  {
   "cell_type": "code",
   "execution_count": 63,
   "metadata": {},
   "outputs": [
    {
     "name": "stdout",
     "output_type": "stream",
     "text": [
      "                             OLS Regression Results                             \n",
      "================================================================================\n",
      "Dep. Variable:     review_scores_rating   R-squared:                       0.125\n",
      "Model:                              OLS   Adj. R-squared:                  0.123\n",
      "Method:                   Least Squares   F-statistic:                     53.38\n",
      "Date:                  Sat, 05 Dec 2020   Prob (F-statistic):          2.38e-130\n",
      "Time:                          21:29:53   Log-Likelihood:                -18855.\n",
      "No. Observations:                  4855   AIC:                         3.774e+04\n",
      "Df Residuals:                      4841   BIC:                         3.783e+04\n",
      "Df Model:                            13                                         \n",
      "Covariance Type:              nonrobust                                         \n",
      "=============================================================================================\n",
      "                                coef    std err          t      P>|t|      [0.025      0.975]\n",
      "---------------------------------------------------------------------------------------------\n",
      "Intercept                    85.2048      0.856     99.521      0.000      83.526      86.883\n",
      "host_is_superhost[T.True]     6.6982      0.452     14.805      0.000       5.811       7.585\n",
      "instant_bookable[T.True]     -0.7655      0.362     -2.114      0.035      -1.475      -0.055\n",
      "room_type[T.Hotel room]       4.5177      1.125      4.016      0.000       2.312       6.723\n",
      "room_type[T.Private room]     0.2299      0.504      0.456      0.649      -0.759       1.218\n",
      "room_type[T.Shared room]     -4.2762      2.484     -1.721      0.085      -9.147       0.594\n",
      "host_about                    0.0064      0.002      3.173      0.002       0.002       0.010\n",
      "host_response_rate           -0.0362      0.007     -5.145      0.000      -0.050      -0.022\n",
      "host_total_listings_count    -0.0021      0.003     -0.686      0.493      -0.008       0.004\n",
      "accommodates                 -0.0500      0.080     -0.628      0.530      -0.206       0.106\n",
      "amenities                     0.1876      0.022      8.586      0.000       0.145       0.230\n",
      "price                         0.0022      0.001      2.499      0.013       0.000       0.004\n",
      "minimum_nights                0.0486      0.009      5.238      0.000       0.030       0.067\n",
      "number_of_reviews             0.0144      0.002      7.282      0.000       0.011       0.018\n",
      "==============================================================================\n",
      "Omnibus:                     2831.722   Durbin-Watson:                   1.947\n",
      "Prob(Omnibus):                  0.000   Jarque-Bera (JB):            28981.402\n",
      "Skew:                          -2.648   Prob(JB):                         0.00\n",
      "Kurtosis:                      13.734   Cond. No.                     3.58e+03\n",
      "==============================================================================\n",
      "\n",
      "Notes:\n",
      "[1] Standard Errors assume that the covariance matrix of the errors is correctly specified.\n",
      "[2] The condition number is large, 3.58e+03. This might indicate that there are\n",
      "strong multicollinearity or other numerical problems.\n"
     ]
    }
   ],
   "source": [
    "# Selecting model\n",
    "import statsmodels.formula.api as smf\n",
    "from statsmodels.iolib.summary2 import summary_col\n",
    "# df.info()\n",
    "# df.describe()\n",
    "# df.columns.values\n",
    "mod1 = sm.formula.ols('''review_scores_rating ~ host_about + host_response_rate +\n",
    "host_total_listings_count + accommodates + amenities + price+ minimum_nights + number_of_reviews\n",
    "+ host_is_superhost + instant_bookable+ room_type''', df1)\n",
    "res = mod1.fit()\n",
    "#model_case_annual_policies.summary()\n",
    "print(res.summary())"
   ]
  },
  {
   "cell_type": "code",
   "execution_count": 64,
   "metadata": {},
   "outputs": [],
   "source": [
    "import numpy as np\n",
    "import statsmodels.api as sm\n",
    "from statsmodels.formula.api import ols"
   ]
  },
  {
   "cell_type": "code",
   "execution_count": 65,
   "metadata": {},
   "outputs": [
    {
     "data": {
      "image/png": "[encoded data removed]",
      "text/plain": [
       "<Figure size 432x288 with 1 Axes>"
      ]
     },
     "metadata": {
      "needs_background": "light"
     },
     "output_type": "display_data"
    }
   ],
   "source": [
    "plt.scatter(res.fittedvalues, res.resid)\n",
    "# adding title and labels\n",
    "plt.xlabel('Fitted')\n",
    "plt.ylabel('Residual')\n",
    "plt.title('Residual vs. Fitted Plot')\n",
    "plt.show()"
   ]
  },
  {
   "cell_type": "markdown",
   "metadata": {},
   "source": [
    "### refine the model"
   ]
  },
  {
   "cell_type": "code",
   "execution_count": 67,
   "metadata": {},
   "outputs": [
    {
     "name": "stdout",
     "output_type": "stream",
     "text": [
      "<class 'pandas.core.frame.DataFrame'>\n",
      "RangeIndex: 4855 entries, 0 to 4854\n",
      "Data columns (total 9 columns):\n",
      " #   Column                Non-Null Count  Dtype  \n",
      "---  ------                --------------  -----  \n",
      " 0   host_about            4855 non-null   int64  \n",
      " 1   host_response_rate    4855 non-null   float64\n",
      " 2   host_is_superhost     4855 non-null   bool   \n",
      " 3   amenities             4855 non-null   int64  \n",
      " 4   price                 4855 non-null   float64\n",
      " 5   minimum_nights        4855 non-null   int64  \n",
      " 6   number_of_reviews     4855 non-null   int64  \n",
      " 7   review_scores_rating  4855 non-null   float64\n",
      " 8   instant_bookable      4855 non-null   bool   \n",
      "dtypes: bool(2), float64(3), int64(4)\n",
      "memory usage: 275.1 KB\n"
     ]
    }
   ],
   "source": [
    "refine_fields=['host_about','host_response_rate','amenities', 'price','minimum_nights','number_of_reviews',\n",
    "            'review_scores_rating','host_is_superhost','instant_bookable']\n",
    "\n",
    "df2=pd.read_csv('data_cleaning.csv',usecols=refine_fields)\n",
    "df2.info()"
   ]
  },
  {
   "cell_type": "code",
   "execution_count": 72,
   "metadata": {},
   "outputs": [
    {
     "name": "stdout",
     "output_type": "stream",
     "text": [
      "                             OLS Regression Results                             \n",
      "================================================================================\n",
      "Dep. Variable:     review_scores_rating   R-squared:                       0.121\n",
      "Model:                              OLS   Adj. R-squared:                  0.120\n",
      "Method:                   Least Squares   F-statistic:                     83.56\n",
      "Date:                  Sat, 05 Dec 2020   Prob (F-statistic):          4.40e-130\n",
      "Time:                          21:51:14   Log-Likelihood:                -18866.\n",
      "No. Observations:                  4855   AIC:                         3.775e+04\n",
      "Df Residuals:                      4846   BIC:                         3.781e+04\n",
      "Df Model:                             8                                         \n",
      "Covariance Type:              nonrobust                                         \n",
      "=============================================================================================\n",
      "                                coef    std err          t      P>|t|      [0.025      0.975]\n",
      "---------------------------------------------------------------------------------------------\n",
      "Intercept                    85.1563      0.694    122.744      0.000      83.796      86.516\n",
      "host_is_superhost[T.True]     6.9183      0.442     15.659      0.000       6.052       7.784\n",
      "instant_bookable[T.True]     -0.7154      0.354     -2.019      0.044      -1.410      -0.021\n",
      "host_about                    0.0075      0.002      3.859      0.000       0.004       0.011\n",
      "host_response_rate           -0.0385      0.007     -5.674      0.000      -0.052      -0.025\n",
      "amenities                     0.1830      0.021      8.688      0.000       0.142       0.224\n",
      "price                         0.0023      0.001      2.727      0.006       0.001       0.004\n",
      "minimum_nights                0.0505      0.009      5.698      0.000       0.033       0.068\n",
      "number_of_reviews             0.0144      0.002      7.412      0.000       0.011       0.018\n",
      "==============================================================================\n",
      "Omnibus:                     2819.049   Durbin-Watson:                   1.943\n",
      "Prob(Omnibus):                  0.000   Jarque-Bera (JB):            28466.782\n",
      "Skew:                          -2.637   Prob(JB):                         0.00\n",
      "Kurtosis:                      13.625   Cond. No.                     1.01e+03\n",
      "==============================================================================\n",
      "\n",
      "Notes:\n",
      "[1] Standard Errors assume that the covariance matrix of the errors is correctly specified.\n",
      "[2] The condition number is large, 1.01e+03. This might indicate that there are\n",
      "strong multicollinearity or other numerical problems.\n"
     ]
    }
   ],
   "source": [
    "# Selecting model\n",
    "import statsmodels.formula.api as smf\n",
    "from statsmodels.iolib.summary2 import summary_col\n",
    "# df.info()\n",
    "# df.describe()\n",
    "# df.columns.values\n",
    "mod2 = sm.formula.ols('''review_scores_rating ~ host_about + host_response_rate + amenities + price+ minimum_nights + number_of_reviews\n",
    "+ host_is_superhost + instant_bookable''', df2)\n",
    "res2 = mod2.fit()\n",
    "#model_case_annual_policies.summary()\n",
    "print(res2.summary())"
   ]
  },
  {
   "cell_type": "code",
   "execution_count": 70,
   "metadata": {},
   "outputs": [],
   "source": [
    "import numpy as np\n",
    "import statsmodels.api as sm\n",
    "from statsmodels.formula.api import ols"
   ]
  },
  {
   "cell_type": "code",
   "execution_count": 73,
   "metadata": {},
   "outputs": [
    {
     "data": {
      "image/png": "[encoded data removed]",
      "text/plain": [
       "<Figure size 432x288 with 1 Axes>"
      ]
     },
     "metadata": {
      "needs_background": "light"
     },
     "output_type": "display_data"
    }
   ],
   "source": [
    "plt.scatter(res2.fittedvalues, res2.resid)\n",
    "# adding title and labels\n",
    "plt.xlabel('Fitted')\n",
    "plt.ylabel('Residual')\n",
    "plt.title('Residual vs. Fitted Plot')\n",
    "plt.show()"
   ]
  }
 ],
 "metadata": {
  "kernelspec": {
   "display_name": "CASA2020",
   "language": "python",
   "name": "sds2020"
  },
  "language_info": {
   "codemirror_mode": {
    "name": "ipython",
    "version": 3
   },
   "file_extension": ".py",
   "mimetype": "text/x-python",
   "name": "python",
   "nbconvert_exporter": "python",
   "pygments_lexer": "ipython3",
   "version": "3.7.8"
  }
 },
 "nbformat": 4,
 "nbformat_minor": 4
}
