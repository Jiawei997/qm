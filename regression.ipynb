{
 "cells": [
  {
   "cell_type": "markdown",
   "metadata": {},
   "source": [
    "### Data cleaning and data converting"
   ]
  },
  {
   "cell_type": "markdown",
   "metadata": {},
   "source": [
    "## NAN data"
   ]
  },
  {
   "cell_type": "code",
   "execution_count": 1,
   "metadata": {},
   "outputs": [],
   "source": [
    "import os\n",
    "import pandas as pd\n",
    "\n",
    "import numpy as np\n",
    "import statsmodels.api as sm\n",
    "from statsmodels.formula.api import ols\n",
    "\n",
    "import statsmodels.formula.api as smf\n",
    "import statsmodels.api as sm\n",
    "%matplotlib inline\n",
    "\n",
    "import matplotlib.pyplot as plt\n",
    "import numpy as np\n",
    "import pandas as pd\n",
    "import scipy as sp\n",
    "\n",
    "import scipy.stats as sps\n",
    "import numpy as np\n",
    "import statsmodels.api as sm\n",
    "from statsmodels.formula.api import ols"
   ]
  },
  {
   "cell_type": "code",
   "execution_count": 85,
   "metadata": {},
   "outputs": [
    {
     "name": "stdout",
     "output_type": "stream",
     "text": [
      "(19896, 12)\n"
     ]
    }
   ],
   "source": [
    "cols = ['id', 'listing_url', 'last_scraped', 'name', 'description', 'host_id', 'host_name', 'host_since', \n",
    "        'host_location', 'host_about', 'host_response_rate', 'host_acceptance_rate', 'host_is_superhost', \n",
    "        'host_listings_count', 'host_total_listings_count', 'host_verifications', 'latitude', 'longitude', \n",
    "        'property_type', 'room_type', 'accommodates', 'bathrooms', 'bathrooms_text', 'bedrooms', 'beds', \n",
    "        'amenities', 'price', 'minimum_nights', 'maximum_nights', 'availability_365', 'number_of_reviews', \n",
    "        'first_review', 'last_review', 'review_scores_rating', 'review_scores_cleanliness', \n",
    "        'review_scores_checkin', 'review_scores_communication', 'review_scores_location', 'license', \n",
    "        'instant_bookable', 'calculated_host_listings_count', 'reviews_per_month']\n",
    "\n",
    "key_fields=['host_about','host_response_rate','host_total_listings_count',\n",
    "            'accommodates','amenities', 'price','minimum_nights','number_of_reviews',\n",
    "            'review_scores_rating','room_type','host_is_superhost','instant_bookable']\n",
    "\n",
    "df = pd.read_csv('listings.csv',usecols=key_fields)\n",
    "df['price'] = df.price.str.replace('$','').str.replace(',','').astype(float)\n",
    "df['host_response_rate'] = df.host_response_rate.str.replace('%','').astype(float)\n",
    "print(df.shape)"
   ]
  },
  {
   "cell_type": "code",
   "execution_count": 108,
   "metadata": {},
   "outputs": [
    {
     "data": {
      "text/html": [
       "<div>\n",
       "<style scoped>\n",
       "    .dataframe tbody tr th:only-of-type {\n",
       "        vertical-align: middle;\n",
       "    }\n",
       "\n",
       "    .dataframe tbody tr th {\n",
       "        vertical-align: top;\n",
       "    }\n",
       "\n",
       "    .dataframe thead th {\n",
       "        text-align: right;\n",
       "    }\n",
       "</style>\n",
       "<table border=\"1\" class=\"dataframe\">\n",
       "  <thead>\n",
       "    <tr style=\"text-align: right;\">\n",
       "      <th></th>\n",
       "      <th>host_about</th>\n",
       "      <th>host_response_rate</th>\n",
       "      <th>host_is_superhost</th>\n",
       "      <th>host_total_listings_count</th>\n",
       "      <th>room_type</th>\n",
       "      <th>accommodates</th>\n",
       "      <th>amenities</th>\n",
       "      <th>price</th>\n",
       "      <th>minimum_nights</th>\n",
       "      <th>number_of_reviews</th>\n",
       "      <th>review_scores_rating</th>\n",
       "      <th>instant_bookable</th>\n",
       "    </tr>\n",
       "  </thead>\n",
       "  <tbody>\n",
       "    <tr>\n",
       "      <th>0</th>\n",
       "      <td>Hello I am a Professional designer, a traveler...</td>\n",
       "      <td>100.0</td>\n",
       "      <td>f</td>\n",
       "      <td>3.0</td>\n",
       "      <td>Private room</td>\n",
       "      <td>2</td>\n",
       "      <td>[\"Kitchen\", \"Essentials\", \"Cable TV\", \"Air con...</td>\n",
       "      <td>55.0</td>\n",
       "      <td>3</td>\n",
       "      <td>2</td>\n",
       "      <td>100.0</td>\n",
       "      <td>f</td>\n",
       "    </tr>\n",
       "    <tr>\n",
       "      <th>1</th>\n",
       "      <td>Hi.  I'm Etain, though everyone calls me by my...</td>\n",
       "      <td>100.0</td>\n",
       "      <td>t</td>\n",
       "      <td>6.0</td>\n",
       "      <td>Entire home/apt</td>\n",
       "      <td>6</td>\n",
       "      <td>[\"Bed linens\", \"Cooking basics\", \"Heating\", \"L...</td>\n",
       "      <td>180.0</td>\n",
       "      <td>3</td>\n",
       "      <td>52</td>\n",
       "      <td>95.0</td>\n",
       "      <td>t</td>\n",
       "    </tr>\n",
       "    <tr>\n",
       "      <th>2</th>\n",
       "      <td>I'm Nick your English host in Barcelona.\\r\\n\\r...</td>\n",
       "      <td>100.0</td>\n",
       "      <td>f</td>\n",
       "      <td>5.0</td>\n",
       "      <td>Entire home/apt</td>\n",
       "      <td>6</td>\n",
       "      <td>[\"Elevator\", \"Hot water\", \"Hangers\", \"Stove\", ...</td>\n",
       "      <td>109.0</td>\n",
       "      <td>2</td>\n",
       "      <td>63</td>\n",
       "      <td>86.0</td>\n",
       "      <td>t</td>\n",
       "    </tr>\n",
       "    <tr>\n",
       "      <th>3</th>\n",
       "      <td>Hello I am a Professional designer, a traveler...</td>\n",
       "      <td>100.0</td>\n",
       "      <td>f</td>\n",
       "      <td>3.0</td>\n",
       "      <td>Private room</td>\n",
       "      <td>2</td>\n",
       "      <td>[\"Kitchen\", \"Cable TV\", \"Air conditioning\", \"E...</td>\n",
       "      <td>40.0</td>\n",
       "      <td>30</td>\n",
       "      <td>8</td>\n",
       "      <td>68.0</td>\n",
       "      <td>f</td>\n",
       "    </tr>\n",
       "    <tr>\n",
       "      <th>4</th>\n",
       "      <td>Hello I am a Professional designer, a traveler...</td>\n",
       "      <td>100.0</td>\n",
       "      <td>f</td>\n",
       "      <td>3.0</td>\n",
       "      <td>Entire home/apt</td>\n",
       "      <td>9</td>\n",
       "      <td>[\"Elevator\", \"Hot water\", \"Host greets you\", \"...</td>\n",
       "      <td>131.0</td>\n",
       "      <td>4</td>\n",
       "      <td>149</td>\n",
       "      <td>91.0</td>\n",
       "      <td>t</td>\n",
       "    </tr>\n",
       "  </tbody>\n",
       "</table>\n",
       "</div>"
      ],
      "text/plain": [
       "                                          host_about  host_response_rate  \\\n",
       "0  Hello I am a Professional designer, a traveler...               100.0   \n",
       "1  Hi.  I'm Etain, though everyone calls me by my...               100.0   \n",
       "2  I'm Nick your English host in Barcelona.\\r\\n\\r...               100.0   \n",
       "3  Hello I am a Professional designer, a traveler...               100.0   \n",
       "4  Hello I am a Professional designer, a traveler...               100.0   \n",
       "\n",
       "  host_is_superhost  host_total_listings_count        room_type  accommodates  \\\n",
       "0                 f                        3.0     Private room             2   \n",
       "1                 t                        6.0  Entire home/apt             6   \n",
       "2                 f                        5.0  Entire home/apt             6   \n",
       "3                 f                        3.0     Private room             2   \n",
       "4                 f                        3.0  Entire home/apt             9   \n",
       "\n",
       "                                           amenities  price  minimum_nights  \\\n",
       "0  [\"Kitchen\", \"Essentials\", \"Cable TV\", \"Air con...   55.0               3   \n",
       "1  [\"Bed linens\", \"Cooking basics\", \"Heating\", \"L...  180.0               3   \n",
       "2  [\"Elevator\", \"Hot water\", \"Hangers\", \"Stove\", ...  109.0               2   \n",
       "3  [\"Kitchen\", \"Cable TV\", \"Air conditioning\", \"E...   40.0              30   \n",
       "4  [\"Elevator\", \"Hot water\", \"Host greets you\", \"...  131.0               4   \n",
       "\n",
       "   number_of_reviews  review_scores_rating instant_bookable  \n",
       "0                  2                 100.0                f  \n",
       "1                 52                  95.0                t  \n",
       "2                 63                  86.0                t  \n",
       "3                  8                  68.0                f  \n",
       "4                149                  91.0                t  "
      ]
     },
     "execution_count": 108,
     "metadata": {},
     "output_type": "execute_result"
    }
   ],
   "source": [
    "df.head()"
   ]
  },
  {
   "cell_type": "markdown",
   "metadata": {},
   "source": [
    "### text data"
   ]
  },
  {
   "cell_type": "code",
   "execution_count": 3,
   "metadata": {},
   "outputs": [],
   "source": [
    "def calculation(col_list,col_len,df_col,delimiter:'str'):\n",
    "    col_list\n",
    "    for i in df_col:\n",
    "    \n",
    "        if isinstance(i, str)== False:\n",
    "            j=str(i)\n",
    "            col_list.append(j.split(delimiter))\n",
    "    \n",
    "        else:\n",
    "            col_list.append(i.split(delimiter))\n",
    "    \n",
    "    col_len\n",
    "    for k in col_list:\n",
    "        p=len(k)\n",
    "        col_len.append(p)  "
   ]
  },
  {
   "cell_type": "code",
   "execution_count": 4,
   "metadata": {},
   "outputs": [
    {
     "name": "stdout",
     "output_type": "stream",
     "text": [
      "<class 'list'>\n",
      "Hello\n",
      "18\n",
      "['Hello', 'I', 'am', 'a', 'Professional', 'designer,', 'a', 'traveler,', 'an', 'entrepreneur.', 'I', 'try', 'always', 'to', 'find', 'a', 'solution.', '']\n"
     ]
    }
   ],
   "source": [
    "# for host about\n",
    "host_about_list=[]\n",
    "host_about_len=[]\n",
    "\n",
    "calculation(host_about_list,host_about_len,df.host_about,\" \")\n",
    "\n",
    "print(type(host_about_list))\n",
    "print(host_about_list[0][0])\n",
    "print(host_about_len[0])\n",
    "print(host_about_list[0])"
   ]
  },
  {
   "cell_type": "code",
   "execution_count": 5,
   "metadata": {},
   "outputs": [
    {
     "name": "stdout",
     "output_type": "stream",
     "text": [
      "<class 'list'>\n",
      "[\"Kitchen\"\n",
      "13\n",
      "['[\"Kitchen\"', ' \"Essentials\"', ' \"Cable TV\"', ' \"Air conditioning\"', ' \"Washer\"', ' \"Elevator\"', ' \"Dryer\"', ' \"Wifi\"', ' \"TV\"', ' \"Heating\"', ' \"Smoke alarm\"', ' \"Fire extinguisher\"', ' \"Carbon monoxide alarm\"]']\n"
     ]
    }
   ],
   "source": [
    "# for amentities \n",
    "amenities_list=[]\n",
    "amenities_len=[]\n",
    "\n",
    "calculation(amenities_list,amenities_len,df.amenities,\",\")\n",
    "\n",
    "print(type(amenities_list))\n",
    "print(amenities_list[0][0])\n",
    "print(amenities_len[0])\n",
    "print(amenities_list[0])"
   ]
  },
  {
   "cell_type": "code",
   "execution_count": 6,
   "metadata": {},
   "outputs": [],
   "source": [
    "df['host_about'] = host_about_len\n",
    "df['amenities'] = amenities_len"
   ]
  },
  {
   "cell_type": "code",
   "execution_count": 7,
   "metadata": {},
   "outputs": [
    {
     "data": {
      "text/html": [
       "<div>\n",
       "<style scoped>\n",
       "    .dataframe tbody tr th:only-of-type {\n",
       "        vertical-align: middle;\n",
       "    }\n",
       "\n",
       "    .dataframe tbody tr th {\n",
       "        vertical-align: top;\n",
       "    }\n",
       "\n",
       "    .dataframe thead th {\n",
       "        text-align: right;\n",
       "    }\n",
       "</style>\n",
       "<table border=\"1\" class=\"dataframe\">\n",
       "  <thead>\n",
       "    <tr style=\"text-align: right;\">\n",
       "      <th></th>\n",
       "      <th>amenities</th>\n",
       "      <th>host_about</th>\n",
       "    </tr>\n",
       "  </thead>\n",
       "  <tbody>\n",
       "    <tr>\n",
       "      <th>9507</th>\n",
       "      <td>31</td>\n",
       "      <td>7</td>\n",
       "    </tr>\n",
       "    <tr>\n",
       "      <th>1512</th>\n",
       "      <td>31</td>\n",
       "      <td>30</td>\n",
       "    </tr>\n",
       "    <tr>\n",
       "      <th>17433</th>\n",
       "      <td>7</td>\n",
       "      <td>5</td>\n",
       "    </tr>\n",
       "    <tr>\n",
       "      <th>8477</th>\n",
       "      <td>13</td>\n",
       "      <td>1</td>\n",
       "    </tr>\n",
       "  </tbody>\n",
       "</table>\n",
       "</div>"
      ],
      "text/plain": [
       "       amenities  host_about\n",
       "9507          31           7\n",
       "1512          31          30\n",
       "17433          7           5\n",
       "8477          13           1"
      ]
     },
     "execution_count": 7,
     "metadata": {},
     "output_type": "execute_result"
    }
   ],
   "source": [
    "df.sample(4, random_state=42)[['amenities','host_about']]"
   ]
  },
  {
   "cell_type": "markdown",
   "metadata": {},
   "source": [
    "### boolean data"
   ]
  },
  {
   "cell_type": "code",
   "execution_count": 8,
   "metadata": {},
   "outputs": [
    {
     "data": {
      "text/html": [
       "<div>\n",
       "<style scoped>\n",
       "    .dataframe tbody tr th:only-of-type {\n",
       "        vertical-align: middle;\n",
       "    }\n",
       "\n",
       "    .dataframe tbody tr th {\n",
       "        vertical-align: top;\n",
       "    }\n",
       "\n",
       "    .dataframe thead th {\n",
       "        text-align: right;\n",
       "    }\n",
       "</style>\n",
       "<table border=\"1\" class=\"dataframe\">\n",
       "  <thead>\n",
       "    <tr style=\"text-align: right;\">\n",
       "      <th></th>\n",
       "      <th>instant_bookable</th>\n",
       "      <th>host_is_superhost</th>\n",
       "    </tr>\n",
       "  </thead>\n",
       "  <tbody>\n",
       "    <tr>\n",
       "      <th>0</th>\n",
       "      <td>f</td>\n",
       "      <td>f</td>\n",
       "    </tr>\n",
       "    <tr>\n",
       "      <th>1</th>\n",
       "      <td>t</td>\n",
       "      <td>t</td>\n",
       "    </tr>\n",
       "    <tr>\n",
       "      <th>2</th>\n",
       "      <td>t</td>\n",
       "      <td>f</td>\n",
       "    </tr>\n",
       "    <tr>\n",
       "      <th>3</th>\n",
       "      <td>f</td>\n",
       "      <td>f</td>\n",
       "    </tr>\n",
       "    <tr>\n",
       "      <th>4</th>\n",
       "      <td>t</td>\n",
       "      <td>f</td>\n",
       "    </tr>\n",
       "    <tr>\n",
       "      <th>...</th>\n",
       "      <td>...</td>\n",
       "      <td>...</td>\n",
       "    </tr>\n",
       "    <tr>\n",
       "      <th>19891</th>\n",
       "      <td>f</td>\n",
       "      <td>f</td>\n",
       "    </tr>\n",
       "    <tr>\n",
       "      <th>19892</th>\n",
       "      <td>t</td>\n",
       "      <td>f</td>\n",
       "    </tr>\n",
       "    <tr>\n",
       "      <th>19893</th>\n",
       "      <td>f</td>\n",
       "      <td>f</td>\n",
       "    </tr>\n",
       "    <tr>\n",
       "      <th>19894</th>\n",
       "      <td>f</td>\n",
       "      <td>f</td>\n",
       "    </tr>\n",
       "    <tr>\n",
       "      <th>19895</th>\n",
       "      <td>t</td>\n",
       "      <td>f</td>\n",
       "    </tr>\n",
       "  </tbody>\n",
       "</table>\n",
       "<p>19896 rows × 2 columns</p>\n",
       "</div>"
      ],
      "text/plain": [
       "      instant_bookable host_is_superhost\n",
       "0                    f                 f\n",
       "1                    t                 t\n",
       "2                    t                 f\n",
       "3                    f                 f\n",
       "4                    t                 f\n",
       "...                ...               ...\n",
       "19891                f                 f\n",
       "19892                t                 f\n",
       "19893                f                 f\n",
       "19894                f                 f\n",
       "19895                t                 f\n",
       "\n",
       "[19896 rows x 2 columns]"
      ]
     },
     "execution_count": 8,
     "metadata": {},
     "output_type": "execute_result"
    }
   ],
   "source": [
    "bools = ['instant_bookable','host_is_superhost']\n",
    "df[bools]"
   ]
  },
  {
   "cell_type": "code",
   "execution_count": 9,
   "metadata": {},
   "outputs": [
    {
     "data": {
      "text/html": [
       "<div>\n",
       "<style scoped>\n",
       "    .dataframe tbody tr th:only-of-type {\n",
       "        vertical-align: middle;\n",
       "    }\n",
       "\n",
       "    .dataframe tbody tr th {\n",
       "        vertical-align: top;\n",
       "    }\n",
       "\n",
       "    .dataframe thead th {\n",
       "        text-align: right;\n",
       "    }\n",
       "</style>\n",
       "<table border=\"1\" class=\"dataframe\">\n",
       "  <thead>\n",
       "    <tr style=\"text-align: right;\">\n",
       "      <th></th>\n",
       "      <th>instant_bookable</th>\n",
       "      <th>host_is_superhost</th>\n",
       "    </tr>\n",
       "  </thead>\n",
       "  <tbody>\n",
       "    <tr>\n",
       "      <th>9507</th>\n",
       "      <td>True</td>\n",
       "      <td>False</td>\n",
       "    </tr>\n",
       "    <tr>\n",
       "      <th>1512</th>\n",
       "      <td>False</td>\n",
       "      <td>False</td>\n",
       "    </tr>\n",
       "    <tr>\n",
       "      <th>17433</th>\n",
       "      <td>True</td>\n",
       "      <td>True</td>\n",
       "    </tr>\n",
       "  </tbody>\n",
       "</table>\n",
       "</div>"
      ],
      "text/plain": [
       "       instant_bookable  host_is_superhost\n",
       "9507               True              False\n",
       "1512              False              False\n",
       "17433              True               True"
      ]
     },
     "execution_count": 9,
     "metadata": {},
     "output_type": "execute_result"
    }
   ],
   "source": [
    "bools = ['instant_bookable','host_is_superhost']\n",
    "key={'t':True,'f':False}\n",
    "for b in bools:\n",
    "    df[b] = df[b].replace(key).astype('bool')\n",
    "df.sample(3, random_state=42)[bools]"
   ]
  },
  {
   "cell_type": "code",
   "execution_count": 10,
   "metadata": {},
   "outputs": [
    {
     "name": "stdout",
     "output_type": "stream",
     "text": [
      "<class 'pandas.core.frame.DataFrame'>\n",
      "RangeIndex: 19896 entries, 0 to 19895\n",
      "Data columns (total 12 columns):\n",
      " #   Column                     Non-Null Count  Dtype  \n",
      "---  ------                     --------------  -----  \n",
      " 0   host_about                 19896 non-null  int64  \n",
      " 1   host_response_rate         12409 non-null  float64\n",
      " 2   host_is_superhost          19896 non-null  bool   \n",
      " 3   host_total_listings_count  19889 non-null  float64\n",
      " 4   room_type                  19896 non-null  object \n",
      " 5   accommodates               19896 non-null  int64  \n",
      " 6   amenities                  19896 non-null  int64  \n",
      " 7   price                      19896 non-null  float64\n",
      " 8   minimum_nights             19896 non-null  int64  \n",
      " 9   number_of_reviews          19896 non-null  int64  \n",
      " 10  review_scores_rating       13773 non-null  float64\n",
      " 11  instant_bookable           19896 non-null  bool   \n",
      "dtypes: bool(2), float64(4), int64(5), object(1)\n",
      "memory usage: 1.6+ MB\n"
     ]
    }
   ],
   "source": [
    "df.info()"
   ]
  },
  {
   "cell_type": "code",
   "execution_count": 11,
   "metadata": {},
   "outputs": [],
   "source": [
    "### categorical data"
   ]
  },
  {
   "cell_type": "code",
   "execution_count": 12,
   "metadata": {},
   "outputs": [],
   "source": [
    "df['room_type']=df['room_type'].astype('category')"
   ]
  },
  {
   "cell_type": "code",
   "execution_count": 13,
   "metadata": {},
   "outputs": [
    {
     "name": "stdout",
     "output_type": "stream",
     "text": [
      "<class 'pandas.core.frame.DataFrame'>\n",
      "RangeIndex: 19896 entries, 0 to 19895\n",
      "Data columns (total 12 columns):\n",
      " #   Column                     Non-Null Count  Dtype   \n",
      "---  ------                     --------------  -----   \n",
      " 0   host_about                 19896 non-null  int64   \n",
      " 1   host_response_rate         12409 non-null  float64 \n",
      " 2   host_is_superhost          19896 non-null  bool    \n",
      " 3   host_total_listings_count  19889 non-null  float64 \n",
      " 4   room_type                  19896 non-null  category\n",
      " 5   accommodates               19896 non-null  int64   \n",
      " 6   amenities                  19896 non-null  int64   \n",
      " 7   price                      19896 non-null  float64 \n",
      " 8   minimum_nights             19896 non-null  int64   \n",
      " 9   number_of_reviews          19896 non-null  int64   \n",
      " 10  review_scores_rating       13773 non-null  float64 \n",
      " 11  instant_bookable           19896 non-null  bool    \n",
      "dtypes: bool(2), category(1), float64(4), int64(5)\n",
      "memory usage: 1.4 MB\n"
     ]
    }
   ],
   "source": [
    "# check out the new dataFrame\n",
    "df.info()"
   ]
  },
  {
   "cell_type": "markdown",
   "metadata": {},
   "source": [
    "### drop nan"
   ]
  },
  {
   "cell_type": "code",
   "execution_count": 14,
   "metadata": {},
   "outputs": [
    {
     "name": "stdout",
     "output_type": "stream",
     "text": [
      "(8874, 12)\n"
     ]
    }
   ],
   "source": [
    "'''df.drop(index=(df[(df.host_about.isna()) | (df.host_response_rate.isna()) \n",
    "                  | (df.host_is_superhost.isna())|(df.host_total_listings_count.isna())\n",
    "                 |(df.room_type.isna())|(df.accommodates.isna())|(df.amenities.isna())\n",
    "                 |(df.price.isna())|(df.minimum_nights.isna())|(df.number_of_reviews.isna())\n",
    "                 |(df.instant_bookable.isna())|(df.review_scores_rating.isna())].index), inplace=True)\n",
    "print(df.shape)'''\n",
    "df.dropna(inplace=True)\n",
    "print(df.shape)"
   ]
  },
  {
   "cell_type": "markdown",
   "metadata": {},
   "source": [
    "### outlier"
   ]
  },
  {
   "cell_type": "code",
   "execution_count": 15,
   "metadata": {},
   "outputs": [
    {
     "name": "stdout",
     "output_type": "stream",
     "text": [
      "host_about                   85.0\n",
      "host_response_rate            9.0\n",
      "host_total_listings_count    19.0\n",
      "accommodates                  3.0\n",
      "amenities                    13.0\n",
      "price                        67.0\n",
      "minimum_nights                4.0\n",
      "number_of_reviews            66.0\n",
      "review_scores_rating          9.0\n",
      "dtype: float64\n"
     ]
    },
    {
     "data": {
      "text/plain": [
       "(4019, 12)"
      ]
     },
     "execution_count": 15,
     "metadata": {},
     "output_type": "execute_result"
    }
   ],
   "source": [
    "numerical=['host_about','host_response_rate','host_total_listings_count',\n",
    "            'accommodates','amenities', 'price','minimum_nights','number_of_reviews',\n",
    "            'review_scores_rating']\n",
    "df_o1 = df[numerical]\n",
    "Q1 = df_o1.quantile(0.25)\n",
    "Q3 = df_o1.quantile(0.75)\n",
    "IQR = Q3 - Q1\n",
    "print(IQR)\n",
    "\n",
    "df_out = df[~((df_o1 < (Q1 - 1.5 * IQR)) |(df_o1 > (Q3 + 1.5 * IQR))).any(axis=1)]\n",
    "df_out.shape"
   ]
  },
  {
   "cell_type": "code",
   "execution_count": 16,
   "metadata": {},
   "outputs": [
    {
     "data": {
      "text/html": [
       "<div>\n",
       "<style scoped>\n",
       "    .dataframe tbody tr th:only-of-type {\n",
       "        vertical-align: middle;\n",
       "    }\n",
       "\n",
       "    .dataframe tbody tr th {\n",
       "        vertical-align: top;\n",
       "    }\n",
       "\n",
       "    .dataframe thead th {\n",
       "        text-align: right;\n",
       "    }\n",
       "</style>\n",
       "<table border=\"1\" class=\"dataframe\">\n",
       "  <thead>\n",
       "    <tr style=\"text-align: right;\">\n",
       "      <th></th>\n",
       "      <th>host_about</th>\n",
       "      <th>host_response_rate</th>\n",
       "      <th>host_total_listings_count</th>\n",
       "      <th>accommodates</th>\n",
       "      <th>amenities</th>\n",
       "      <th>price</th>\n",
       "      <th>minimum_nights</th>\n",
       "      <th>number_of_reviews</th>\n",
       "      <th>review_scores_rating</th>\n",
       "    </tr>\n",
       "  </thead>\n",
       "  <tbody>\n",
       "    <tr>\n",
       "      <th>count</th>\n",
       "      <td>4019.000000</td>\n",
       "      <td>4019.000000</td>\n",
       "      <td>4019.000000</td>\n",
       "      <td>4019.000000</td>\n",
       "      <td>4019.000000</td>\n",
       "      <td>4019.000000</td>\n",
       "      <td>4019.000000</td>\n",
       "      <td>4019.000000</td>\n",
       "      <td>4019.000000</td>\n",
       "    </tr>\n",
       "    <tr>\n",
       "      <th>mean</th>\n",
       "      <td>40.890271</td>\n",
       "      <td>97.770092</td>\n",
       "      <td>7.867380</td>\n",
       "      <td>3.472257</td>\n",
       "      <td>22.805175</td>\n",
       "      <td>68.230654</td>\n",
       "      <td>2.190595</td>\n",
       "      <td>45.803434</td>\n",
       "      <td>92.790495</td>\n",
       "    </tr>\n",
       "    <tr>\n",
       "      <th>std</th>\n",
       "      <td>50.214450</td>\n",
       "      <td>5.227659</td>\n",
       "      <td>9.828802</td>\n",
       "      <td>1.906191</td>\n",
       "      <td>8.412263</td>\n",
       "      <td>44.642307</td>\n",
       "      <td>1.395257</td>\n",
       "      <td>45.110060</td>\n",
       "      <td>5.581149</td>\n",
       "    </tr>\n",
       "    <tr>\n",
       "      <th>min</th>\n",
       "      <td>1.000000</td>\n",
       "      <td>78.000000</td>\n",
       "      <td>0.000000</td>\n",
       "      <td>1.000000</td>\n",
       "      <td>1.000000</td>\n",
       "      <td>9.710000</td>\n",
       "      <td>1.000000</td>\n",
       "      <td>1.000000</td>\n",
       "      <td>75.000000</td>\n",
       "    </tr>\n",
       "    <tr>\n",
       "      <th>25%</th>\n",
       "      <td>1.000000</td>\n",
       "      <td>100.000000</td>\n",
       "      <td>1.000000</td>\n",
       "      <td>2.000000</td>\n",
       "      <td>17.000000</td>\n",
       "      <td>30.000000</td>\n",
       "      <td>1.000000</td>\n",
       "      <td>8.000000</td>\n",
       "      <td>89.000000</td>\n",
       "    </tr>\n",
       "    <tr>\n",
       "      <th>50%</th>\n",
       "      <td>24.000000</td>\n",
       "      <td>100.000000</td>\n",
       "      <td>3.000000</td>\n",
       "      <td>3.000000</td>\n",
       "      <td>23.000000</td>\n",
       "      <td>58.000000</td>\n",
       "      <td>2.000000</td>\n",
       "      <td>30.000000</td>\n",
       "      <td>94.000000</td>\n",
       "    </tr>\n",
       "    <tr>\n",
       "      <th>75%</th>\n",
       "      <td>59.000000</td>\n",
       "      <td>100.000000</td>\n",
       "      <td>11.000000</td>\n",
       "      <td>5.000000</td>\n",
       "      <td>29.000000</td>\n",
       "      <td>96.500000</td>\n",
       "      <td>3.000000</td>\n",
       "      <td>73.000000</td>\n",
       "      <td>97.000000</td>\n",
       "    </tr>\n",
       "    <tr>\n",
       "      <th>max</th>\n",
       "      <td>213.000000</td>\n",
       "      <td>100.000000</td>\n",
       "      <td>47.000000</td>\n",
       "      <td>9.000000</td>\n",
       "      <td>48.000000</td>\n",
       "      <td>201.000000</td>\n",
       "      <td>10.000000</td>\n",
       "      <td>169.000000</td>\n",
       "      <td>100.000000</td>\n",
       "    </tr>\n",
       "  </tbody>\n",
       "</table>\n",
       "</div>"
      ],
      "text/plain": [
       "        host_about  host_response_rate  host_total_listings_count  \\\n",
       "count  4019.000000         4019.000000                4019.000000   \n",
       "mean     40.890271           97.770092                   7.867380   \n",
       "std      50.214450            5.227659                   9.828802   \n",
       "min       1.000000           78.000000                   0.000000   \n",
       "25%       1.000000          100.000000                   1.000000   \n",
       "50%      24.000000          100.000000                   3.000000   \n",
       "75%      59.000000          100.000000                  11.000000   \n",
       "max     213.000000          100.000000                  47.000000   \n",
       "\n",
       "       accommodates    amenities        price  minimum_nights  \\\n",
       "count   4019.000000  4019.000000  4019.000000     4019.000000   \n",
       "mean       3.472257    22.805175    68.230654        2.190595   \n",
       "std        1.906191     8.412263    44.642307        1.395257   \n",
       "min        1.000000     1.000000     9.710000        1.000000   \n",
       "25%        2.000000    17.000000    30.000000        1.000000   \n",
       "50%        3.000000    23.000000    58.000000        2.000000   \n",
       "75%        5.000000    29.000000    96.500000        3.000000   \n",
       "max        9.000000    48.000000   201.000000       10.000000   \n",
       "\n",
       "       number_of_reviews  review_scores_rating  \n",
       "count        4019.000000           4019.000000  \n",
       "mean           45.803434             92.790495  \n",
       "std            45.110060              5.581149  \n",
       "min             1.000000             75.000000  \n",
       "25%             8.000000             89.000000  \n",
       "50%            30.000000             94.000000  \n",
       "75%            73.000000             97.000000  \n",
       "max           169.000000            100.000000  "
      ]
     },
     "execution_count": 16,
     "metadata": {},
     "output_type": "execute_result"
    }
   ],
   "source": [
    "df_out.describe()"
   ]
  },
  {
   "cell_type": "code",
   "execution_count": 17,
   "metadata": {},
   "outputs": [
    {
     "data": {
      "text/plain": [
       "'index_name=df_out.index\\n\\ndf.drop(index_name, inplace=True)\\n\\nprint(df.shape)'"
      ]
     },
     "execution_count": 17,
     "metadata": {},
     "output_type": "execute_result"
    }
   ],
   "source": [
    "'''index_name=df_out.index\n",
    "\n",
    "df.drop(index_name, inplace=True)\n",
    "\n",
    "print(df.shape)'''"
   ]
  },
  {
   "cell_type": "code",
   "execution_count": 21,
   "metadata": {},
   "outputs": [],
   "source": [
    "df_out.to_csv('data_cleaning.csv',index=False)"
   ]
  },
  {
   "cell_type": "markdown",
   "metadata": {},
   "source": [
    "### fit the regression model"
   ]
  },
  {
   "cell_type": "code",
   "execution_count": 52,
   "metadata": {},
   "outputs": [
    {
     "name": "stdout",
     "output_type": "stream",
     "text": [
      "<class 'pandas.core.frame.DataFrame'>\n",
      "RangeIndex: 4019 entries, 0 to 4018\n",
      "Data columns (total 12 columns):\n",
      " #   Column                     Non-Null Count  Dtype  \n",
      "---  ------                     --------------  -----  \n",
      " 0   host_about                 4019 non-null   int64  \n",
      " 1   host_response_rate         4019 non-null   float64\n",
      " 2   host_is_superhost          4019 non-null   bool   \n",
      " 3   host_total_listings_count  4019 non-null   float64\n",
      " 4   room_type                  4019 non-null   object \n",
      " 5   accommodates               4019 non-null   int64  \n",
      " 6   amenities                  4019 non-null   int64  \n",
      " 7   price                      4019 non-null   float64\n",
      " 8   minimum_nights             4019 non-null   int64  \n",
      " 9   number_of_reviews          4019 non-null   int64  \n",
      " 10  review_scores_rating       4019 non-null   float64\n",
      " 11  instant_bookable           4019 non-null   bool   \n",
      "dtypes: bool(2), float64(4), int64(5), object(1)\n",
      "memory usage: 322.0+ KB\n"
     ]
    }
   ],
   "source": [
    "df1=pd.read_csv('data_cleaning.csv')\n",
    "df1.info()"
   ]
  },
  {
   "cell_type": "code",
   "execution_count": 53,
   "metadata": {},
   "outputs": [
    {
     "name": "stdout",
     "output_type": "stream",
     "text": [
      "<class 'pandas.core.frame.DataFrame'>\n",
      "RangeIndex: 4019 entries, 0 to 4018\n",
      "Data columns (total 15 columns):\n",
      " #   Column                     Non-Null Count  Dtype  \n",
      "---  ------                     --------------  -----  \n",
      " 0   host_about                 4019 non-null   int64  \n",
      " 1   host_response_rate         4019 non-null   float64\n",
      " 2   host_is_superhost          4019 non-null   bool   \n",
      " 3   host_total_listings_count  4019 non-null   float64\n",
      " 4   accommodates               4019 non-null   int64  \n",
      " 5   amenities                  4019 non-null   int64  \n",
      " 6   price                      4019 non-null   float64\n",
      " 7   minimum_nights             4019 non-null   int64  \n",
      " 8   number_of_reviews          4019 non-null   int64  \n",
      " 9   review_scores_rating       4019 non-null   float64\n",
      " 10  instant_bookable           4019 non-null   bool   \n",
      " 11  room_type_Entire home/apt  4019 non-null   uint8  \n",
      " 12  room_type_Hotel room       4019 non-null   uint8  \n",
      " 13  room_type_Private room     4019 non-null   uint8  \n",
      " 14  room_type_Shared room      4019 non-null   uint8  \n",
      "dtypes: bool(2), float64(4), int64(5), uint8(4)\n",
      "memory usage: 306.3 KB\n"
     ]
    }
   ],
   "source": [
    "df1 = pd.get_dummies(df1)\n",
    "\n",
    "df1.info()"
   ]
  },
  {
   "cell_type": "code",
   "execution_count": 54,
   "metadata": {},
   "outputs": [],
   "source": [
    "df1=df1.rename(columns={\"room_type_Shared room\": \"room_type_Shared_room\",\n",
    "                         \"room_type_Hotel room\": \"room_type_Hotel_room\",\n",
    "                        \"room_type_Private room\":\"room_type_Private_room\",\n",
    "                        \"room_type_Entire home/apt\": \"room_type_Entire_home\"})"
   ]
  },
  {
   "cell_type": "code",
   "execution_count": 22,
   "metadata": {},
   "outputs": [
    {
     "data": {
      "text/html": [
       "<div>\n",
       "<style scoped>\n",
       "    .dataframe tbody tr th:only-of-type {\n",
       "        vertical-align: middle;\n",
       "    }\n",
       "\n",
       "    .dataframe tbody tr th {\n",
       "        vertical-align: top;\n",
       "    }\n",
       "\n",
       "    .dataframe thead th {\n",
       "        text-align: right;\n",
       "    }\n",
       "</style>\n",
       "<table border=\"1\" class=\"dataframe\">\n",
       "  <thead>\n",
       "    <tr style=\"text-align: right;\">\n",
       "      <th></th>\n",
       "      <th>host_about</th>\n",
       "      <th>host_response_rate</th>\n",
       "      <th>host_total_listings_count</th>\n",
       "      <th>accommodates</th>\n",
       "      <th>amenities</th>\n",
       "      <th>price</th>\n",
       "      <th>minimum_nights</th>\n",
       "      <th>number_of_reviews</th>\n",
       "      <th>review_scores_rating</th>\n",
       "      <th>room_type_Entire home/apt</th>\n",
       "      <th>room_type_Hotel room</th>\n",
       "      <th>room_type_Private room</th>\n",
       "      <th>room_type_Shared room</th>\n",
       "    </tr>\n",
       "  </thead>\n",
       "  <tbody>\n",
       "    <tr>\n",
       "      <th>count</th>\n",
       "      <td>4019.000000</td>\n",
       "      <td>4019.000000</td>\n",
       "      <td>4019.000000</td>\n",
       "      <td>4019.000000</td>\n",
       "      <td>4019.000000</td>\n",
       "      <td>4019.000000</td>\n",
       "      <td>4019.000000</td>\n",
       "      <td>4019.000000</td>\n",
       "      <td>4019.000000</td>\n",
       "      <td>4019.000000</td>\n",
       "      <td>4019.000000</td>\n",
       "      <td>4019.000000</td>\n",
       "      <td>4019.000000</td>\n",
       "    </tr>\n",
       "    <tr>\n",
       "      <th>mean</th>\n",
       "      <td>40.890271</td>\n",
       "      <td>97.770092</td>\n",
       "      <td>7.867380</td>\n",
       "      <td>3.472257</td>\n",
       "      <td>22.805175</td>\n",
       "      <td>68.230654</td>\n",
       "      <td>2.190595</td>\n",
       "      <td>45.803434</td>\n",
       "      <td>92.790495</td>\n",
       "      <td>0.515800</td>\n",
       "      <td>0.025877</td>\n",
       "      <td>0.451854</td>\n",
       "      <td>0.006469</td>\n",
       "    </tr>\n",
       "    <tr>\n",
       "      <th>std</th>\n",
       "      <td>50.214450</td>\n",
       "      <td>5.227659</td>\n",
       "      <td>9.828802</td>\n",
       "      <td>1.906191</td>\n",
       "      <td>8.412263</td>\n",
       "      <td>44.642307</td>\n",
       "      <td>1.395257</td>\n",
       "      <td>45.110060</td>\n",
       "      <td>5.581149</td>\n",
       "      <td>0.499812</td>\n",
       "      <td>0.158788</td>\n",
       "      <td>0.497738</td>\n",
       "      <td>0.080181</td>\n",
       "    </tr>\n",
       "    <tr>\n",
       "      <th>min</th>\n",
       "      <td>1.000000</td>\n",
       "      <td>78.000000</td>\n",
       "      <td>0.000000</td>\n",
       "      <td>1.000000</td>\n",
       "      <td>1.000000</td>\n",
       "      <td>9.710000</td>\n",
       "      <td>1.000000</td>\n",
       "      <td>1.000000</td>\n",
       "      <td>75.000000</td>\n",
       "      <td>0.000000</td>\n",
       "      <td>0.000000</td>\n",
       "      <td>0.000000</td>\n",
       "      <td>0.000000</td>\n",
       "    </tr>\n",
       "    <tr>\n",
       "      <th>25%</th>\n",
       "      <td>1.000000</td>\n",
       "      <td>100.000000</td>\n",
       "      <td>1.000000</td>\n",
       "      <td>2.000000</td>\n",
       "      <td>17.000000</td>\n",
       "      <td>30.000000</td>\n",
       "      <td>1.000000</td>\n",
       "      <td>8.000000</td>\n",
       "      <td>89.000000</td>\n",
       "      <td>0.000000</td>\n",
       "      <td>0.000000</td>\n",
       "      <td>0.000000</td>\n",
       "      <td>0.000000</td>\n",
       "    </tr>\n",
       "    <tr>\n",
       "      <th>50%</th>\n",
       "      <td>24.000000</td>\n",
       "      <td>100.000000</td>\n",
       "      <td>3.000000</td>\n",
       "      <td>3.000000</td>\n",
       "      <td>23.000000</td>\n",
       "      <td>58.000000</td>\n",
       "      <td>2.000000</td>\n",
       "      <td>30.000000</td>\n",
       "      <td>94.000000</td>\n",
       "      <td>1.000000</td>\n",
       "      <td>0.000000</td>\n",
       "      <td>0.000000</td>\n",
       "      <td>0.000000</td>\n",
       "    </tr>\n",
       "    <tr>\n",
       "      <th>75%</th>\n",
       "      <td>59.000000</td>\n",
       "      <td>100.000000</td>\n",
       "      <td>11.000000</td>\n",
       "      <td>5.000000</td>\n",
       "      <td>29.000000</td>\n",
       "      <td>96.500000</td>\n",
       "      <td>3.000000</td>\n",
       "      <td>73.000000</td>\n",
       "      <td>97.000000</td>\n",
       "      <td>1.000000</td>\n",
       "      <td>0.000000</td>\n",
       "      <td>1.000000</td>\n",
       "      <td>0.000000</td>\n",
       "    </tr>\n",
       "    <tr>\n",
       "      <th>max</th>\n",
       "      <td>213.000000</td>\n",
       "      <td>100.000000</td>\n",
       "      <td>47.000000</td>\n",
       "      <td>9.000000</td>\n",
       "      <td>48.000000</td>\n",
       "      <td>201.000000</td>\n",
       "      <td>10.000000</td>\n",
       "      <td>169.000000</td>\n",
       "      <td>100.000000</td>\n",
       "      <td>1.000000</td>\n",
       "      <td>1.000000</td>\n",
       "      <td>1.000000</td>\n",
       "      <td>1.000000</td>\n",
       "    </tr>\n",
       "  </tbody>\n",
       "</table>\n",
       "</div>"
      ],
      "text/plain": [
       "        host_about  host_response_rate  host_total_listings_count  \\\n",
       "count  4019.000000         4019.000000                4019.000000   \n",
       "mean     40.890271           97.770092                   7.867380   \n",
       "std      50.214450            5.227659                   9.828802   \n",
       "min       1.000000           78.000000                   0.000000   \n",
       "25%       1.000000          100.000000                   1.000000   \n",
       "50%      24.000000          100.000000                   3.000000   \n",
       "75%      59.000000          100.000000                  11.000000   \n",
       "max     213.000000          100.000000                  47.000000   \n",
       "\n",
       "       accommodates    amenities        price  minimum_nights  \\\n",
       "count   4019.000000  4019.000000  4019.000000     4019.000000   \n",
       "mean       3.472257    22.805175    68.230654        2.190595   \n",
       "std        1.906191     8.412263    44.642307        1.395257   \n",
       "min        1.000000     1.000000     9.710000        1.000000   \n",
       "25%        2.000000    17.000000    30.000000        1.000000   \n",
       "50%        3.000000    23.000000    58.000000        2.000000   \n",
       "75%        5.000000    29.000000    96.500000        3.000000   \n",
       "max        9.000000    48.000000   201.000000       10.000000   \n",
       "\n",
       "       number_of_reviews  review_scores_rating  room_type_Entire home/apt  \\\n",
       "count        4019.000000           4019.000000                4019.000000   \n",
       "mean           45.803434             92.790495                   0.515800   \n",
       "std            45.110060              5.581149                   0.499812   \n",
       "min             1.000000             75.000000                   0.000000   \n",
       "25%             8.000000             89.000000                   0.000000   \n",
       "50%            30.000000             94.000000                   1.000000   \n",
       "75%            73.000000             97.000000                   1.000000   \n",
       "max           169.000000            100.000000                   1.000000   \n",
       "\n",
       "       room_type_Hotel room  room_type_Private room  room_type_Shared room  \n",
       "count           4019.000000             4019.000000            4019.000000  \n",
       "mean               0.025877                0.451854               0.006469  \n",
       "std                0.158788                0.497738               0.080181  \n",
       "min                0.000000                0.000000               0.000000  \n",
       "25%                0.000000                0.000000               0.000000  \n",
       "50%                0.000000                0.000000               0.000000  \n",
       "75%                0.000000                1.000000               0.000000  \n",
       "max                1.000000                1.000000               1.000000  "
      ]
     },
     "execution_count": 22,
     "metadata": {},
     "output_type": "execute_result"
    }
   ],
   "source": [
    "df1.describe()"
   ]
  },
  {
   "cell_type": "code",
   "execution_count": 62,
   "metadata": {},
   "outputs": [],
   "source": [
    "# This function is partially from: https://stackoverflow.com/a/51329496/4667568\n",
    "from statsmodels.stats.outliers_influence import variance_inflation_factor \n",
    "from statsmodels.tools.tools import add_constant\n",
    "\n",
    "def drop_column_using_vif_(df, thresh=5):\n",
    "    '''\n",
    "    Calculates VIF each feature in a pandas dataframe, and repeatedly drop the columns with the highest VIF\n",
    "    A constant must be added to variance_inflation_factor or the results will be incorrect\n",
    "\n",
    "    :param df: the pandas dataframe containing only the predictor features x, not the response variable y\n",
    "    :param thresh: the max VIF value before the feature is removed from the dataframe\n",
    "    :return: dataframe with multicollinear features removed\n",
    "    '''\n",
    "    while True:\n",
    "        # adding a constatnt item to the data\n",
    "        df_with_const = add_constant(df)\n",
    "\n",
    "        vif_df = pd.Series([variance_inflation_factor(df_with_const.values, i) \n",
    "               for i in range(df_with_const.shape[1])], name= \"VIF\",\n",
    "              index=df_with_const.columns).to_frame()\n",
    "\n",
    "        # drop the const\n",
    "        vif_df = vif_df.drop('const')\n",
    "        \n",
    "        # if the largest VIF is above the thresh, remove a variable with the largest VIF\n",
    "        if vif_df.VIF.max() > thresh:\n",
    "            # If there are multiple variables with the maximum VIF, choose the first one\n",
    "            index_to_drop = vif_df.index[vif_df.VIF == vif_df.VIF.max()].tolist()[0]\n",
    "            print('Dropping: {}'.format(index_to_drop))\n",
    "            df = df.drop(columns = index_to_drop)\n",
    "        else:\n",
    "            # No VIF is above threshold. Exit the loop\n",
    "            break\n",
    "\n",
    "    return df"
   ]
  },
  {
   "cell_type": "code",
   "execution_count": 70,
   "metadata": {},
   "outputs": [],
   "source": [
    "variables_raw = ['review_scores_rating','room_type_Hotel_room', 'room_type_Entire_home', 'room_type_Private_room', 'room_type_Shared_room']\n",
    "#['room_type_Private_room', 'room_type_Shared_room']\n",
    "\n",
    "\n",
    "#drop_column_using_vif_(df, thresh=5)\n",
    "df_VIF = drop_column_using_vif_(df1[variables_raw].drop('review_scores_rating', axis=1))\n"
   ]
  },
  {
   "cell_type": "code",
   "execution_count": null,
   "metadata": {},
   "outputs": [],
   "source": [
    "df"
   ]
  },
  {
   "cell_type": "code",
   "execution_count": null,
   "metadata": {},
   "outputs": [],
   "source": [
    "df_final = df_numeric.drop(['room_type_Entire home/apt',], axis=1)\n",
    "\n",
    "# double check the result\n",
    "df_final.info()"
   ]
  },
  {
   "cell_type": "markdown",
   "metadata": {},
   "source": [
    "### final results"
   ]
  },
  {
   "cell_type": "code",
   "execution_count": 60,
   "metadata": {},
   "outputs": [
    {
     "name": "stdout",
     "output_type": "stream",
     "text": [
      "                             OLS Regression Results                             \n",
      "================================================================================\n",
      "Dep. Variable:     review_scores_rating   R-squared:                       0.201\n",
      "Model:                              OLS   Adj. R-squared:                  0.199\n",
      "Method:                   Least Squares   F-statistic:                     101.1\n",
      "Date:                  Sun, 06 Dec 2020   Prob (F-statistic):          2.03e-187\n",
      "Time:                          20:20:26   Log-Likelihood:                -12161.\n",
      "No. Observations:                  4019   AIC:                         2.434e+04\n",
      "Df Residuals:                      4008   BIC:                         2.441e+04\n",
      "Df Model:                            10                                         \n",
      "Covariance Type:              nonrobust                                         \n",
      "=============================================================================================\n",
      "                                coef    std err          t      P>|t|      [0.025      0.975]\n",
      "---------------------------------------------------------------------------------------------\n",
      "Intercept                    91.5737      1.582     57.884      0.000      88.472      94.675\n",
      "host_is_superhost[T.True]     4.5428      0.183     24.792      0.000       4.184       4.902\n",
      "instant_bookable[T.True]     -0.5227      0.172     -3.033      0.002      -0.861      -0.185\n",
      "host_about                    0.0029      0.002      1.739      0.082      -0.000       0.006\n",
      "host_response_rate           -0.0014      0.016     -0.089      0.929      -0.032       0.029\n",
      "amenities                     0.0679      0.010      6.703      0.000       0.048       0.088\n",
      "price                         0.0169      0.002      7.156      0.000       0.012       0.022\n",
      "minimum_nights                0.0996      0.058      1.709      0.088      -0.015       0.214\n",
      "number_of_reviews            -0.0120      0.002     -6.537      0.000      -0.016      -0.008\n",
      "host_total_listings_count    -0.0442      0.010     -4.605      0.000      -0.063      -0.025\n",
      "accommodates                 -0.5155      0.055     -9.377      0.000      -0.623      -0.408\n",
      "==============================================================================\n",
      "Omnibus:                      206.799   Durbin-Watson:                   1.921\n",
      "Prob(Omnibus):                  0.000   Jarque-Bera (JB):              243.816\n",
      "Skew:                          -0.554   Prob(JB):                     1.14e-53\n",
      "Kurtosis:                       3.479   Cond. No.                     2.84e+03\n",
      "==============================================================================\n",
      "\n",
      "Notes:\n",
      "[1] Standard Errors assume that the covariance matrix of the errors is correctly specified.\n",
      "[2] The condition number is large, 2.84e+03. This might indicate that there are\n",
      "strong multicollinearity or other numerical problems.\n"
     ]
    }
   ],
   "source": [
    "# Selecting model\n",
    "import statsmodels.formula.api as smf\n",
    "from statsmodels.iolib.summary2 import summary_col\n",
    "# df.info()\n",
    "# df.describe()\n",
    "# df.columns.values\n",
    "mod1 = sm.formula.ols('''review_scores_rating ~ host_about + host_response_rate\n",
    "+ amenities + price+ minimum_nights + number_of_reviews\n",
    "+ host_is_superhost + instant_bookable+ room_type_Shared_room +room_type_Private_room + host_total_listings_count + accommodates ''', df1)\n",
    "res1 = mod1.fit()\n",
    "print(res1.summary())"
   ]
  },
  {
   "cell_type": "code",
   "execution_count": 80,
   "metadata": {},
   "outputs": [
    {
     "name": "stdout",
     "output_type": "stream",
     "text": [
      "                             OLS Regression Results                             \n",
      "================================================================================\n",
      "Dep. Variable:     review_scores_rating   R-squared:                       0.201\n",
      "Model:                              OLS   Adj. R-squared:                  0.200\n",
      "Method:                   Least Squares   F-statistic:                     126.3\n",
      "Date:                  Sun, 06 Dec 2020   Prob (F-statistic):          2.08e-189\n",
      "Time:                          20:46:29   Log-Likelihood:                -12161.\n",
      "No. Observations:                  4019   AIC:                         2.434e+04\n",
      "Df Residuals:                      4010   BIC:                         2.440e+04\n",
      "Df Model:                             8                                         \n",
      "Covariance Type:              nonrobust                                         \n",
      "=============================================================================================\n",
      "                                coef    std err          t      P>|t|      [0.025      0.975]\n",
      "---------------------------------------------------------------------------------------------\n",
      "Intercept                    90.9751      0.399    227.990      0.000      90.193      91.757\n",
      "host_is_superhost[T.True]     4.5685      0.182     25.144      0.000       4.212       4.925\n",
      "instant_bookable[T.True]     -0.5501      0.171     -3.226      0.001      -0.885      -0.216\n",
      "amenities                     0.0704      0.010      6.961      0.000       0.051       0.090\n",
      "price                         0.0193      0.002      7.815      0.000       0.014       0.024\n",
      "number_of_reviews            -0.0112      0.002     -6.084      0.000      -0.015      -0.008\n",
      "room_type_Private_room        0.5729      0.237      2.417      0.016       0.108       1.038\n",
      "host_total_listings_count    -0.0362      0.009     -3.845      0.000      -0.055      -0.018\n",
      "accommodates                 -0.4488      0.060     -7.480      0.000      -0.566      -0.331\n",
      "==============================================================================\n",
      "Omnibus:                      211.825   Durbin-Watson:                   1.919\n",
      "Prob(Omnibus):                  0.000   Jarque-Bera (JB):              251.276\n",
      "Skew:                          -0.559   Prob(JB):                     2.73e-55\n",
      "Kurtosis:                       3.499   Cond. No.                         547.\n",
      "==============================================================================\n",
      "\n",
      "Notes:\n",
      "[1] Standard Errors assume that the covariance matrix of the errors is correctly specified.\n",
      "\n",
      "=================================================================================================\n",
      "                          review_scores_rating I review_scores_rating II review_scores_rating III\n",
      "-------------------------------------------------------------------------------------------------\n",
      "Intercept                 91.0574***             90.5981***              90.9751***              \n",
      "                          (1.5977)               (0.4298)                (0.3990)                \n",
      "R-squared                 0.2031                 0.2029                  0.2013                  \n",
      "R-squared Adj.            0.2007                 0.2009                  0.1997                  \n",
      "accommodates              -0.4571***             -0.4495***              -0.4488***              \n",
      "                          (0.0605)               (0.0600)                (0.0600)                \n",
      "amenities                 0.0703***              0.0706***               0.0704***               \n",
      "                          (0.0102)               (0.0101)                (0.0101)                \n",
      "host_about                0.0033**               0.0032*                                         \n",
      "                          (0.0017)               (0.0017)                                        \n",
      "host_is_superhost[T.True] 4.5251***              4.5274***               4.5685***               \n",
      "                          (0.1832)               (0.1822)                (0.1817)                \n",
      "host_response_rate        -0.0038                                                                \n",
      "                          (0.0157)                                                               \n",
      "host_total_listings_count -0.0388***             -0.0381***              -0.0362***              \n",
      "                          (0.0098)               (0.0097)                (0.0094)                \n",
      "instant_bookable[T.True]  -0.4910***             -0.4933***              -0.5501***              \n",
      "                          (0.1726)               (0.1725)                (0.1706)                \n",
      "minimum_nights            0.1101*                0.1133*                                         \n",
      "                          (0.0586)               (0.0584)                                        \n",
      "number_of_reviews         -0.0117***             -0.0116***              -0.0112***              \n",
      "                          (0.0018)               (0.0018)                (0.0018)                \n",
      "price                     0.0186***              0.0189***               0.0193***               \n",
      "                          (0.0025)               (0.0025)                (0.0025)                \n",
      "room_type_Private_room    0.5997**               0.6466***               0.5729**                \n",
      "                          (0.2435)               (0.2384)                (0.2370)                \n",
      "room_type_Shared_room     -1.0619                                                                \n",
      "                          (1.0105)                                                               \n",
      "=================================================================================================\n",
      "Standard errors in parentheses.\n",
      "* p<.1, ** p<.05, ***p<.01\n"
     ]
    }
   ],
   "source": [
    "import statsmodels.formula.api as smf\n",
    "from statsmodels.iolib.summary2 import summary_col\n",
    "# df.info()\n",
    "# df.describe()\n",
    "# df.columns.values\n",
    "mod1 = sm.formula.ols('''review_scores_rating ~ host_about + host_response_rate\n",
    "+ amenities + price+ minimum_nights + number_of_reviews\n",
    "+ host_is_superhost + instant_bookable+ room_type_Shared_room +room_type_Private_room + host_total_listings_count + accommodates ''', df1)\n",
    "res1 = mod1.fit()\n",
    "#drop host response rate and shared room\n",
    "mod2 = sm.formula.ols('''review_scores_rating ~ host_about\n",
    "+ amenities + price+ minimum_nights + number_of_reviews\n",
    "+ host_is_superhost + instant_bookable+room_type_Private_room + host_total_listings_count + accommodates ''', df1)\n",
    "res2 = mod2.fit()\n",
    "#host_about,minimum nights\n",
    "mod3 = sm.formula.ols('''review_scores_rating ~ \n",
    "+ amenities + price + number_of_reviews\n",
    "+ host_is_superhost + instant_bookable+ room_type_Private_room + host_total_listings_count + accommodates ''', df1)\n",
    "res3 = mod3.fit()\n",
    "\n",
    "#mod4 = sm.formula.ols('''review_scores_rating ~ host_about\n",
    "#+ amenities + price + number_of_reviews\n",
    "#+ host_is_superhost + instant_bookable+ host_total_listings_count + accommodates ''', df1)\n",
    "#res4 = mod4.fit()\n",
    "\n",
    "#model_case_annual_policies.summary()\n",
    "print(res3.summary())\n",
    "\n",
    "dfoutput = summary_col([res1,res2,res3],stars=True)\n",
    "print(dfoutput)"
   ]
  },
  {
   "cell_type": "code",
   "execution_count": 111,
   "metadata": {},
   "outputs": [
    {
     "ename": "AttributeError",
     "evalue": "'Summary' object has no attribute 'save'",
     "output_type": "error",
     "traceback": [
      "\u001b[1;31m---------------------------------------------------------------------------\u001b[0m",
      "\u001b[1;31mAttributeError\u001b[0m                            Traceback (most recent call last)",
      "\u001b[1;32m<ipython-input-111-9a1e1dc3703c>\u001b[0m in \u001b[0;36m<module>\u001b[1;34m\u001b[0m\n\u001b[1;32m----> 1\u001b[1;33m \u001b[0mdfoutput\u001b[0m\u001b[1;33m.\u001b[0m\u001b[0msave\u001b[0m\u001b[1;33m(\u001b[0m\u001b[1;34m'output.png'\u001b[0m\u001b[1;33m)\u001b[0m\u001b[1;33m\u001b[0m\u001b[1;33m\u001b[0m\u001b[0m\n\u001b[0m",
      "\u001b[1;31mAttributeError\u001b[0m: 'Summary' object has no attribute 'save'"
     ]
    }
   ],
   "source": [
    "dfoutput.save('output.png')"
   ]
  },
  {
   "cell_type": "code",
   "execution_count": 10,
   "metadata": {},
   "outputs": [],
   "source": [
    "# This function is partially from: https://stackoverflow.com/a/51329496/4667568\n",
    "from statsmodels.stats.outliers_influence import variance_inflation_factor \n",
    "from statsmodels.tools.tools import add_constant\n",
    "\n",
    "def drop_column_using_vif_(df, thresh=5):\n",
    "    '''\n",
    "    Calculates VIF each feature in a pandas dataframe, and repeatedly drop the columns with the highest VIF\n",
    "    A constant must be added to variance_inflation_factor or the results will be incorrect\n",
    "\n",
    "    :param df: the pandas dataframe containing only the predictor features x, not the response variable y\n",
    "    :param thresh: the max VIF value before the feature is removed from the dataframe\n",
    "    :return: dataframe with multicollinear features removed\n",
    "    '''\n",
    "    while True:\n",
    "        # adding a constatnt item to the data\n",
    "        df_with_const = add_constant(df)\n",
    "\n",
    "        vif_df = pd.Series([variance_inflation_factor(df_with_const.values, i) \n",
    "               for i in range(df_with_const.shape[1])], name= \"VIF\",\n",
    "              index=df_with_const.columns).to_frame()\n",
    "\n",
    "        # drop the const\n",
    "        vif_df = vif_df.drop('const')\n",
    "        \n",
    "        # if the largest VIF is above the thresh, remove a variable with the largest VIF\n",
    "        if vif_df.VIF.max() > thresh:\n",
    "            # If there are multiple variables with the maximum VIF, choose the first one\n",
    "            index_to_drop = vif_df.index[vif_df.VIF == vif_df.VIF.max()].tolist()[0]\n",
    "            print('Dropping: {}'.format(index_to_drop))\n",
    "            df = df.drop(columns = index_to_drop)\n",
    "        else:\n",
    "            # No VIF is above threshold. Exit the loop\n",
    "            break\n",
    "\n",
    "    return df"
   ]
  },
  {
   "cell_type": "code",
   "execution_count": 16,
   "metadata": {},
   "outputs": [],
   "source": [
    "variables_raw = ['host_about','host_response_rate','host_total_listings_count',\n",
    "            'accommodates','amenities', 'price','minimum_nights','number_of_reviews',\n",
    "            'review_scores_rating']\n",
    "\n",
    "\n",
    "# drop_column_using_vif_(df, thresh=5)\n",
    "df_VIF = drop_column_using_vif_(df1[variables_raw].drop('review_scores_rating', axis=1))\n"
   ]
  },
  {
   "cell_type": "code",
   "execution_count": 23,
   "metadata": {},
   "outputs": [],
   "source": [
    "import numpy as np\n",
    "import statsmodels.api as sm\n",
    "from statsmodels.formula.api import ols"
   ]
  },
  {
   "cell_type": "code",
   "execution_count": 45,
   "metadata": {},
   "outputs": [
    {
     "data": {
      "image/png": "[encoded data removed]",
      "text/plain": [
       "<Figure size 432x288 with 1 Axes>"
      ]
     },
     "metadata": {
      "needs_background": "light"
     },
     "output_type": "display_data"
    }
   ],
   "source": [
    "plt.scatter(res1.fittedvalues, res1.resid)\n",
    "# adding title and labels\n",
    "plt.xlabel('Fitted')\n",
    "plt.ylabel('Residual')\n",
    "plt.title('Residual vs. Fitted Plot')\n",
    "plt.show()"
   ]
  },
  {
   "cell_type": "code",
   "execution_count": 38,
   "metadata": {},
   "outputs": [],
   "source": [
    "import statsmodels.formula.api as smf\n",
    "import statsmodels.api as sm\n",
    "%matplotlib inline\n",
    "\n",
    "import matplotlib.pyplot as plt\n",
    "import numpy as np\n",
    "import pandas as pd\n",
    "import scipy as sp\n",
    "\n",
    "import scipy.stats as sps\n",
    "import numpy as np\n",
    "import statsmodels.api as sm\n",
    "from statsmodels.formula.api import ols"
   ]
  },
  {
   "cell_type": "code",
   "execution_count": 118,
   "metadata": {},
   "outputs": [
    {
     "data": {
      "image/png": "[encoded data removed]",
      "text/plain": [
       "<Figure size 864x576 with 4 Axes>"
      ]
     },
     "metadata": {
      "needs_background": "light"
     },
     "output_type": "display_data"
    }
   ],
   "source": [
    "#number_of_reviews\n",
    "#price\n",
    "#\n",
    "import matplotlib.pyplot as plt\n",
    "key_fields=['host_about','host_response_rate','host_total_listings_count',\n",
    "            'accommodates','amenities', 'price','minimum_nights','number_of_reviews',\n",
    "            'review_scores_rating','room_type','host_is_superhost','instant_bookable']\n",
    "fig = plt.figure(figsize=(12,8))\n",
    "fig = sm.graphics.plot_regress_exog(res2, 'amenities', fig=fig)\n",
    "plt.savefig('residual analysis.png')"
   ]
  },
  {
   "cell_type": "markdown",
   "metadata": {},
   "source": [
    "### refine the model"
   ]
  },
  {
   "cell_type": "code",
   "execution_count": 67,
   "metadata": {},
   "outputs": [
    {
     "name": "stdout",
     "output_type": "stream",
     "text": [
      "<class 'pandas.core.frame.DataFrame'>\n",
      "RangeIndex: 4855 entries, 0 to 4854\n",
      "Data columns (total 9 columns):\n",
      " #   Column                Non-Null Count  Dtype  \n",
      "---  ------                --------------  -----  \n",
      " 0   host_about            4855 non-null   int64  \n",
      " 1   host_response_rate    4855 non-null   float64\n",
      " 2   host_is_superhost     4855 non-null   bool   \n",
      " 3   amenities             4855 non-null   int64  \n",
      " 4   price                 4855 non-null   float64\n",
      " 5   minimum_nights        4855 non-null   int64  \n",
      " 6   number_of_reviews     4855 non-null   int64  \n",
      " 7   review_scores_rating  4855 non-null   float64\n",
      " 8   instant_bookable      4855 non-null   bool   \n",
      "dtypes: bool(2), float64(3), int64(4)\n",
      "memory usage: 275.1 KB\n"
     ]
    }
   ],
   "source": [
    "refine_fields=['host_about','host_response_rate','amenities', 'price','minimum_nights','number_of_reviews',\n",
    "            'review_scores_rating','host_is_superhost','instant_bookable']\n",
    "\n",
    "df2=pd.read_csv('data_cleaning.csv',usecols=refine_fields)\n",
    "df2.info()"
   ]
  },
  {
   "cell_type": "code",
   "execution_count": 72,
   "metadata": {},
   "outputs": [
    {
     "name": "stdout",
     "output_type": "stream",
     "text": [
      "                             OLS Regression Results                             \n",
      "================================================================================\n",
      "Dep. Variable:     review_scores_rating   R-squared:                       0.121\n",
      "Model:                              OLS   Adj. R-squared:                  0.120\n",
      "Method:                   Least Squares   F-statistic:                     83.56\n",
      "Date:                  Sat, 05 Dec 2020   Prob (F-statistic):          4.40e-130\n",
      "Time:                          21:51:14   Log-Likelihood:                -18866.\n",
      "No. Observations:                  4855   AIC:                         3.775e+04\n",
      "Df Residuals:                      4846   BIC:                         3.781e+04\n",
      "Df Model:                             8                                         \n",
      "Covariance Type:              nonrobust                                         \n",
      "=============================================================================================\n",
      "                                coef    std err          t      P>|t|      [0.025      0.975]\n",
      "---------------------------------------------------------------------------------------------\n",
      "Intercept                    85.1563      0.694    122.744      0.000      83.796      86.516\n",
      "host_is_superhost[T.True]     6.9183      0.442     15.659      0.000       6.052       7.784\n",
      "instant_bookable[T.True]     -0.7154      0.354     -2.019      0.044      -1.410      -0.021\n",
      "host_about                    0.0075      0.002      3.859      0.000       0.004       0.011\n",
      "host_response_rate           -0.0385      0.007     -5.674      0.000      -0.052      -0.025\n",
      "amenities                     0.1830      0.021      8.688      0.000       0.142       0.224\n",
      "price                         0.0023      0.001      2.727      0.006       0.001       0.004\n",
      "minimum_nights                0.0505      0.009      5.698      0.000       0.033       0.068\n",
      "number_of_reviews             0.0144      0.002      7.412      0.000       0.011       0.018\n",
      "==============================================================================\n",
      "Omnibus:                     2819.049   Durbin-Watson:                   1.943\n",
      "Prob(Omnibus):                  0.000   Jarque-Bera (JB):            28466.782\n",
      "Skew:                          -2.637   Prob(JB):                         0.00\n",
      "Kurtosis:                      13.625   Cond. No.                     1.01e+03\n",
      "==============================================================================\n",
      "\n",
      "Notes:\n",
      "[1] Standard Errors assume that the covariance matrix of the errors is correctly specified.\n",
      "[2] The condition number is large, 1.01e+03. This might indicate that there are\n",
      "strong multicollinearity or other numerical problems.\n"
     ]
    }
   ],
   "source": [
    "# Selecting model\n",
    "import statsmodels.formula.api as smf\n",
    "from statsmodels.iolib.summary2 import summary_col\n",
    "# df.info()\n",
    "# df.describe()\n",
    "# df.columns.values\n",
    "mod2 = sm.formula.ols('''review_scores_rating ~ host_about + host_response_rate + amenities + price+ minimum_nights + number_of_reviews\n",
    "+ host_is_superhost + instant_bookable''', df2)\n",
    "res2 = mod2.fit()\n",
    "#model_case_annual_policies.summary()\n",
    "print(res2.summary())"
   ]
  },
  {
   "cell_type": "code",
   "execution_count": 70,
   "metadata": {},
   "outputs": [],
   "source": [
    "import numpy as np\n",
    "import statsmodels.api as sm\n",
    "from statsmodels.formula.api import ols"
   ]
  },
  {
   "cell_type": "code",
   "execution_count": 73,
   "metadata": {},
   "outputs": [
    {
     "data": {
      "image/png": "[encoded data removed]",
      "text/plain": [
       "<Figure size 432x288 with 1 Axes>"
      ]
     },
     "metadata": {
      "needs_background": "light"
     },
     "output_type": "display_data"
    }
   ],
   "source": [
    "plt.scatter(res2.fittedvalues, res2.resid)\n",
    "# adding title and labels\n",
    "plt.xlabel('Fitted')\n",
    "plt.ylabel('Residual')\n",
    "plt.title('Residual vs. Fitted Plot')\n",
    "plt.show()"
   ]
  }
 ],
 "metadata": {
  "kernelspec": {
   "display_name": "CASA2020",
   "language": "python",
   "name": "sds2020"
  },
  "language_info": {
   "codemirror_mode": {
    "name": "ipython",
    "version": 3
   },
   "file_extension": ".py",
   "mimetype": "text/x-python",
   "name": "python",
   "nbconvert_exporter": "python",
   "pygments_lexer": "ipython3",
   "version": "3.7.8"
  }
 },
 "nbformat": 4,
 "nbformat_minor": 4
}
