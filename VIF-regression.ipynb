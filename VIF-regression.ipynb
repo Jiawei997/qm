{
 "cells": [
  {
   "cell_type": "markdown",
   "metadata": {},
   "source": [
    "### Data cleaning and data converting"
   ]
  },
  {
   "cell_type": "markdown",
   "metadata": {},
   "source": [
    "## NAN data"
   ]
  },
  {
   "cell_type": "code",
   "execution_count": 2,
   "metadata": {},
   "outputs": [],
   "source": [
    "import os\n",
    "import pandas as pd"
   ]
  },
  {
   "cell_type": "code",
   "execution_count": 3,
   "metadata": {},
   "outputs": [
    {
     "name": "stdout",
     "output_type": "stream",
     "text": [
      "(19896, 12)\n"
     ]
    }
   ],
   "source": [
    "cols = ['id', 'listing_url', 'last_scraped', 'name', 'description', 'host_id', 'host_name', 'host_since', \n",
    "        'host_location', 'host_about', 'host_response_rate', 'host_acceptance_rate', 'host_is_superhost', \n",
    "        'host_listings_count', 'host_total_listings_count', 'host_verifications', 'latitude', 'longitude', \n",
    "        'property_type', 'room_type', 'accommodates', 'bathrooms', 'bathrooms_text', 'bedrooms', 'beds', \n",
    "        'amenities', 'price', 'minimum_nights', 'maximum_nights', 'availability_365', 'number_of_reviews', \n",
    "        'first_review', 'last_review', 'review_scores_rating', 'review_scores_cleanliness', \n",
    "        'review_scores_checkin', 'review_scores_communication', 'review_scores_location', 'license', \n",
    "        'instant_bookable', 'calculated_host_listings_count', 'reviews_per_month']\n",
    "\n",
    "key_fields=['host_about','host_response_rate','host_total_listings_count',\n",
    "            'accommodates','amenities', 'price','minimum_nights','number_of_reviews',\n",
    "            'review_scores_rating','room_type','host_is_superhost','instant_bookable']\n",
    "\n",
    "df = pd.read_csv('listings.csv',usecols=key_fields)\n",
    "df['price'] = df.price.str.replace('$','').str.replace(',','').astype(float)\n",
    "df['host_response_rate'] = df.host_response_rate.str.replace('%','').astype(float)\n",
    "print(df.shape)"
   ]
  },
  {
   "cell_type": "markdown",
   "metadata": {},
   "source": [
    "### text data"
   ]
  },
  {
   "cell_type": "code",
   "execution_count": 4,
   "metadata": {},
   "outputs": [],
   "source": [
    "def calculation(col_list,col_len,df_col,delimiter:'str'):\n",
    "    col_list\n",
    "    for i in df_col:\n",
    "    \n",
    "        if isinstance(i, str)== False:\n",
    "            j=str(i)\n",
    "            col_list.append(j.split(delimiter))\n",
    "    \n",
    "        else:\n",
    "            col_list.append(i.split(delimiter))\n",
    "    \n",
    "    col_len\n",
    "    for k in col_list:\n",
    "        p=len(k)\n",
    "        col_len.append(p)  "
   ]
  },
  {
   "cell_type": "code",
   "execution_count": 5,
   "metadata": {},
   "outputs": [
    {
     "name": "stdout",
     "output_type": "stream",
     "text": [
      "<class 'list'>\n",
      "Hello\n",
      "18\n",
      "['Hello', 'I', 'am', 'a', 'Professional', 'designer,', 'a', 'traveler,', 'an', 'entrepreneur.', 'I', 'try', 'always', 'to', 'find', 'a', 'solution.', '']\n"
     ]
    }
   ],
   "source": [
    "# for host about\n",
    "host_about_list=[]\n",
    "host_about_len=[]\n",
    "\n",
    "calculation(host_about_list,host_about_len,df.host_about,\" \")\n",
    "\n",
    "print(type(host_about_list))\n",
    "print(host_about_list[0][0])\n",
    "print(host_about_len[0])\n",
    "print(host_about_list[0])"
   ]
  },
  {
   "cell_type": "code",
   "execution_count": 6,
   "metadata": {},
   "outputs": [
    {
     "name": "stdout",
     "output_type": "stream",
     "text": [
      "<class 'list'>\n",
      "[\"Kitchen\"\n",
      "13\n",
      "['[\"Kitchen\"', ' \"Essentials\"', ' \"Cable TV\"', ' \"Air conditioning\"', ' \"Washer\"', ' \"Elevator\"', ' \"Dryer\"', ' \"Wifi\"', ' \"TV\"', ' \"Heating\"', ' \"Smoke alarm\"', ' \"Fire extinguisher\"', ' \"Carbon monoxide alarm\"]']\n"
     ]
    }
   ],
   "source": [
    "# for amentities \n",
    "amenities_list=[]\n",
    "amenities_len=[]\n",
    "\n",
    "calculation(amenities_list,amenities_len,df.amenities,\",\")\n",
    "\n",
    "print(type(amenities_list))\n",
    "print(amenities_list[0][0])\n",
    "print(amenities_len[0])\n",
    "print(amenities_list[0])"
   ]
  },
  {
   "cell_type": "code",
   "execution_count": 7,
   "metadata": {},
   "outputs": [],
   "source": [
    "df['host_about'] = host_about_len\n",
    "df['amenities'] = amenities_len"
   ]
  },
  {
   "cell_type": "code",
   "execution_count": null,
   "metadata": {},
   "outputs": [],
   "source": [
    "df.sample(4, random_state=42)[['amenities','host_about']]"
   ]
  },
  {
   "cell_type": "markdown",
   "metadata": {},
   "source": [
    "### boolean data"
   ]
  },
  {
   "cell_type": "code",
   "execution_count": 8,
   "metadata": {},
   "outputs": [
    {
     "data": {
      "text/html": [
       "<div>\n",
       "<style scoped>\n",
       "    .dataframe tbody tr th:only-of-type {\n",
       "        vertical-align: middle;\n",
       "    }\n",
       "\n",
       "    .dataframe tbody tr th {\n",
       "        vertical-align: top;\n",
       "    }\n",
       "\n",
       "    .dataframe thead th {\n",
       "        text-align: right;\n",
       "    }\n",
       "</style>\n",
       "<table border=\"1\" class=\"dataframe\">\n",
       "  <thead>\n",
       "    <tr style=\"text-align: right;\">\n",
       "      <th></th>\n",
       "      <th>instant_bookable</th>\n",
       "      <th>host_is_superhost</th>\n",
       "    </tr>\n",
       "  </thead>\n",
       "  <tbody>\n",
       "    <tr>\n",
       "      <th>0</th>\n",
       "      <td>f</td>\n",
       "      <td>f</td>\n",
       "    </tr>\n",
       "    <tr>\n",
       "      <th>1</th>\n",
       "      <td>t</td>\n",
       "      <td>t</td>\n",
       "    </tr>\n",
       "    <tr>\n",
       "      <th>2</th>\n",
       "      <td>t</td>\n",
       "      <td>f</td>\n",
       "    </tr>\n",
       "    <tr>\n",
       "      <th>3</th>\n",
       "      <td>f</td>\n",
       "      <td>f</td>\n",
       "    </tr>\n",
       "    <tr>\n",
       "      <th>4</th>\n",
       "      <td>t</td>\n",
       "      <td>f</td>\n",
       "    </tr>\n",
       "    <tr>\n",
       "      <th>...</th>\n",
       "      <td>...</td>\n",
       "      <td>...</td>\n",
       "    </tr>\n",
       "    <tr>\n",
       "      <th>19891</th>\n",
       "      <td>f</td>\n",
       "      <td>f</td>\n",
       "    </tr>\n",
       "    <tr>\n",
       "      <th>19892</th>\n",
       "      <td>t</td>\n",
       "      <td>f</td>\n",
       "    </tr>\n",
       "    <tr>\n",
       "      <th>19893</th>\n",
       "      <td>f</td>\n",
       "      <td>f</td>\n",
       "    </tr>\n",
       "    <tr>\n",
       "      <th>19894</th>\n",
       "      <td>f</td>\n",
       "      <td>f</td>\n",
       "    </tr>\n",
       "    <tr>\n",
       "      <th>19895</th>\n",
       "      <td>t</td>\n",
       "      <td>f</td>\n",
       "    </tr>\n",
       "  </tbody>\n",
       "</table>\n",
       "<p>19896 rows × 2 columns</p>\n",
       "</div>"
      ],
      "text/plain": [
       "      instant_bookable host_is_superhost\n",
       "0                    f                 f\n",
       "1                    t                 t\n",
       "2                    t                 f\n",
       "3                    f                 f\n",
       "4                    t                 f\n",
       "...                ...               ...\n",
       "19891                f                 f\n",
       "19892                t                 f\n",
       "19893                f                 f\n",
       "19894                f                 f\n",
       "19895                t                 f\n",
       "\n",
       "[19896 rows x 2 columns]"
      ]
     },
     "execution_count": 8,
     "metadata": {},
     "output_type": "execute_result"
    }
   ],
   "source": [
    "bools = ['instant_bookable','host_is_superhost']\n",
    "df[bools]"
   ]
  },
  {
   "cell_type": "code",
   "execution_count": 9,
   "metadata": {},
   "outputs": [
    {
     "data": {
      "text/html": [
       "<div>\n",
       "<style scoped>\n",
       "    .dataframe tbody tr th:only-of-type {\n",
       "        vertical-align: middle;\n",
       "    }\n",
       "\n",
       "    .dataframe tbody tr th {\n",
       "        vertical-align: top;\n",
       "    }\n",
       "\n",
       "    .dataframe thead th {\n",
       "        text-align: right;\n",
       "    }\n",
       "</style>\n",
       "<table border=\"1\" class=\"dataframe\">\n",
       "  <thead>\n",
       "    <tr style=\"text-align: right;\">\n",
       "      <th></th>\n",
       "      <th>instant_bookable</th>\n",
       "      <th>host_is_superhost</th>\n",
       "    </tr>\n",
       "  </thead>\n",
       "  <tbody>\n",
       "    <tr>\n",
       "      <th>9507</th>\n",
       "      <td>True</td>\n",
       "      <td>False</td>\n",
       "    </tr>\n",
       "    <tr>\n",
       "      <th>1512</th>\n",
       "      <td>False</td>\n",
       "      <td>False</td>\n",
       "    </tr>\n",
       "    <tr>\n",
       "      <th>17433</th>\n",
       "      <td>True</td>\n",
       "      <td>True</td>\n",
       "    </tr>\n",
       "  </tbody>\n",
       "</table>\n",
       "</div>"
      ],
      "text/plain": [
       "       instant_bookable  host_is_superhost\n",
       "9507               True              False\n",
       "1512              False              False\n",
       "17433              True               True"
      ]
     },
     "execution_count": 9,
     "metadata": {},
     "output_type": "execute_result"
    }
   ],
   "source": [
    "bools = ['instant_bookable','host_is_superhost']\n",
    "key={'t':True,'f':False}\n",
    "for b in bools:\n",
    "    df[b] = df[b].replace(key).astype('bool')\n",
    "df.sample(3, random_state=42)[bools]"
   ]
  },
  {
   "cell_type": "code",
   "execution_count": 10,
   "metadata": {},
   "outputs": [
    {
     "name": "stdout",
     "output_type": "stream",
     "text": [
      "<class 'pandas.core.frame.DataFrame'>\n",
      "RangeIndex: 19896 entries, 0 to 19895\n",
      "Data columns (total 12 columns):\n",
      " #   Column                     Non-Null Count  Dtype  \n",
      "---  ------                     --------------  -----  \n",
      " 0   host_about                 19896 non-null  int64  \n",
      " 1   host_response_rate         12409 non-null  float64\n",
      " 2   host_is_superhost          19896 non-null  bool   \n",
      " 3   host_total_listings_count  19889 non-null  float64\n",
      " 4   room_type                  19896 non-null  object \n",
      " 5   accommodates               19896 non-null  int64  \n",
      " 6   amenities                  19896 non-null  int64  \n",
      " 7   price                      19896 non-null  float64\n",
      " 8   minimum_nights             19896 non-null  int64  \n",
      " 9   number_of_reviews          19896 non-null  int64  \n",
      " 10  review_scores_rating       13773 non-null  float64\n",
      " 11  instant_bookable           19896 non-null  bool   \n",
      "dtypes: bool(2), float64(4), int64(5), object(1)\n",
      "memory usage: 1.6+ MB\n"
     ]
    }
   ],
   "source": [
    "df.info()"
   ]
  },
  {
   "cell_type": "code",
   "execution_count": null,
   "metadata": {},
   "outputs": [],
   "source": [
    "### categorical data"
   ]
  },
  {
   "cell_type": "code",
   "execution_count": 13,
   "metadata": {},
   "outputs": [],
   "source": [
    "df['room_type']=df['room_type'].astype('category')"
   ]
  },
  {
   "cell_type": "code",
   "execution_count": 14,
   "metadata": {},
   "outputs": [
    {
     "name": "stdout",
     "output_type": "stream",
     "text": [
      "<class 'pandas.core.frame.DataFrame'>\n",
      "RangeIndex: 19896 entries, 0 to 19895\n",
      "Data columns (total 12 columns):\n",
      " #   Column                     Non-Null Count  Dtype   \n",
      "---  ------                     --------------  -----   \n",
      " 0   host_about                 19896 non-null  int64   \n",
      " 1   host_response_rate         12409 non-null  float64 \n",
      " 2   host_is_superhost          19896 non-null  bool    \n",
      " 3   host_total_listings_count  19889 non-null  float64 \n",
      " 4   room_type                  19896 non-null  category\n",
      " 5   accommodates               19896 non-null  int64   \n",
      " 6   amenities                  19896 non-null  int64   \n",
      " 7   price                      19896 non-null  float64 \n",
      " 8   minimum_nights             19896 non-null  int64   \n",
      " 9   number_of_reviews          19896 non-null  int64   \n",
      " 10  review_scores_rating       13773 non-null  float64 \n",
      " 11  instant_bookable           19896 non-null  bool    \n",
      "dtypes: bool(2), category(1), float64(4), int64(5)\n",
      "memory usage: 1.4 MB\n"
     ]
    }
   ],
   "source": [
    "# check out the new dataFrame\n",
    "df.info()"
   ]
  },
  {
   "cell_type": "markdown",
   "metadata": {},
   "source": [
    "### drop nan"
   ]
  },
  {
   "cell_type": "code",
   "execution_count": 15,
   "metadata": {},
   "outputs": [
    {
     "name": "stdout",
     "output_type": "stream",
     "text": [
      "(8874, 12)\n"
     ]
    }
   ],
   "source": [
    "'''df.drop(index=(df[(df.host_about.isna()) | (df.host_response_rate.isna()) \n",
    "                  | (df.host_is_superhost.isna())|(df.host_total_listings_count.isna())\n",
    "                 |(df.room_type.isna())|(df.accommodates.isna())|(df.amenities.isna())\n",
    "                 |(df.price.isna())|(df.minimum_nights.isna())|(df.number_of_reviews.isna())\n",
    "                 |(df.instant_bookable.isna())|(df.review_scores_rating.isna())].index), inplace=True)\n",
    "print(df.shape)'''\n",
    "df.dropna(inplace=True)\n",
    "print(df.shape)"
   ]
  },
  {
   "cell_type": "markdown",
   "metadata": {},
   "source": [
    "### outlier"
   ]
  },
  {
   "cell_type": "code",
   "execution_count": 18,
   "metadata": {},
   "outputs": [
    {
     "name": "stdout",
     "output_type": "stream",
     "text": [
      "host_about                   85.0\n",
      "host_response_rate            9.0\n",
      "host_total_listings_count    19.0\n",
      "accommodates                  3.0\n",
      "amenities                    13.0\n",
      "price                        67.0\n",
      "minimum_nights                4.0\n",
      "number_of_reviews            66.0\n",
      "review_scores_rating          9.0\n",
      "dtype: float64\n"
     ]
    },
    {
     "data": {
      "text/plain": [
       "(4019, 9)"
      ]
     },
     "execution_count": 18,
     "metadata": {},
     "output_type": "execute_result"
    }
   ],
   "source": [
    "numerical=['host_about','host_response_rate','host_total_listings_count',\n",
    "            'accommodates','amenities', 'price','minimum_nights','number_of_reviews',\n",
    "            'review_scores_rating']\n",
    "df_o1 = df[numerical]\n",
    "Q1 = df_o1.quantile(0.25)\n",
    "Q3 = df_o1.quantile(0.75)\n",
    "IQR = Q3 - Q1\n",
    "print(IQR)\n",
    "\n",
    "df_out = df_o1[~((df_o1 < (Q1 - 1.5 * IQR)) |(df_o1 > (Q3 + 1.5 * IQR))).any(axis=1)]\n",
    "df_out.shape"
   ]
  },
  {
   "cell_type": "code",
   "execution_count": 19,
   "metadata": {},
   "outputs": [
    {
     "name": "stdout",
     "output_type": "stream",
     "text": [
      "(4855, 12)\n"
     ]
    }
   ],
   "source": [
    "index_name=df_out.index\n",
    "\n",
    "df.drop(index_name, inplace=True)\n",
    "\n",
    "print(df.shape)"
   ]
  },
  {
   "cell_type": "code",
   "execution_count": 28,
   "metadata": {},
   "outputs": [],
   "source": [
    "df.to_csv('data_cleaning.csv',index=False)"
   ]
  },
  {
   "cell_type": "markdown",
   "metadata": {},
   "source": [
    "### eliminate multicolinearity"
   ]
  },
  {
   "cell_type": "code",
   "execution_count": 3,
   "metadata": {},
   "outputs": [
    {
     "name": "stdout",
     "output_type": "stream",
     "text": [
      "<class 'pandas.core.frame.DataFrame'>\n",
      "RangeIndex: 4019 entries, 0 to 4018\n",
      "Data columns (total 12 columns):\n",
      " #   Column                     Non-Null Count  Dtype  \n",
      "---  ------                     --------------  -----  \n",
      " 0   host_about                 4019 non-null   int64  \n",
      " 1   host_response_rate         4019 non-null   float64\n",
      " 2   host_is_superhost          4019 non-null   bool   \n",
      " 3   host_total_listings_count  4019 non-null   float64\n",
      " 4   room_type                  4019 non-null   object \n",
      " 5   accommodates               4019 non-null   int64  \n",
      " 6   amenities                  4019 non-null   int64  \n",
      " 7   price                      4019 non-null   float64\n",
      " 8   minimum_nights             4019 non-null   int64  \n",
      " 9   number_of_reviews          4019 non-null   int64  \n",
      " 10  review_scores_rating       4019 non-null   float64\n",
      " 11  instant_bookable           4019 non-null   bool   \n",
      "dtypes: bool(2), float64(4), int64(5), object(1)\n",
      "memory usage: 322.0+ KB\n"
     ]
    }
   ],
   "source": [
    "df1=pd.read_csv('data_cleaning.csv')\n",
    "df1.info()"
   ]
  },
  {
   "cell_type": "code",
   "execution_count": 4,
   "metadata": {},
   "outputs": [
    {
     "name": "stdout",
     "output_type": "stream",
     "text": [
      "<class 'pandas.core.frame.DataFrame'>\n",
      "RangeIndex: 4019 entries, 0 to 4018\n",
      "Data columns (total 15 columns):\n",
      " #   Column                     Non-Null Count  Dtype  \n",
      "---  ------                     --------------  -----  \n",
      " 0   host_about                 4019 non-null   int64  \n",
      " 1   host_response_rate         4019 non-null   float64\n",
      " 2   host_is_superhost          4019 non-null   bool   \n",
      " 3   host_total_listings_count  4019 non-null   float64\n",
      " 4   accommodates               4019 non-null   int64  \n",
      " 5   amenities                  4019 non-null   int64  \n",
      " 6   price                      4019 non-null   float64\n",
      " 7   minimum_nights             4019 non-null   int64  \n",
      " 8   number_of_reviews          4019 non-null   int64  \n",
      " 9   review_scores_rating       4019 non-null   float64\n",
      " 10  instant_bookable           4019 non-null   bool   \n",
      " 11  room_type_Entire home/apt  4019 non-null   uint8  \n",
      " 12  room_type_Hotel room       4019 non-null   uint8  \n",
      " 13  room_type_Private room     4019 non-null   uint8  \n",
      " 14  room_type_Shared room      4019 non-null   uint8  \n",
      "dtypes: bool(2), float64(4), int64(5), uint8(4)\n",
      "memory usage: 306.3 KB\n"
     ]
    }
   ],
   "source": [
    "df_numeric = pd.get_dummies(df1)\n",
    "\n",
    "df_numeric.info()"
   ]
  },
  {
   "cell_type": "code",
   "execution_count": 23,
   "metadata": {},
   "outputs": [
    {
     "name": "stdout",
     "output_type": "stream",
     "text": [
      "<class 'pandas.core.frame.DataFrame'>\n",
      "RangeIndex: 4019 entries, 0 to 4018\n",
      "Data columns (total 14 columns):\n",
      " #   Column                     Non-Null Count  Dtype  \n",
      "---  ------                     --------------  -----  \n",
      " 0   host_about                 4019 non-null   int64  \n",
      " 1   host_response_rate         4019 non-null   float64\n",
      " 2   host_is_superhost          4019 non-null   bool   \n",
      " 3   host_total_listings_count  4019 non-null   float64\n",
      " 4   accommodates               4019 non-null   int64  \n",
      " 5   amenities                  4019 non-null   int64  \n",
      " 6   price                      4019 non-null   float64\n",
      " 7   minimum_nights             4019 non-null   int64  \n",
      " 8   number_of_reviews          4019 non-null   int64  \n",
      " 9   review_scores_rating       4019 non-null   float64\n",
      " 10  instant_bookable           4019 non-null   bool   \n",
      " 11  room_type_Hotel room       4019 non-null   uint8  \n",
      " 12  room_type_Private room     4019 non-null   uint8  \n",
      " 13  room_type_Shared room      4019 non-null   uint8  \n",
      "dtypes: bool(2), float64(4), int64(5), uint8(3)\n",
      "memory usage: 302.3 KB\n"
     ]
    }
   ],
   "source": [
    "df_final = df_numeric.drop(['room_type_Entire home/apt',], axis=1)\n",
    "\n",
    "# double check the result\n",
    "df_final.info()"
   ]
  },
  {
   "cell_type": "code",
   "execution_count": 5,
   "metadata": {},
   "outputs": [],
   "source": [
    "import pandas as pd\n",
    "from sklearn.linear_model import LinearRegression\n",
    "import statsmodels.api as sm\n",
    "\n",
    "import numpy as np\n",
    "\n",
    "import sklearn\n",
    "from sklearn.linear_model import LogisticRegression\n",
    "from sklearn.metrics import confusion_matrix\n",
    "\n",
    "import matplotlib.pyplot as plt\n",
    "import seaborn as sn\n",
    "\n",
    "pd.set_option('display.max_rows', 300) # specifies number of rows to show\n",
    "pd.options.display.float_format = '{:40,.4f}'.format # specifies default number format to 4 decimal places\n",
    "plt.style.use('ggplot') # specifies that graphs should use ggplot styling\n",
    "%matplotlib inline"
   ]
  },
  {
   "cell_type": "code",
   "execution_count": 13,
   "metadata": {},
   "outputs": [
    {
     "data": {
      "image/png": "[encoded data removed]",
      "text/plain": [
       "<Figure size 1368x1080 with 2 Axes>"
      ]
     },
     "metadata": {
      "needs_background": "light"
     },
     "output_type": "display_data"
    }
   ],
   "source": [
    "df2=df_numeric\n",
    "plt.rcParams[\"axes.grid\"] = False\n",
    "f = plt.figure(figsize=(19, 15))\n",
    "plt.matshow(df2.corr(), fignum=f.number)\n",
    "plt.xticks(range(df2.shape[1]), df2.columns, fontsize=14, rotation=45)\n",
    "plt.yticks(range(df2.shape[1]), df2.columns, fontsize=14)\n",
    "cb = plt.colorbar()\n",
    "cb.ax.tick_params(labelsize=14)\n",
    "plt.title('Correlation Matrix', fontsize=16)\n",
    "plt.savefig('Correlation_Matrix.png')\n"
   ]
  },
  {
   "cell_type": "code",
   "execution_count": 10,
   "metadata": {},
   "outputs": [
    {
     "data": {
      "text/html": [
       "<div>\n",
       "<style scoped>\n",
       "    .dataframe tbody tr th:only-of-type {\n",
       "        vertical-align: middle;\n",
       "    }\n",
       "\n",
       "    .dataframe tbody tr th {\n",
       "        vertical-align: top;\n",
       "    }\n",
       "\n",
       "    .dataframe thead th {\n",
       "        text-align: right;\n",
       "    }\n",
       "</style>\n",
       "<table border=\"1\" class=\"dataframe\">\n",
       "  <thead>\n",
       "    <tr style=\"text-align: right;\">\n",
       "      <th></th>\n",
       "      <th>host_about</th>\n",
       "      <th>host_response_rate</th>\n",
       "      <th>host_total_listings_count</th>\n",
       "      <th>accommodates</th>\n",
       "      <th>amenities</th>\n",
       "      <th>price</th>\n",
       "      <th>minimum_nights</th>\n",
       "      <th>number_of_reviews</th>\n",
       "      <th>review_scores_rating</th>\n",
       "      <th>room_type_Entire home/apt</th>\n",
       "      <th>room_type_Hotel room</th>\n",
       "      <th>room_type_Private room</th>\n",
       "      <th>room_type_Shared room</th>\n",
       "    </tr>\n",
       "  </thead>\n",
       "  <tbody>\n",
       "    <tr>\n",
       "      <th>count</th>\n",
       "      <td>4,019.0000</td>\n",
       "      <td>4,019.0000</td>\n",
       "      <td>4,019.0000</td>\n",
       "      <td>4,019.0000</td>\n",
       "      <td>4,019.0000</td>\n",
       "      <td>4,019.0000</td>\n",
       "      <td>4,019.0000</td>\n",
       "      <td>4,019.0000</td>\n",
       "      <td>4,019.0000</td>\n",
       "      <td>4,019.0000</td>\n",
       "      <td>4,019.0000</td>\n",
       "      <td>4,019.0000</td>\n",
       "      <td>4,019.0000</td>\n",
       "    </tr>\n",
       "    <tr>\n",
       "      <th>mean</th>\n",
       "      <td>40.8903</td>\n",
       "      <td>97.7701</td>\n",
       "      <td>7.8674</td>\n",
       "      <td>3.4723</td>\n",
       "      <td>22.8052</td>\n",
       "      <td>68.2307</td>\n",
       "      <td>2.1906</td>\n",
       "      <td>45.8034</td>\n",
       "      <td>92.7905</td>\n",
       "      <td>0.5158</td>\n",
       "      <td>0.0259</td>\n",
       "      <td>0.4519</td>\n",
       "      <td>0.0065</td>\n",
       "    </tr>\n",
       "    <tr>\n",
       "      <th>std</th>\n",
       "      <td>50.2144</td>\n",
       "      <td>5.2277</td>\n",
       "      <td>9.8288</td>\n",
       "      <td>1.9062</td>\n",
       "      <td>8.4123</td>\n",
       "      <td>44.6423</td>\n",
       "      <td>1.3953</td>\n",
       "      <td>45.1101</td>\n",
       "      <td>5.5811</td>\n",
       "      <td>0.4998</td>\n",
       "      <td>0.1588</td>\n",
       "      <td>0.4977</td>\n",
       "      <td>0.0802</td>\n",
       "    </tr>\n",
       "    <tr>\n",
       "      <th>min</th>\n",
       "      <td>1.0000</td>\n",
       "      <td>78.0000</td>\n",
       "      <td>0.0000</td>\n",
       "      <td>1.0000</td>\n",
       "      <td>1.0000</td>\n",
       "      <td>9.7100</td>\n",
       "      <td>1.0000</td>\n",
       "      <td>1.0000</td>\n",
       "      <td>75.0000</td>\n",
       "      <td>0.0000</td>\n",
       "      <td>0.0000</td>\n",
       "      <td>0.0000</td>\n",
       "      <td>0.0000</td>\n",
       "    </tr>\n",
       "    <tr>\n",
       "      <th>25%</th>\n",
       "      <td>1.0000</td>\n",
       "      <td>100.0000</td>\n",
       "      <td>1.0000</td>\n",
       "      <td>2.0000</td>\n",
       "      <td>17.0000</td>\n",
       "      <td>30.0000</td>\n",
       "      <td>1.0000</td>\n",
       "      <td>8.0000</td>\n",
       "      <td>89.0000</td>\n",
       "      <td>0.0000</td>\n",
       "      <td>0.0000</td>\n",
       "      <td>0.0000</td>\n",
       "      <td>0.0000</td>\n",
       "    </tr>\n",
       "    <tr>\n",
       "      <th>50%</th>\n",
       "      <td>24.0000</td>\n",
       "      <td>100.0000</td>\n",
       "      <td>3.0000</td>\n",
       "      <td>3.0000</td>\n",
       "      <td>23.0000</td>\n",
       "      <td>58.0000</td>\n",
       "      <td>2.0000</td>\n",
       "      <td>30.0000</td>\n",
       "      <td>94.0000</td>\n",
       "      <td>1.0000</td>\n",
       "      <td>0.0000</td>\n",
       "      <td>0.0000</td>\n",
       "      <td>0.0000</td>\n",
       "    </tr>\n",
       "    <tr>\n",
       "      <th>75%</th>\n",
       "      <td>59.0000</td>\n",
       "      <td>100.0000</td>\n",
       "      <td>11.0000</td>\n",
       "      <td>5.0000</td>\n",
       "      <td>29.0000</td>\n",
       "      <td>96.5000</td>\n",
       "      <td>3.0000</td>\n",
       "      <td>73.0000</td>\n",
       "      <td>97.0000</td>\n",
       "      <td>1.0000</td>\n",
       "      <td>0.0000</td>\n",
       "      <td>1.0000</td>\n",
       "      <td>0.0000</td>\n",
       "    </tr>\n",
       "    <tr>\n",
       "      <th>max</th>\n",
       "      <td>213.0000</td>\n",
       "      <td>100.0000</td>\n",
       "      <td>47.0000</td>\n",
       "      <td>9.0000</td>\n",
       "      <td>48.0000</td>\n",
       "      <td>201.0000</td>\n",
       "      <td>10.0000</td>\n",
       "      <td>169.0000</td>\n",
       "      <td>100.0000</td>\n",
       "      <td>1.0000</td>\n",
       "      <td>1.0000</td>\n",
       "      <td>1.0000</td>\n",
       "      <td>1.0000</td>\n",
       "    </tr>\n",
       "  </tbody>\n",
       "</table>\n",
       "</div>"
      ],
      "text/plain": [
       "                                    host_about  \\\n",
       "count                               4,019.0000   \n",
       "mean                                   40.8903   \n",
       "std                                    50.2144   \n",
       "min                                     1.0000   \n",
       "25%                                     1.0000   \n",
       "50%                                    24.0000   \n",
       "75%                                    59.0000   \n",
       "max                                   213.0000   \n",
       "\n",
       "                            host_response_rate  \\\n",
       "count                               4,019.0000   \n",
       "mean                                   97.7701   \n",
       "std                                     5.2277   \n",
       "min                                    78.0000   \n",
       "25%                                   100.0000   \n",
       "50%                                   100.0000   \n",
       "75%                                   100.0000   \n",
       "max                                   100.0000   \n",
       "\n",
       "                     host_total_listings_count  \\\n",
       "count                               4,019.0000   \n",
       "mean                                    7.8674   \n",
       "std                                     9.8288   \n",
       "min                                     0.0000   \n",
       "25%                                     1.0000   \n",
       "50%                                     3.0000   \n",
       "75%                                    11.0000   \n",
       "max                                    47.0000   \n",
       "\n",
       "                                  accommodates  \\\n",
       "count                               4,019.0000   \n",
       "mean                                    3.4723   \n",
       "std                                     1.9062   \n",
       "min                                     1.0000   \n",
       "25%                                     2.0000   \n",
       "50%                                     3.0000   \n",
       "75%                                     5.0000   \n",
       "max                                     9.0000   \n",
       "\n",
       "                                     amenities  \\\n",
       "count                               4,019.0000   \n",
       "mean                                   22.8052   \n",
       "std                                     8.4123   \n",
       "min                                     1.0000   \n",
       "25%                                    17.0000   \n",
       "50%                                    23.0000   \n",
       "75%                                    29.0000   \n",
       "max                                    48.0000   \n",
       "\n",
       "                                         price  \\\n",
       "count                               4,019.0000   \n",
       "mean                                   68.2307   \n",
       "std                                    44.6423   \n",
       "min                                     9.7100   \n",
       "25%                                    30.0000   \n",
       "50%                                    58.0000   \n",
       "75%                                    96.5000   \n",
       "max                                   201.0000   \n",
       "\n",
       "                                minimum_nights  \\\n",
       "count                               4,019.0000   \n",
       "mean                                    2.1906   \n",
       "std                                     1.3953   \n",
       "min                                     1.0000   \n",
       "25%                                     1.0000   \n",
       "50%                                     2.0000   \n",
       "75%                                     3.0000   \n",
       "max                                    10.0000   \n",
       "\n",
       "                             number_of_reviews  \\\n",
       "count                               4,019.0000   \n",
       "mean                                   45.8034   \n",
       "std                                    45.1101   \n",
       "min                                     1.0000   \n",
       "25%                                     8.0000   \n",
       "50%                                    30.0000   \n",
       "75%                                    73.0000   \n",
       "max                                   169.0000   \n",
       "\n",
       "                          review_scores_rating  \\\n",
       "count                               4,019.0000   \n",
       "mean                                   92.7905   \n",
       "std                                     5.5811   \n",
       "min                                    75.0000   \n",
       "25%                                    89.0000   \n",
       "50%                                    94.0000   \n",
       "75%                                    97.0000   \n",
       "max                                   100.0000   \n",
       "\n",
       "                     room_type_Entire home/apt  \\\n",
       "count                               4,019.0000   \n",
       "mean                                    0.5158   \n",
       "std                                     0.4998   \n",
       "min                                     0.0000   \n",
       "25%                                     0.0000   \n",
       "50%                                     1.0000   \n",
       "75%                                     1.0000   \n",
       "max                                     1.0000   \n",
       "\n",
       "                          room_type_Hotel room  \\\n",
       "count                               4,019.0000   \n",
       "mean                                    0.0259   \n",
       "std                                     0.1588   \n",
       "min                                     0.0000   \n",
       "25%                                     0.0000   \n",
       "50%                                     0.0000   \n",
       "75%                                     0.0000   \n",
       "max                                     1.0000   \n",
       "\n",
       "                        room_type_Private room  \\\n",
       "count                               4,019.0000   \n",
       "mean                                    0.4519   \n",
       "std                                     0.4977   \n",
       "min                                     0.0000   \n",
       "25%                                     0.0000   \n",
       "50%                                     0.0000   \n",
       "75%                                     1.0000   \n",
       "max                                     1.0000   \n",
       "\n",
       "                         room_type_Shared room  \n",
       "count                               4,019.0000  \n",
       "mean                                    0.0065  \n",
       "std                                     0.0802  \n",
       "min                                     0.0000  \n",
       "25%                                     0.0000  \n",
       "50%                                     0.0000  \n",
       "75%                                     0.0000  \n",
       "max                                     1.0000  "
      ]
     },
     "execution_count": 10,
     "metadata": {},
     "output_type": "execute_result"
    }
   ],
   "source": [
    "df_numeric.describe()"
   ]
  },
  {
   "cell_type": "markdown",
   "metadata": {},
   "source": [
    "#### VIF"
   ]
  },
  {
   "cell_type": "code",
   "execution_count": 8,
   "metadata": {},
   "outputs": [],
   "source": [
    "review_scores_rating = df_numeric.loc[:,['review_scores_rating', 'room_type_Hotel room', 'room_type_Entire home/apt', 'room_type_Private room', 'room_type_Shared room']]"
   ]
  },
  {
   "cell_type": "code",
   "execution_count": 9,
   "metadata": {},
   "outputs": [],
   "source": [
    "# This function is partially from: https://stackoverflow.com/a/51329496/4667568\n",
    "from statsmodels.stats.outliers_influence import variance_inflation_factor \n",
    "from statsmodels.tools.tools import add_constant\n",
    "\n",
    "def drop_column_using_vif_(df, thresh=5):\n",
    "    '''\n",
    "    Calculates VIF each feature in a pandas dataframe, and repeatedly drop the columns with the highest VIF\n",
    "    A constant must be added to variance_inflation_factor or the results will be incorrect\n",
    "\n",
    "    :param df: the pandas dataframe containing only the predictor features x, not the response variable y\n",
    "    :param thresh: the max VIF value before the feature is removed from the dataframe\n",
    "    :return: dataframe with multicollinear features removed\n",
    "    '''\n",
    "    while True:\n",
    "        # adding a constatnt item to the data\n",
    "        df_with_const = add_constant(df)\n",
    "\n",
    "        vif_df = pd.Series([variance_inflation_factor(df_with_const.values, i) \n",
    "               for i in range(df_with_const.shape[1])], name= \"VIF\",\n",
    "              index=df_with_const.columns).to_frame()\n",
    "\n",
    "        # drop the const\n",
    "        vif_df = vif_df.drop('const')\n",
    "        \n",
    "        # if the largest VIF is above the thresh, remove a variable with the largest VIF\n",
    "        if vif_df.VIF.max() > thresh:\n",
    "            # If there are multiple variables with the maximum VIF, choose the first one\n",
    "            index_to_drop = vif_df.index[vif_df.VIF == vif_df.VIF.max()].tolist()[0]\n",
    "            print('Dropping: {}'.format(index_to_drop))\n",
    "            df = df.drop(columns = index_to_drop)\n",
    "        else:\n",
    "            # No VIF is above threshold. Exit the loop\n",
    "            break\n",
    "\n",
    "    return df"
   ]
  },
  {
   "cell_type": "code",
   "execution_count": 10,
   "metadata": {},
   "outputs": [
    {
     "name": "stdout",
     "output_type": "stream",
     "text": [
      "Dropping: room_type_Hotel room\n",
      "Dropping: room_type_Entire home/apt\n"
     ]
    },
    {
     "name": "stderr",
     "output_type": "stream",
     "text": [
      "C:\\Users\\Administrator\\anaconda3\\envs\\sds2020\\lib\\site-packages\\statsmodels\\regression\\linear_model.py:1715: RuntimeWarning: divide by zero encountered in double_scalars\n",
      "  return 1 - self.ssr/self.centered_tss\n",
      "C:\\Users\\Administrator\\anaconda3\\envs\\sds2020\\lib\\site-packages\\statsmodels\\stats\\outliers_influence.py:193: RuntimeWarning: divide by zero encountered in double_scalars\n",
      "  vif = 1. / (1. - r_squared_i)\n"
     ]
    }
   ],
   "source": [
    "room_types_new = drop_column_using_vif_(review_scores_rating.drop('review_scores_rating', axis=1))"
   ]
  },
  {
   "cell_type": "code",
   "execution_count": 11,
   "metadata": {},
   "outputs": [
    {
     "name": "stdout",
     "output_type": "stream",
     "text": [
      "<class 'pandas.core.frame.DataFrame'>\n",
      "RangeIndex: 4855 entries, 0 to 4854\n",
      "Data columns (total 13 columns):\n",
      " #   Column                     Non-Null Count  Dtype  \n",
      "---  ------                     --------------  -----  \n",
      " 0   host_about                 4855 non-null   int64  \n",
      " 1   host_response_rate         4855 non-null   float64\n",
      " 2   host_is_superhost          4855 non-null   bool   \n",
      " 3   host_total_listings_count  4855 non-null   float64\n",
      " 4   accommodates               4855 non-null   int64  \n",
      " 5   amenities                  4855 non-null   int64  \n",
      " 6   price                      4855 non-null   float64\n",
      " 7   minimum_nights             4855 non-null   int64  \n",
      " 8   number_of_reviews          4855 non-null   int64  \n",
      " 9   review_scores_rating       4855 non-null   float64\n",
      " 10  instant_bookable           4855 non-null   bool   \n",
      " 11  room_type_Private room     4855 non-null   uint8  \n",
      " 12  room_type_Shared room      4855 non-null   uint8  \n",
      "dtypes: bool(2), float64(4), int64(5), uint8(2)\n",
      "memory usage: 360.5 KB\n"
     ]
    }
   ],
   "source": [
    "df_model=df_numeric.drop(['room_type_Entire home/apt','room_type_Hotel room'], axis=1)\n",
    "df_model.info()"
   ]
  },
  {
   "cell_type": "code",
   "execution_count": 12,
   "metadata": {},
   "outputs": [
    {
     "name": "stdout",
     "output_type": "stream",
     "text": [
      "<class 'pandas.core.frame.DataFrame'>\n",
      "RangeIndex: 4855 entries, 0 to 4854\n",
      "Data columns (total 15 columns):\n",
      " #   Column                     Non-Null Count  Dtype  \n",
      "---  ------                     --------------  -----  \n",
      " 0   host_about                 4855 non-null   int64  \n",
      " 1   host_response_rate         4855 non-null   float64\n",
      " 2   host_is_superhost          4855 non-null   bool   \n",
      " 3   host_total_listings_count  4855 non-null   float64\n",
      " 4   accommodates               4855 non-null   int64  \n",
      " 5   amenities                  4855 non-null   int64  \n",
      " 6   price                      4855 non-null   float64\n",
      " 7   minimum_nights             4855 non-null   int64  \n",
      " 8   number_of_reviews          4855 non-null   int64  \n",
      " 9   review_scores_rating       4855 non-null   float64\n",
      " 10  instant_bookable           4855 non-null   bool   \n",
      " 11  room_type_Entire home/apt  4855 non-null   uint8  \n",
      " 12  room_type_Hotel room       4855 non-null   uint8  \n",
      " 13  room_type_Private room     4855 non-null   uint8  \n",
      " 14  room_type_Shared room      4855 non-null   uint8  \n",
      "dtypes: bool(2), float64(4), int64(5), uint8(4)\n",
      "memory usage: 369.9 KB\n"
     ]
    }
   ],
   "source": [
    "df_numeric.info()"
   ]
  },
  {
   "cell_type": "markdown",
   "metadata": {},
   "source": [
    "### fit the model"
   ]
  },
  {
   "cell_type": "code",
   "execution_count": 13,
   "metadata": {},
   "outputs": [
    {
     "data": {
      "text/plain": [
       "array(['host_about', 'host_response_rate', 'host_is_superhost',\n",
       "       'host_total_listings_count', 'accommodates', 'amenities', 'price',\n",
       "       'minimum_nights', 'number_of_reviews', 'review_scores_rating',\n",
       "       'instant_bookable', 'room_type_Private room',\n",
       "       'room_type_Shared room'], dtype=object)"
      ]
     },
     "execution_count": 13,
     "metadata": {},
     "output_type": "execute_result"
    }
   ],
   "source": [
    "df_model.columns.values"
   ]
  },
  {
   "cell_type": "code",
   "execution_count": 19,
   "metadata": {},
   "outputs": [],
   "source": [
    "df_model1=df_model.rename(columns={\"room_type_Shared room\": \"room_type_Shared_room\",\n",
    "                         \"room_type_Hotel room\": \"room_type_Hotel_room\",\n",
    "                        \"room_type_Private room\":\"room_type_Private_room\",\n",
    "                        \"room_type_Entire home/apt\": \"room_type_Entire_home/apt\"})"
   ]
  },
  {
   "cell_type": "code",
   "execution_count": 18,
   "metadata": {},
   "outputs": [
    {
     "data": {
      "text/plain": [
       "array(['host_about', 'host_response_rate', 'host_is_superhost',\n",
       "       'host_total_listings_count', 'accommodates', 'amenities', 'price',\n",
       "       'minimum_nights', 'number_of_reviews', 'review_scores_rating',\n",
       "       'instant_bookable', 'room_type_Private_room',\n",
       "       'room_type_Shared_room'], dtype=object)"
      ]
     },
     "execution_count": 18,
     "metadata": {},
     "output_type": "execute_result"
    }
   ],
   "source": [
    "df_model1.columns.values"
   ]
  },
  {
   "cell_type": "code",
   "execution_count": 20,
   "metadata": {},
   "outputs": [
    {
     "ename": "PatsyError",
     "evalue": "Error evaluating factor: NameError: name 'room_type_Entire_home' is not defined\n    review_scores_rating ~ host_about + host_response_rate + host_total_listings_count + accommodates + amenities + price+ minimum_nights + number_of_reviews + host_is_superhost + room_type_Private_room + room_type_Shared_room +room_type_Hotel_room +room_type_Entire_home/apt+ instant_bookable\n                                                                                                                                                                                                                                                          ^^^^^^^^^^^^^^^^^^^^^",
     "output_type": "error",
     "traceback": [
      "\u001b[1;31m---------------------------------------------------------------------------\u001b[0m",
      "\u001b[1;31mNameError\u001b[0m                                 Traceback (most recent call last)",
      "\u001b[1;32m~\\anaconda3\\envs\\sds2020\\lib\\site-packages\\patsy\\compat.py\u001b[0m in \u001b[0;36mcall_and_wrap_exc\u001b[1;34m(msg, origin, f, *args, **kwargs)\u001b[0m\n\u001b[0;32m     35\u001b[0m     \u001b[1;32mtry\u001b[0m\u001b[1;33m:\u001b[0m\u001b[1;33m\u001b[0m\u001b[1;33m\u001b[0m\u001b[0m\n\u001b[1;32m---> 36\u001b[1;33m         \u001b[1;32mreturn\u001b[0m \u001b[0mf\u001b[0m\u001b[1;33m(\u001b[0m\u001b[1;33m*\u001b[0m\u001b[0margs\u001b[0m\u001b[1;33m,\u001b[0m \u001b[1;33m**\u001b[0m\u001b[0mkwargs\u001b[0m\u001b[1;33m)\u001b[0m\u001b[1;33m\u001b[0m\u001b[1;33m\u001b[0m\u001b[0m\n\u001b[0m\u001b[0;32m     37\u001b[0m     \u001b[1;32mexcept\u001b[0m \u001b[0mException\u001b[0m \u001b[1;32mas\u001b[0m \u001b[0me\u001b[0m\u001b[1;33m:\u001b[0m\u001b[1;33m\u001b[0m\u001b[1;33m\u001b[0m\u001b[0m\n",
      "\u001b[1;32m~\\anaconda3\\envs\\sds2020\\lib\\site-packages\\patsy\\eval.py\u001b[0m in \u001b[0;36meval\u001b[1;34m(self, expr, source_name, inner_namespace)\u001b[0m\n\u001b[0;32m    165\u001b[0m         return eval(code, {}, VarLookupDict([inner_namespace]\n\u001b[1;32m--> 166\u001b[1;33m                                             + self._namespaces))\n\u001b[0m\u001b[0;32m    167\u001b[0m \u001b[1;33m\u001b[0m\u001b[0m\n",
      "\u001b[1;32m<string>\u001b[0m in \u001b[0;36m<module>\u001b[1;34m\u001b[0m\n",
      "\u001b[1;31mNameError\u001b[0m: name 'room_type_Entire_home' is not defined",
      "\nThe above exception was the direct cause of the following exception:\n",
      "\u001b[1;31mPatsyError\u001b[0m                                Traceback (most recent call last)",
      "\u001b[1;32m<ipython-input-20-71c21eb93549>\u001b[0m in \u001b[0;36m<module>\u001b[1;34m\u001b[0m\n\u001b[0;32m      7\u001b[0m mod1 = sm.formula.ols('''review_scores_rating ~ host_about + host_response_rate +\n\u001b[0;32m      8\u001b[0m \u001b[0mhost_total_listings_count\u001b[0m \u001b[1;33m+\u001b[0m \u001b[0maccommodates\u001b[0m \u001b[1;33m+\u001b[0m \u001b[0mamenities\u001b[0m \u001b[1;33m+\u001b[0m \u001b[0mprice\u001b[0m\u001b[1;33m+\u001b[0m \u001b[0mminimum_nights\u001b[0m \u001b[1;33m+\u001b[0m \u001b[0mnumber_of_reviews\u001b[0m\u001b[1;33m\u001b[0m\u001b[1;33m\u001b[0m\u001b[0m\n\u001b[1;32m----> 9\u001b[1;33m + host_is_superhost + room_type_Private_room + room_type_Shared_room +room_type_Hotel_room +room_type_Entire_home/apt+ instant_bookable ''', df_model1)\n\u001b[0m\u001b[0;32m     10\u001b[0m \u001b[0mres\u001b[0m \u001b[1;33m=\u001b[0m \u001b[0mmod1\u001b[0m\u001b[1;33m.\u001b[0m\u001b[0mfit\u001b[0m\u001b[1;33m(\u001b[0m\u001b[1;33m)\u001b[0m\u001b[1;33m\u001b[0m\u001b[1;33m\u001b[0m\u001b[0m\n\u001b[0;32m     11\u001b[0m \u001b[1;33m\u001b[0m\u001b[0m\n",
      "\u001b[1;32m~\\anaconda3\\envs\\sds2020\\lib\\site-packages\\statsmodels\\base\\model.py\u001b[0m in \u001b[0;36mfrom_formula\u001b[1;34m(cls, formula, data, subset, drop_cols, *args, **kwargs)\u001b[0m\n\u001b[0;32m    168\u001b[0m \u001b[1;33m\u001b[0m\u001b[0m\n\u001b[0;32m    169\u001b[0m         tmp = handle_formula_data(data, None, formula, depth=eval_env,\n\u001b[1;32m--> 170\u001b[1;33m                                   missing=missing)\n\u001b[0m\u001b[0;32m    171\u001b[0m         \u001b[1;33m(\u001b[0m\u001b[1;33m(\u001b[0m\u001b[0mendog\u001b[0m\u001b[1;33m,\u001b[0m \u001b[0mexog\u001b[0m\u001b[1;33m)\u001b[0m\u001b[1;33m,\u001b[0m \u001b[0mmissing_idx\u001b[0m\u001b[1;33m,\u001b[0m \u001b[0mdesign_info\u001b[0m\u001b[1;33m)\u001b[0m \u001b[1;33m=\u001b[0m \u001b[0mtmp\u001b[0m\u001b[1;33m\u001b[0m\u001b[1;33m\u001b[0m\u001b[0m\n\u001b[0;32m    172\u001b[0m         \u001b[0mmax_endog\u001b[0m \u001b[1;33m=\u001b[0m \u001b[0mcls\u001b[0m\u001b[1;33m.\u001b[0m\u001b[0m_formula_max_endog\u001b[0m\u001b[1;33m\u001b[0m\u001b[1;33m\u001b[0m\u001b[0m\n",
      "\u001b[1;32m~\\anaconda3\\envs\\sds2020\\lib\\site-packages\\statsmodels\\formula\\formulatools.py\u001b[0m in \u001b[0;36mhandle_formula_data\u001b[1;34m(Y, X, formula, depth, missing)\u001b[0m\n\u001b[0;32m     62\u001b[0m         \u001b[1;32mif\u001b[0m \u001b[0mdata_util\u001b[0m\u001b[1;33m.\u001b[0m\u001b[0m_is_using_pandas\u001b[0m\u001b[1;33m(\u001b[0m\u001b[0mY\u001b[0m\u001b[1;33m,\u001b[0m \u001b[1;32mNone\u001b[0m\u001b[1;33m)\u001b[0m\u001b[1;33m:\u001b[0m\u001b[1;33m\u001b[0m\u001b[1;33m\u001b[0m\u001b[0m\n\u001b[0;32m     63\u001b[0m             result = dmatrices(formula, Y, depth, return_type='dataframe',\n\u001b[1;32m---> 64\u001b[1;33m                                NA_action=na_action)\n\u001b[0m\u001b[0;32m     65\u001b[0m         \u001b[1;32melse\u001b[0m\u001b[1;33m:\u001b[0m\u001b[1;33m\u001b[0m\u001b[1;33m\u001b[0m\u001b[0m\n\u001b[0;32m     66\u001b[0m             result = dmatrices(formula, Y, depth, return_type='dataframe',\n",
      "\u001b[1;32m~\\anaconda3\\envs\\sds2020\\lib\\site-packages\\patsy\\highlevel.py\u001b[0m in \u001b[0;36mdmatrices\u001b[1;34m(formula_like, data, eval_env, NA_action, return_type)\u001b[0m\n\u001b[0;32m    308\u001b[0m     \u001b[0meval_env\u001b[0m \u001b[1;33m=\u001b[0m \u001b[0mEvalEnvironment\u001b[0m\u001b[1;33m.\u001b[0m\u001b[0mcapture\u001b[0m\u001b[1;33m(\u001b[0m\u001b[0meval_env\u001b[0m\u001b[1;33m,\u001b[0m \u001b[0mreference\u001b[0m\u001b[1;33m=\u001b[0m\u001b[1;36m1\u001b[0m\u001b[1;33m)\u001b[0m\u001b[1;33m\u001b[0m\u001b[1;33m\u001b[0m\u001b[0m\n\u001b[0;32m    309\u001b[0m     (lhs, rhs) = _do_highlevel_design(formula_like, data, eval_env,\n\u001b[1;32m--> 310\u001b[1;33m                                       NA_action, return_type)\n\u001b[0m\u001b[0;32m    311\u001b[0m     \u001b[1;32mif\u001b[0m \u001b[0mlhs\u001b[0m\u001b[1;33m.\u001b[0m\u001b[0mshape\u001b[0m\u001b[1;33m[\u001b[0m\u001b[1;36m1\u001b[0m\u001b[1;33m]\u001b[0m \u001b[1;33m==\u001b[0m \u001b[1;36m0\u001b[0m\u001b[1;33m:\u001b[0m\u001b[1;33m\u001b[0m\u001b[1;33m\u001b[0m\u001b[0m\n\u001b[0;32m    312\u001b[0m         \u001b[1;32mraise\u001b[0m \u001b[0mPatsyError\u001b[0m\u001b[1;33m(\u001b[0m\u001b[1;34m\"model is missing required outcome variables\"\u001b[0m\u001b[1;33m)\u001b[0m\u001b[1;33m\u001b[0m\u001b[1;33m\u001b[0m\u001b[0m\n",
      "\u001b[1;32m~\\anaconda3\\envs\\sds2020\\lib\\site-packages\\patsy\\highlevel.py\u001b[0m in \u001b[0;36m_do_highlevel_design\u001b[1;34m(formula_like, data, eval_env, NA_action, return_type)\u001b[0m\n\u001b[0;32m    163\u001b[0m         \u001b[1;32mreturn\u001b[0m \u001b[0miter\u001b[0m\u001b[1;33m(\u001b[0m\u001b[1;33m[\u001b[0m\u001b[0mdata\u001b[0m\u001b[1;33m]\u001b[0m\u001b[1;33m)\u001b[0m\u001b[1;33m\u001b[0m\u001b[1;33m\u001b[0m\u001b[0m\n\u001b[0;32m    164\u001b[0m     design_infos = _try_incr_builders(formula_like, data_iter_maker, eval_env,\n\u001b[1;32m--> 165\u001b[1;33m                                       NA_action)\n\u001b[0m\u001b[0;32m    166\u001b[0m     \u001b[1;32mif\u001b[0m \u001b[0mdesign_infos\u001b[0m \u001b[1;32mis\u001b[0m \u001b[1;32mnot\u001b[0m \u001b[1;32mNone\u001b[0m\u001b[1;33m:\u001b[0m\u001b[1;33m\u001b[0m\u001b[1;33m\u001b[0m\u001b[0m\n\u001b[0;32m    167\u001b[0m         return build_design_matrices(design_infos, data,\n",
      "\u001b[1;32m~\\anaconda3\\envs\\sds2020\\lib\\site-packages\\patsy\\highlevel.py\u001b[0m in \u001b[0;36m_try_incr_builders\u001b[1;34m(formula_like, data_iter_maker, eval_env, NA_action)\u001b[0m\n\u001b[0;32m     68\u001b[0m                                       \u001b[0mdata_iter_maker\u001b[0m\u001b[1;33m,\u001b[0m\u001b[1;33m\u001b[0m\u001b[1;33m\u001b[0m\u001b[0m\n\u001b[0;32m     69\u001b[0m                                       \u001b[0meval_env\u001b[0m\u001b[1;33m,\u001b[0m\u001b[1;33m\u001b[0m\u001b[1;33m\u001b[0m\u001b[0m\n\u001b[1;32m---> 70\u001b[1;33m                                       NA_action)\n\u001b[0m\u001b[0;32m     71\u001b[0m     \u001b[1;32melse\u001b[0m\u001b[1;33m:\u001b[0m\u001b[1;33m\u001b[0m\u001b[1;33m\u001b[0m\u001b[0m\n\u001b[0;32m     72\u001b[0m         \u001b[1;32mreturn\u001b[0m \u001b[1;32mNone\u001b[0m\u001b[1;33m\u001b[0m\u001b[1;33m\u001b[0m\u001b[0m\n",
      "\u001b[1;32m~\\anaconda3\\envs\\sds2020\\lib\\site-packages\\patsy\\build.py\u001b[0m in \u001b[0;36mdesign_matrix_builders\u001b[1;34m(termlists, data_iter_maker, eval_env, NA_action)\u001b[0m\n\u001b[0;32m    694\u001b[0m                                                    \u001b[0mfactor_states\u001b[0m\u001b[1;33m,\u001b[0m\u001b[1;33m\u001b[0m\u001b[1;33m\u001b[0m\u001b[0m\n\u001b[0;32m    695\u001b[0m                                                    \u001b[0mdata_iter_maker\u001b[0m\u001b[1;33m,\u001b[0m\u001b[1;33m\u001b[0m\u001b[1;33m\u001b[0m\u001b[0m\n\u001b[1;32m--> 696\u001b[1;33m                                                    NA_action)\n\u001b[0m\u001b[0;32m    697\u001b[0m     \u001b[1;31m# Now we need the factor infos, which encapsulate the knowledge of\u001b[0m\u001b[1;33m\u001b[0m\u001b[1;33m\u001b[0m\u001b[1;33m\u001b[0m\u001b[0m\n\u001b[0;32m    698\u001b[0m     \u001b[1;31m# how to turn any given factor into a chunk of data:\u001b[0m\u001b[1;33m\u001b[0m\u001b[1;33m\u001b[0m\u001b[1;33m\u001b[0m\u001b[0m\n",
      "\u001b[1;32m~\\anaconda3\\envs\\sds2020\\lib\\site-packages\\patsy\\build.py\u001b[0m in \u001b[0;36m_examine_factor_types\u001b[1;34m(factors, factor_states, data_iter_maker, NA_action)\u001b[0m\n\u001b[0;32m    441\u001b[0m     \u001b[1;32mfor\u001b[0m \u001b[0mdata\u001b[0m \u001b[1;32min\u001b[0m \u001b[0mdata_iter_maker\u001b[0m\u001b[1;33m(\u001b[0m\u001b[1;33m)\u001b[0m\u001b[1;33m:\u001b[0m\u001b[1;33m\u001b[0m\u001b[1;33m\u001b[0m\u001b[0m\n\u001b[0;32m    442\u001b[0m         \u001b[1;32mfor\u001b[0m \u001b[0mfactor\u001b[0m \u001b[1;32min\u001b[0m \u001b[0mlist\u001b[0m\u001b[1;33m(\u001b[0m\u001b[0mexamine_needed\u001b[0m\u001b[1;33m)\u001b[0m\u001b[1;33m:\u001b[0m\u001b[1;33m\u001b[0m\u001b[1;33m\u001b[0m\u001b[0m\n\u001b[1;32m--> 443\u001b[1;33m             \u001b[0mvalue\u001b[0m \u001b[1;33m=\u001b[0m \u001b[0mfactor\u001b[0m\u001b[1;33m.\u001b[0m\u001b[0meval\u001b[0m\u001b[1;33m(\u001b[0m\u001b[0mfactor_states\u001b[0m\u001b[1;33m[\u001b[0m\u001b[0mfactor\u001b[0m\u001b[1;33m]\u001b[0m\u001b[1;33m,\u001b[0m \u001b[0mdata\u001b[0m\u001b[1;33m)\u001b[0m\u001b[1;33m\u001b[0m\u001b[1;33m\u001b[0m\u001b[0m\n\u001b[0m\u001b[0;32m    444\u001b[0m             \u001b[1;32mif\u001b[0m \u001b[0mfactor\u001b[0m \u001b[1;32min\u001b[0m \u001b[0mcat_sniffers\u001b[0m \u001b[1;32mor\u001b[0m \u001b[0mguess_categorical\u001b[0m\u001b[1;33m(\u001b[0m\u001b[0mvalue\u001b[0m\u001b[1;33m)\u001b[0m\u001b[1;33m:\u001b[0m\u001b[1;33m\u001b[0m\u001b[1;33m\u001b[0m\u001b[0m\n\u001b[0;32m    445\u001b[0m                 \u001b[1;32mif\u001b[0m \u001b[0mfactor\u001b[0m \u001b[1;32mnot\u001b[0m \u001b[1;32min\u001b[0m \u001b[0mcat_sniffers\u001b[0m\u001b[1;33m:\u001b[0m\u001b[1;33m\u001b[0m\u001b[1;33m\u001b[0m\u001b[0m\n",
      "\u001b[1;32m~\\anaconda3\\envs\\sds2020\\lib\\site-packages\\patsy\\eval.py\u001b[0m in \u001b[0;36meval\u001b[1;34m(self, memorize_state, data)\u001b[0m\n\u001b[0;32m    564\u001b[0m         return self._eval(memorize_state[\"eval_code\"],\n\u001b[0;32m    565\u001b[0m                           \u001b[0mmemorize_state\u001b[0m\u001b[1;33m,\u001b[0m\u001b[1;33m\u001b[0m\u001b[1;33m\u001b[0m\u001b[0m\n\u001b[1;32m--> 566\u001b[1;33m                           data)\n\u001b[0m\u001b[0;32m    567\u001b[0m \u001b[1;33m\u001b[0m\u001b[0m\n\u001b[0;32m    568\u001b[0m     \u001b[0m__getstate__\u001b[0m \u001b[1;33m=\u001b[0m \u001b[0mno_pickling\u001b[0m\u001b[1;33m\u001b[0m\u001b[1;33m\u001b[0m\u001b[0m\n",
      "\u001b[1;32m~\\anaconda3\\envs\\sds2020\\lib\\site-packages\\patsy\\eval.py\u001b[0m in \u001b[0;36m_eval\u001b[1;34m(self, code, memorize_state, data)\u001b[0m\n\u001b[0;32m    549\u001b[0m                                  \u001b[0mmemorize_state\u001b[0m\u001b[1;33m[\u001b[0m\u001b[1;34m\"eval_env\"\u001b[0m\u001b[1;33m]\u001b[0m\u001b[1;33m.\u001b[0m\u001b[0meval\u001b[0m\u001b[1;33m,\u001b[0m\u001b[1;33m\u001b[0m\u001b[1;33m\u001b[0m\u001b[0m\n\u001b[0;32m    550\u001b[0m                                  \u001b[0mcode\u001b[0m\u001b[1;33m,\u001b[0m\u001b[1;33m\u001b[0m\u001b[1;33m\u001b[0m\u001b[0m\n\u001b[1;32m--> 551\u001b[1;33m                                  inner_namespace=inner_namespace)\n\u001b[0m\u001b[0;32m    552\u001b[0m \u001b[1;33m\u001b[0m\u001b[0m\n\u001b[0;32m    553\u001b[0m     \u001b[1;32mdef\u001b[0m \u001b[0mmemorize_chunk\u001b[0m\u001b[1;33m(\u001b[0m\u001b[0mself\u001b[0m\u001b[1;33m,\u001b[0m \u001b[0mstate\u001b[0m\u001b[1;33m,\u001b[0m \u001b[0mwhich_pass\u001b[0m\u001b[1;33m,\u001b[0m \u001b[0mdata\u001b[0m\u001b[1;33m)\u001b[0m\u001b[1;33m:\u001b[0m\u001b[1;33m\u001b[0m\u001b[1;33m\u001b[0m\u001b[0m\n",
      "\u001b[1;32m~\\anaconda3\\envs\\sds2020\\lib\\site-packages\\patsy\\compat.py\u001b[0m in \u001b[0;36mcall_and_wrap_exc\u001b[1;34m(msg, origin, f, *args, **kwargs)\u001b[0m\n\u001b[0;32m     41\u001b[0m                                  origin)\n\u001b[0;32m     42\u001b[0m             \u001b[1;31m# Use 'exec' to hide this syntax from the Python 2 parser:\u001b[0m\u001b[1;33m\u001b[0m\u001b[1;33m\u001b[0m\u001b[1;33m\u001b[0m\u001b[0m\n\u001b[1;32m---> 43\u001b[1;33m             \u001b[0mexec\u001b[0m\u001b[1;33m(\u001b[0m\u001b[1;34m\"raise new_exc from e\"\u001b[0m\u001b[1;33m)\u001b[0m\u001b[1;33m\u001b[0m\u001b[1;33m\u001b[0m\u001b[0m\n\u001b[0m\u001b[0;32m     44\u001b[0m         \u001b[1;32melse\u001b[0m\u001b[1;33m:\u001b[0m\u001b[1;33m\u001b[0m\u001b[1;33m\u001b[0m\u001b[0m\n\u001b[0;32m     45\u001b[0m             \u001b[1;31m# In python 2, we just let the original exception escape -- better\u001b[0m\u001b[1;33m\u001b[0m\u001b[1;33m\u001b[0m\u001b[1;33m\u001b[0m\u001b[0m\n",
      "\u001b[1;32m~\\anaconda3\\envs\\sds2020\\lib\\site-packages\\patsy\\compat.py\u001b[0m in \u001b[0;36m<module>\u001b[1;34m\u001b[0m\n",
      "\u001b[1;31mPatsyError\u001b[0m: Error evaluating factor: NameError: name 'room_type_Entire_home' is not defined\n    review_scores_rating ~ host_about + host_response_rate + host_total_listings_count + accommodates + amenities + price+ minimum_nights + number_of_reviews + host_is_superhost + room_type_Private_room + room_type_Shared_room +room_type_Hotel_room +room_type_Entire_home/apt+ instant_bookable\n                                                                                                                                                                                                                                                          ^^^^^^^^^^^^^^^^^^^^^"
     ]
    }
   ],
   "source": [
    "# Selecting model\n",
    "import statsmodels.formula.api as smf\n",
    "from statsmodels.iolib.summary2 import summary_col\n",
    "# df.info()\n",
    "# df.describe()\n",
    "# df.columns.values\n",
    "mod1 = sm.formula.ols('''review_scores_rating ~ host_about + host_response_rate +\n",
    "host_total_listings_count + accommodates + amenities + price+ minimum_nights + number_of_reviews\n",
    "+ host_is_superhost + room_type_Private_room + room_type_Shared_room +room_type_Hotel_room +room_type_Entire_home/apt+ instant_bookable ''', df_model1)\n",
    "res = mod1.fit()\n",
    "\n",
    "mod2 = sm.formula.ols('''review_scores_rating ~ host_about + host_response_rate +\n",
    "host_total_listings_count + accommodates + amenities + price+ minimum_nights + number_of_reviews\n",
    "+ host_is_superhost + instant_bookable ''', df_model1)\n",
    "res2 = mod2.fit()\n",
    "\n",
    "#model_case_annual_policies.summary()\n",
    "print(res.summary())\n",
    "dfoutput = summary_col([res,res2],stars=True)\n",
    "print(dfoutput)\n"
   ]
  },
  {
   "cell_type": "markdown",
   "metadata": {},
   "source": [
    "### residual analysis"
   ]
  },
  {
   "cell_type": "code",
   "execution_count": 6,
   "metadata": {},
   "outputs": [],
   "source": [
    "import numpy as np\n",
    "import statsmodels.api as sm\n",
    "from statsmodels.formula.api import ols"
   ]
  },
  {
   "cell_type": "code",
   "execution_count": 42,
   "metadata": {},
   "outputs": [
    {
     "data": {
      "image/png": "[encoded data removed]",
      "text/plain": [
       "<Figure size 432x288 with 1 Axes>"
      ]
     },
     "metadata": {
      "needs_background": "light"
     },
     "output_type": "display_data"
    }
   ],
   "source": [
    "plt.scatter(res.fittedvalues, res.resid)\n",
    "# adding title and labels\n",
    "plt.xlabel('Fitted')\n",
    "plt.ylabel('Residual')\n",
    "plt.title('Residual vs. Fitted Plot')\n",
    "plt.show()"
   ]
  },
  {
   "cell_type": "code",
   "execution_count": 1,
   "metadata": {},
   "outputs": [],
   "source": [
    "refine_fields=['host_about','host_response_rate','amenities', 'price','minimum_nights','number_of_reviews',\n",
    "            'review_scores_rating','host_is_superhost']\n"
   ]
  },
  {
   "cell_type": "code",
   "execution_count": 4,
   "metadata": {},
   "outputs": [
    {
     "name": "stdout",
     "output_type": "stream",
     "text": [
      "<class 'pandas.core.frame.DataFrame'>\n",
      "RangeIndex: 4855 entries, 0 to 4854\n",
      "Data columns (total 8 columns):\n",
      " #   Column                Non-Null Count  Dtype  \n",
      "---  ------                --------------  -----  \n",
      " 0   host_about            4855 non-null   int64  \n",
      " 1   host_response_rate    4855 non-null   float64\n",
      " 2   host_is_superhost     4855 non-null   bool   \n",
      " 3   amenities             4855 non-null   int64  \n",
      " 4   price                 4855 non-null   float64\n",
      " 5   minimum_nights        4855 non-null   int64  \n",
      " 6   number_of_reviews     4855 non-null   int64  \n",
      " 7   review_scores_rating  4855 non-null   float64\n",
      "dtypes: bool(1), float64(3), int64(4)\n",
      "memory usage: 270.4 KB\n"
     ]
    }
   ],
   "source": [
    "df3=pd.read_csv('data_cleaning.csv', usecols=refine_fields)\n",
    "df3.info()"
   ]
  },
  {
   "cell_type": "code",
   "execution_count": 8,
   "metadata": {},
   "outputs": [
    {
     "name": "stdout",
     "output_type": "stream",
     "text": [
      "                             OLS Regression Results                             \n",
      "================================================================================\n",
      "Dep. Variable:     review_scores_rating   R-squared:                       0.120\n",
      "Model:                              OLS   Adj. R-squared:                  0.119\n",
      "Method:                   Least Squares   F-statistic:                     94.86\n",
      "Date:                  Sat, 05 Dec 2020   Prob (F-statistic):          3.28e-130\n",
      "Time:                          21:56:59   Log-Likelihood:                -18868.\n",
      "No. Observations:                  4855   AIC:                         3.775e+04\n",
      "Df Residuals:                      4847   BIC:                         3.780e+04\n",
      "Df Model:                             7                                         \n",
      "Covariance Type:              nonrobust                                         \n",
      "=============================================================================================\n",
      "                                coef    std err          t      P>|t|      [0.025      0.975]\n",
      "---------------------------------------------------------------------------------------------\n",
      "Intercept                    84.8425      0.676    125.441      0.000      83.517      86.168\n",
      "host_is_superhost[T.True]     6.9886      0.441     15.863      0.000       6.125       7.852\n",
      "host_about                    0.0074      0.002      3.796      0.000       0.004       0.011\n",
      "host_response_rate           -0.0405      0.007     -6.029      0.000      -0.054      -0.027\n",
      "amenities                     0.1830      0.021      8.683      0.000       0.142       0.224\n",
      "price                         0.0023      0.001      2.692      0.007       0.001       0.004\n",
      "minimum_nights                0.0542      0.009      6.240      0.000       0.037       0.071\n",
      "number_of_reviews             0.0147      0.002      7.577      0.000       0.011       0.018\n",
      "==============================================================================\n",
      "Omnibus:                     2812.761   Durbin-Watson:                   1.944\n",
      "Prob(Omnibus):                  0.000   Jarque-Bera (JB):            28292.027\n",
      "Skew:                          -2.631   Prob(JB):                         0.00\n",
      "Kurtosis:                      13.591   Cond. No.                         977.\n",
      "==============================================================================\n",
      "\n",
      "Notes:\n",
      "[1] Standard Errors assume that the covariance matrix of the errors is correctly specified.\n"
     ]
    }
   ],
   "source": [
    "# Selecting model\n",
    "import statsmodels.formula.api as smf\n",
    "from statsmodels.iolib.summary2 import summary_col\n",
    "# df.info()\n",
    "# df.describe()\n",
    "# df.columns.values\n",
    "mod3 = sm.formula.ols('''review_scores_rating ~ host_about + host_response_rate + amenities + price+ minimum_nights + number_of_reviews\n",
    "+ host_is_superhost''', df3)\n",
    "res3 = mod3.fit()\n",
    "#model_case_annual_policies.summary()\n",
    "print(res3.summary())"
   ]
  },
  {
   "cell_type": "code",
   "execution_count": 11,
   "metadata": {},
   "outputs": [
    {
     "data": {
      "image/png": "[encoded data removed]",
      "text/plain": [
       "<Figure size 432x288 with 1 Axes>"
      ]
     },
     "metadata": {
      "needs_background": "light"
     },
     "output_type": "display_data"
    }
   ],
   "source": [
    "plt.scatter(res3.fittedvalues, res3.resid)\n",
    "# adding title and labels\n",
    "plt.xlabel('Fitted')\n",
    "plt.ylabel('Residual')\n",
    "plt.title('Residual vs. Fitted Plot')\n",
    "plt.show()"
   ]
  }
 ],
 "metadata": {
  "kernelspec": {
   "display_name": "CASA2020",
   "language": "python",
   "name": "sds2020"
  },
  "language_info": {
   "codemirror_mode": {
    "name": "ipython",
    "version": 3
   },
   "file_extension": ".py",
   "mimetype": "text/x-python",
   "name": "python",
   "nbconvert_exporter": "python",
   "pygments_lexer": "ipython3",
   "version": "3.7.8"
  }
 },
 "nbformat": 4,
 "nbformat_minor": 4
}
