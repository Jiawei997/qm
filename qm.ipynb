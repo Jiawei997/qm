{
 "cells": [
  {
   "cell_type": "code",
   "execution_count": 2,
   "metadata": {},
   "outputs": [],
   "source": [
    "import os\n",
    "import pandas as pd"
   ]
  },
  {
   "cell_type": "code",
   "execution_count": 26,
   "metadata": {},
   "outputs": [
    {
     "name": "stdout",
     "output_type": "stream",
     "text": [
      "(19896, 12)\n"
     ]
    }
   ],
   "source": [
    "cols = ['id', 'listing_url', 'last_scraped', 'name', 'description', 'host_id', 'host_name', 'host_since', \n",
    "        'host_location', 'host_about', 'host_response_rate', 'host_acceptance_rate', 'host_is_superhost', \n",
    "        'host_listings_count', 'host_total_listings_count', 'host_verifications', 'latitude', 'longitude', \n",
    "        'property_type', 'room_type', 'accommodates', 'bathrooms', 'bathrooms_text', 'bedrooms', 'beds', \n",
    "        'amenities', 'price', 'minimum_nights', 'maximum_nights', 'availability_365', 'number_of_reviews', \n",
    "        'first_review', 'last_review', 'review_scores_rating', 'review_scores_cleanliness', \n",
    "        'review_scores_checkin', 'review_scores_communication', 'review_scores_location', 'license', \n",
    "        'instant_bookable', 'calculated_host_listings_count', 'reviews_per_month']\n",
    "\n",
    "key_fields=['host_about','host_response_rate','host_total_listings_count',\n",
    "            'accommodates','amenities', 'price','minimum_nights','number_of_reviews',\n",
    "            'review_scores_rating','room_type','host_is_superhost','instant_bookable']\n",
    "\n",
    "df = pd.read_csv('listings.csv',usecols=key_fields)\n",
    "df['price'] = df.price.str.replace('$','').str.replace(',','').astype(float)\n",
    "print(df.shape)"
   ]
  },
  {
   "cell_type": "markdown",
   "metadata": {},
   "source": [
    "### function of calculating the length of text columns."
   ]
  },
  {
   "cell_type": "code",
   "execution_count": 16,
   "metadata": {},
   "outputs": [],
   "source": [
    "def calculation(col_list,col_len,df_col,delimiter:'str'):\n",
    "    col_list\n",
    "    for i in df_col:\n",
    "    \n",
    "        if isinstance(i, str)== False:\n",
    "            j=str(i)\n",
    "            col_list.append(j.split(delimiter))\n",
    "    \n",
    "        else:\n",
    "            col_list.append(i.split(delimiter))\n",
    "    \n",
    "    col_len\n",
    "    for k in col_list:\n",
    "        p=len(k)\n",
    "        col_len.append(p)      "
   ]
  },
  {
   "cell_type": "code",
   "execution_count": 27,
   "metadata": {},
   "outputs": [
    {
     "name": "stdout",
     "output_type": "stream",
     "text": [
      "<class 'list'>\n",
      "Hello\n",
      "18\n",
      "['Hello', 'I', 'am', 'a', 'Professional', 'designer,', 'a', 'traveler,', 'an', 'entrepreneur.', 'I', 'try', 'always', 'to', 'find', 'a', 'solution.', '']\n"
     ]
    }
   ],
   "source": [
    "# for host about\n",
    "host_about_list=[]\n",
    "host_about_len=[]\n",
    "\n",
    "calculation(host_about_list,host_about_len,df.host_about,\" \")\n",
    "\n",
    "print(type(host_about_list))\n",
    "print(host_about_list[0][0])\n",
    "print(host_about_len[0])\n",
    "print(host_about_list[0])"
   ]
  },
  {
   "cell_type": "code",
   "execution_count": 28,
   "metadata": {},
   "outputs": [
    {
     "name": "stdout",
     "output_type": "stream",
     "text": [
      "<class 'list'>\n",
      "[\"Kitchen\"\n",
      "13\n",
      "['[\"Kitchen\"', ' \"Essentials\"', ' \"Cable TV\"', ' \"Air conditioning\"', ' \"Washer\"', ' \"Elevator\"', ' \"Dryer\"', ' \"Wifi\"', ' \"TV\"', ' \"Heating\"', ' \"Smoke alarm\"', ' \"Fire extinguisher\"', ' \"Carbon monoxide alarm\"]']\n"
     ]
    }
   ],
   "source": [
    "# for amentities \n",
    "amenities_list=[]\n",
    "amenities_len=[]\n",
    "\n",
    "calculation(amenities_list,amenities_len,df.amenities,\",\")\n",
    "\n",
    "print(type(amenities_list))\n",
    "print(amenities_list[0][0])\n",
    "print(amenities_len[0])\n",
    "print(amenities_list[0])"
   ]
  },
  {
   "cell_type": "markdown",
   "metadata": {},
   "source": [
    "## details."
   ]
  },
  {
   "cell_type": "code",
   "execution_count": 164,
   "metadata": {},
   "outputs": [],
   "source": [
    "\"\"\"#convert all the value in host about to lol.\n",
    "host_about_list=[]\n",
    "for i in df['host_about']:\n",
    "    \n",
    "    if isinstance(i, str)== False:\n",
    "        j=str(i)\n",
    "        \n",
    "        host_about_list.append(j.split(\" \"))\n",
    "    \n",
    "    else:\n",
    "        \n",
    "        host_about_list.append(i.split(\" \"))\n",
    "\n",
    "#check how it worked\n",
    "print(type(host_about_list))\n",
    "print(host_about_list[0][0])\n",
    "\n",
    "#calculate the length\n",
    "host_about_len=[]\n",
    "for i in host_about_list:\n",
    "    j=len(i)\n",
    "    host_about_len.append(j)\n",
    "\n",
    "#check the consistency\n",
    "print(host_about_len[0])\n",
    "print(host_about_list[0])\"\"\""
   ]
  },
  {
   "cell_type": "markdown",
   "metadata": {},
   "source": [
    "### add the new column to the dataframe."
   ]
  },
  {
   "cell_type": "code",
   "execution_count": 29,
   "metadata": {},
   "outputs": [],
   "source": [
    "df['host_about'] = host_about_len\n",
    "df['amenities'] = amenities_len"
   ]
  },
  {
   "cell_type": "code",
   "execution_count": 30,
   "metadata": {},
   "outputs": [
    {
     "data": {
      "text/html": [
       "<div>\n",
       "<style scoped>\n",
       "    .dataframe tbody tr th:only-of-type {\n",
       "        vertical-align: middle;\n",
       "    }\n",
       "\n",
       "    .dataframe tbody tr th {\n",
       "        vertical-align: top;\n",
       "    }\n",
       "\n",
       "    .dataframe thead th {\n",
       "        text-align: right;\n",
       "    }\n",
       "</style>\n",
       "<table border=\"1\" class=\"dataframe\">\n",
       "  <thead>\n",
       "    <tr style=\"text-align: right;\">\n",
       "      <th></th>\n",
       "      <th>amenities</th>\n",
       "      <th>host_about</th>\n",
       "    </tr>\n",
       "  </thead>\n",
       "  <tbody>\n",
       "    <tr>\n",
       "      <th>9507</th>\n",
       "      <td>31</td>\n",
       "      <td>7</td>\n",
       "    </tr>\n",
       "    <tr>\n",
       "      <th>1512</th>\n",
       "      <td>31</td>\n",
       "      <td>30</td>\n",
       "    </tr>\n",
       "    <tr>\n",
       "      <th>17433</th>\n",
       "      <td>7</td>\n",
       "      <td>5</td>\n",
       "    </tr>\n",
       "    <tr>\n",
       "      <th>8477</th>\n",
       "      <td>13</td>\n",
       "      <td>1</td>\n",
       "    </tr>\n",
       "  </tbody>\n",
       "</table>\n",
       "</div>"
      ],
      "text/plain": [
       "       amenities  host_about\n",
       "9507          31           7\n",
       "1512          31          30\n",
       "17433          7           5\n",
       "8477          13           1"
      ]
     },
     "execution_count": 30,
     "metadata": {},
     "output_type": "execute_result"
    }
   ],
   "source": [
    "df.sample(4, random_state=42)[['amenities','host_about']]"
   ]
  },
  {
   "cell_type": "markdown",
   "metadata": {},
   "source": [
    "### dummy variables"
   ]
  },
  {
   "cell_type": "code",
   "execution_count": 31,
   "metadata": {},
   "outputs": [
    {
     "data": {
      "text/html": [
       "<div>\n",
       "<style scoped>\n",
       "    .dataframe tbody tr th:only-of-type {\n",
       "        vertical-align: middle;\n",
       "    }\n",
       "\n",
       "    .dataframe tbody tr th {\n",
       "        vertical-align: top;\n",
       "    }\n",
       "\n",
       "    .dataframe thead th {\n",
       "        text-align: right;\n",
       "    }\n",
       "</style>\n",
       "<table border=\"1\" class=\"dataframe\">\n",
       "  <thead>\n",
       "    <tr style=\"text-align: right;\">\n",
       "      <th></th>\n",
       "      <th>instant_bookable</th>\n",
       "      <th>host_is_superhost</th>\n",
       "    </tr>\n",
       "  </thead>\n",
       "  <tbody>\n",
       "    <tr>\n",
       "      <th>0</th>\n",
       "      <td>f</td>\n",
       "      <td>f</td>\n",
       "    </tr>\n",
       "    <tr>\n",
       "      <th>1</th>\n",
       "      <td>t</td>\n",
       "      <td>t</td>\n",
       "    </tr>\n",
       "    <tr>\n",
       "      <th>2</th>\n",
       "      <td>t</td>\n",
       "      <td>f</td>\n",
       "    </tr>\n",
       "    <tr>\n",
       "      <th>3</th>\n",
       "      <td>f</td>\n",
       "      <td>f</td>\n",
       "    </tr>\n",
       "    <tr>\n",
       "      <th>4</th>\n",
       "      <td>t</td>\n",
       "      <td>f</td>\n",
       "    </tr>\n",
       "    <tr>\n",
       "      <th>...</th>\n",
       "      <td>...</td>\n",
       "      <td>...</td>\n",
       "    </tr>\n",
       "    <tr>\n",
       "      <th>19891</th>\n",
       "      <td>f</td>\n",
       "      <td>f</td>\n",
       "    </tr>\n",
       "    <tr>\n",
       "      <th>19892</th>\n",
       "      <td>t</td>\n",
       "      <td>f</td>\n",
       "    </tr>\n",
       "    <tr>\n",
       "      <th>19893</th>\n",
       "      <td>f</td>\n",
       "      <td>f</td>\n",
       "    </tr>\n",
       "    <tr>\n",
       "      <th>19894</th>\n",
       "      <td>f</td>\n",
       "      <td>f</td>\n",
       "    </tr>\n",
       "    <tr>\n",
       "      <th>19895</th>\n",
       "      <td>t</td>\n",
       "      <td>f</td>\n",
       "    </tr>\n",
       "  </tbody>\n",
       "</table>\n",
       "<p>19896 rows × 2 columns</p>\n",
       "</div>"
      ],
      "text/plain": [
       "      instant_bookable host_is_superhost\n",
       "0                    f                 f\n",
       "1                    t                 t\n",
       "2                    t                 f\n",
       "3                    f                 f\n",
       "4                    t                 f\n",
       "...                ...               ...\n",
       "19891                f                 f\n",
       "19892                t                 f\n",
       "19893                f                 f\n",
       "19894                f                 f\n",
       "19895                t                 f\n",
       "\n",
       "[19896 rows x 2 columns]"
      ]
     },
     "execution_count": 31,
     "metadata": {},
     "output_type": "execute_result"
    }
   ],
   "source": [
    "bools = ['instant_bookable','host_is_superhost']\n",
    "df[bools]"
   ]
  },
  {
   "cell_type": "code",
   "execution_count": 32,
   "metadata": {},
   "outputs": [
    {
     "data": {
      "text/html": [
       "<div>\n",
       "<style scoped>\n",
       "    .dataframe tbody tr th:only-of-type {\n",
       "        vertical-align: middle;\n",
       "    }\n",
       "\n",
       "    .dataframe tbody tr th {\n",
       "        vertical-align: top;\n",
       "    }\n",
       "\n",
       "    .dataframe thead th {\n",
       "        text-align: right;\n",
       "    }\n",
       "</style>\n",
       "<table border=\"1\" class=\"dataframe\">\n",
       "  <thead>\n",
       "    <tr style=\"text-align: right;\">\n",
       "      <th></th>\n",
       "      <th>instant_bookable</th>\n",
       "      <th>host_is_superhost</th>\n",
       "    </tr>\n",
       "  </thead>\n",
       "  <tbody>\n",
       "    <tr>\n",
       "      <th>9507</th>\n",
       "      <td>1</td>\n",
       "      <td>0.0</td>\n",
       "    </tr>\n",
       "    <tr>\n",
       "      <th>1512</th>\n",
       "      <td>0</td>\n",
       "      <td>0.0</td>\n",
       "    </tr>\n",
       "    <tr>\n",
       "      <th>17433</th>\n",
       "      <td>1</td>\n",
       "      <td>1.0</td>\n",
       "    </tr>\n",
       "  </tbody>\n",
       "</table>\n",
       "</div>"
      ],
      "text/plain": [
       "       instant_bookable  host_is_superhost\n",
       "9507                  1                0.0\n",
       "1512                  0                0.0\n",
       "17433                 1                1.0"
      ]
     },
     "execution_count": 32,
     "metadata": {},
     "output_type": "execute_result"
    }
   ],
   "source": [
    "bools = ['instant_bookable','host_is_superhost']\n",
    "key={'t':1,'f':0}\n",
    "for b in bools:\n",
    "    df[b] = df[b].replace(key)\n",
    "df.sample(3, random_state=42)[bools]"
   ]
  },
  {
   "cell_type": "code",
   "execution_count": null,
   "metadata": {},
   "outputs": [],
   "source": [
    "### drop nan"
   ]
  },
  {
   "cell_type": "code",
   "execution_count": 33,
   "metadata": {},
   "outputs": [
    {
     "name": "stdout",
     "output_type": "stream",
     "text": [
      "(8874, 12)\n"
     ]
    }
   ],
   "source": [
    "df.drop(index=(df[(df.host_about.isna()) | (df.host_response_rate.isna()) \n",
    "                  | (df.host_is_superhost.isna())|(df.host_total_listings_count.isna())\n",
    "                 |(df.room_type.isna())|(df.accommodates.isna())|(df.amenities.isna())\n",
    "                 |(df.price.isna())|(df.minimum_nights.isna())|(df.number_of_reviews.isna())\n",
    "                 |(df.instant_bookable.isna())|(df.review_scores_rating.isna())].index), inplace=True)\n",
    "print(df.shape)"
   ]
  },
  {
   "cell_type": "markdown",
   "metadata": {},
   "source": [
    "### save the dataframe to csv file"
   ]
  },
  {
   "cell_type": "code",
   "execution_count": 34,
   "metadata": {},
   "outputs": [],
   "source": [
    "df.to_csv('numeric_only.csv',index=False)"
   ]
  },
  {
   "cell_type": "markdown",
   "metadata": {},
   "source": [
    "### categorical variable"
   ]
  },
  {
   "cell_type": "code",
   "execution_count": 35,
   "metadata": {},
   "outputs": [
    {
     "data": {
      "text/plain": [
       "(8874, 12)"
      ]
     },
     "execution_count": 35,
     "metadata": {},
     "output_type": "execute_result"
    }
   ],
   "source": [
    "df1 = pd.read_csv('numeric_only.csv')\n",
    "df1.sample(2,random_state=42)\n",
    "df1.shape"
   ]
  },
  {
   "cell_type": "code",
   "execution_count": 36,
   "metadata": {},
   "outputs": [
    {
     "data": {
      "text/html": [
       "<div>\n",
       "<style scoped>\n",
       "    .dataframe tbody tr th:only-of-type {\n",
       "        vertical-align: middle;\n",
       "    }\n",
       "\n",
       "    .dataframe tbody tr th {\n",
       "        vertical-align: top;\n",
       "    }\n",
       "\n",
       "    .dataframe thead th {\n",
       "        text-align: right;\n",
       "    }\n",
       "</style>\n",
       "<table border=\"1\" class=\"dataframe\">\n",
       "  <thead>\n",
       "    <tr style=\"text-align: right;\">\n",
       "      <th></th>\n",
       "      <th>host_about</th>\n",
       "      <th>host_response_rate</th>\n",
       "      <th>host_is_superhost</th>\n",
       "      <th>host_total_listings_count</th>\n",
       "      <th>room_type</th>\n",
       "      <th>accommodates</th>\n",
       "      <th>amenities</th>\n",
       "      <th>price</th>\n",
       "      <th>minimum_nights</th>\n",
       "      <th>number_of_reviews</th>\n",
       "      <th>review_scores_rating</th>\n",
       "      <th>instant_bookable</th>\n",
       "    </tr>\n",
       "  </thead>\n",
       "  <tbody>\n",
       "    <tr>\n",
       "      <th>5825</th>\n",
       "      <td>128</td>\n",
       "      <td>64%</td>\n",
       "      <td>0.0</td>\n",
       "      <td>43.0</td>\n",
       "      <td>2</td>\n",
       "      <td>2</td>\n",
       "      <td>10</td>\n",
       "      <td>36.0</td>\n",
       "      <td>31</td>\n",
       "      <td>1</td>\n",
       "      <td>80.0</td>\n",
       "      <td>0</td>\n",
       "    </tr>\n",
       "    <tr>\n",
       "      <th>8170</th>\n",
       "      <td>1</td>\n",
       "      <td>100%</td>\n",
       "      <td>1.0</td>\n",
       "      <td>23.0</td>\n",
       "      <td>2</td>\n",
       "      <td>6</td>\n",
       "      <td>19</td>\n",
       "      <td>254.0</td>\n",
       "      <td>2</td>\n",
       "      <td>1</td>\n",
       "      <td>100.0</td>\n",
       "      <td>1</td>\n",
       "    </tr>\n",
       "  </tbody>\n",
       "</table>\n",
       "</div>"
      ],
      "text/plain": [
       "      host_about host_response_rate  host_is_superhost  \\\n",
       "5825         128                64%                0.0   \n",
       "8170           1               100%                1.0   \n",
       "\n",
       "      host_total_listings_count  room_type  accommodates  amenities  price  \\\n",
       "5825                       43.0          2             2         10   36.0   \n",
       "8170                       23.0          2             6         19  254.0   \n",
       "\n",
       "      minimum_nights  number_of_reviews  review_scores_rating  \\\n",
       "5825              31                  1                  80.0   \n",
       "8170               2                  1                 100.0   \n",
       "\n",
       "      instant_bookable  \n",
       "5825                 0  \n",
       "8170                 1  "
      ]
     },
     "execution_count": 36,
     "metadata": {},
     "output_type": "execute_result"
    }
   ],
   "source": [
    "df1.room_type.unique()\n",
    "map={'Private room':1,'Entire home/apt':2,'Hotel room':3,'Shared room':4}\n",
    "df1['room_type'] = df1['room_type'].replace(map)\n",
    "df1.sample(2,random_state=42)"
   ]
  },
  {
   "cell_type": "code",
   "execution_count": 37,
   "metadata": {},
   "outputs": [],
   "source": [
    "df1.to_csv('data_analysis_head.csv',index=False)"
   ]
  },
  {
   "cell_type": "markdown",
   "metadata": {},
   "source": [
    "### delete the header of dataframe"
   ]
  },
  {
   "cell_type": "code",
   "execution_count": 60,
   "metadata": {},
   "outputs": [
    {
     "data": {
      "text/html": [
       "<div>\n",
       "<style scoped>\n",
       "    .dataframe tbody tr th:only-of-type {\n",
       "        vertical-align: middle;\n",
       "    }\n",
       "\n",
       "    .dataframe tbody tr th {\n",
       "        vertical-align: top;\n",
       "    }\n",
       "\n",
       "    .dataframe thead th {\n",
       "        text-align: right;\n",
       "    }\n",
       "</style>\n",
       "<table border=\"1\" class=\"dataframe\">\n",
       "  <thead>\n",
       "    <tr style=\"text-align: right;\">\n",
       "      <th></th>\n",
       "      <th>65</th>\n",
       "      <th>100%</th>\n",
       "      <th>1.0</th>\n",
       "      <th>6.0</th>\n",
       "      <th>2</th>\n",
       "      <th>6</th>\n",
       "      <th>34</th>\n",
       "      <th>180.0</th>\n",
       "      <th>3</th>\n",
       "      <th>52</th>\n",
       "      <th>95.0</th>\n",
       "      <th>1</th>\n",
       "    </tr>\n",
       "  </thead>\n",
       "  <tbody>\n",
       "    <tr>\n",
       "      <th>3912</th>\n",
       "      <td>95</td>\n",
       "      <td>100%</td>\n",
       "      <td>1.0</td>\n",
       "      <td>3.0</td>\n",
       "      <td>2</td>\n",
       "      <td>2</td>\n",
       "      <td>37</td>\n",
       "      <td>32.00</td>\n",
       "      <td>31</td>\n",
       "      <td>15</td>\n",
       "      <td>96.0</td>\n",
       "      <td>0</td>\n",
       "    </tr>\n",
       "    <tr>\n",
       "      <th>1510</th>\n",
       "      <td>30</td>\n",
       "      <td>100%</td>\n",
       "      <td>0.0</td>\n",
       "      <td>40.0</td>\n",
       "      <td>2</td>\n",
       "      <td>3</td>\n",
       "      <td>31</td>\n",
       "      <td>29.45</td>\n",
       "      <td>30</td>\n",
       "      <td>75</td>\n",
       "      <td>84.0</td>\n",
       "      <td>0</td>\n",
       "    </tr>\n",
       "  </tbody>\n",
       "</table>\n",
       "</div>"
      ],
      "text/plain": [
       "      65  100%  1.0   6.0  2  6  34  180.0   3  52  95.0  1\n",
       "3912  95  100%  1.0   3.0  2  2  37  32.00  31  15  96.0  0\n",
       "1510  30  100%  0.0  40.0  2  3  31  29.45  30  75  84.0  0"
      ]
     },
     "execution_count": 60,
     "metadata": {},
     "output_type": "execute_result"
    }
   ],
   "source": [
    "#delete the label/header.\n",
    "\n",
    "df1.columns = df1.iloc[0]\n",
    "df1 = df1.reindex(df1.index.drop(0)).reset_index(drop=True)\n",
    "df1.columns.name = None\n",
    "df1.sample(2,random_state=42)"
   ]
  },
  {
   "cell_type": "code",
   "execution_count": 12,
   "metadata": {},
   "outputs": [
    {
     "name": "stdout",
     "output_type": "stream",
     "text": [
      "(12409, 12)\n"
     ]
    }
   ],
   "source": [
    "''''df1.drop(index=(df1[(df1.host_about.isna()) | (df1.host_response_rate.isna()) \n",
    "                  | (df1.host_is_superhost.isna())|(df1.host_total_listings_count.isna())\n",
    "                 |(df1.room_type.isna())|(df1.accommodates.isna())|(df1.amenities.isna())\n",
    "                 |(df1.price.isna())|(df1.minimum_nights.isna())|(df1.number_of_reviews\t.isna())\n",
    "                 |(df1.instant_bookable.isna())].index), inplace=True)\n",
    "print(df1.shape)''''"
   ]
  },
  {
   "cell_type": "code",
   "execution_count": 62,
   "metadata": {},
   "outputs": [],
   "source": [
    "df1.to_csv('data_analysis.csv',index=False)"
   ]
  },
  {
   "cell_type": "markdown",
   "metadata": {},
   "source": [
    "### k-mean cluster"
   ]
  },
  {
   "cell_type": "code",
   "execution_count": 65,
   "metadata": {},
   "outputs": [],
   "source": [
    "import matplotlib.pyplot as plt # For plotting\n",
    "import numpy as np              # For working with numerical data\n",
    "import sklearn.cluster as sklc  # For clustering\n",
    "import sklearn.metrics as sklm  # For the silhouette score"
   ]
  },
  {
   "cell_type": "code",
   "execution_count": 66,
   "metadata": {},
   "outputs": [],
   "source": [
    "num_clusters = 2\n",
    "data_filename = 'clustering_example_data.csv'\n",
    "output_figure_filename = 'clustering_figure'\n",
    "output_data_filename = 'complete_data_with_clusters.csv'\n",
    "\n",
    "data = np.genfromtxt(data_filename,delimiter = ',')"
   ]
  },
  {
   "cell_type": "code",
   "execution_count": 67,
   "metadata": {},
   "outputs": [],
   "source": [
    "figure_width, figure_height = 7,7\n",
    "fig_title = 'Figure Title'\n",
    "x_label   = 'x-axis label'\n",
    "y_label   = 'y-axis label'\n",
    "title_fontsize = 15\n",
    "label_fontsize = 10\n",
    "x_min, x_max = 0, 30\n",
    "y_min, y_max = 0, 30"
   ]
  },
  {
   "cell_type": "code",
   "execution_count": 68,
   "metadata": {},
   "outputs": [],
   "source": [
    "kmeans_output = sklc.KMeans(n_clusters=num_clusters, n_init=1).fit(data)"
   ]
  },
  {
   "cell_type": "code",
   "execution_count": 69,
   "metadata": {},
   "outputs": [],
   "source": [
    "clustering_ids_kmeans = kmeans_output.labels_"
   ]
  },
  {
   "cell_type": "code",
   "execution_count": 70,
   "metadata": {},
   "outputs": [],
   "source": [
    "complete_data_with_clusters = np.hstack((data,np.array([clustering_ids_kmeans]).T))\n",
    "np.savetxt(output_data_filename,complete_data_with_clusters,delimiter=\",\")"
   ]
  },
  {
   "cell_type": "code",
   "execution_count": 71,
   "metadata": {},
   "outputs": [],
   "source": [
    "data_by_cluster = []\n",
    "\n",
    "for i in range(num_clusters):\n",
    "    \n",
    "    this_data = []\n",
    "    \n",
    "    for row in complete_data_with_clusters:\n",
    "        \n",
    "        if row[-1] == i:\n",
    "            this_data.append(row)\n",
    "    \n",
    "    this_data = np.array(this_data)\n",
    "    \n",
    "    data_by_cluster.append(this_data)"
   ]
  },
  {
   "cell_type": "code",
   "execution_count": 72,
   "metadata": {},
   "outputs": [],
   "source": [
    "def setup_figure():\n",
    "    \n",
    "    plt.xlim([x_min, x_max])\n",
    "    plt.ylim([y_min, y_max])\n",
    "    plt.xlabel(x_label,fontsize=label_fontsize)\n",
    "    plt.ylabel(y_label,fontsize=label_fontsize)"
   ]
  },
  {
   "cell_type": "code",
   "execution_count": 73,
   "metadata": {},
   "outputs": [],
   "source": [
    "x_values = data[:,0]\n",
    "y_values = data[:,1]"
   ]
  },
  {
   "cell_type": "code",
   "execution_count": 74,
   "metadata": {},
   "outputs": [
    {
     "data": {
      "image/png": "[encoded data removed]",
      "text/plain": [
       "<Figure size 504x504 with 1 Axes>"
      ]
     },
     "metadata": {
      "needs_background": "light"
     },
     "output_type": "display_data"
    }
   ],
   "source": [
    "plt.figure(0,figsize=(figure_width,figure_height))\n",
    "setup_figure()\n",
    "plt.title(fig_title,fontsize=title_fontsize)\n",
    "plt.plot(x_values,y_values,'k.')\n",
    "plt.savefig(output_figure_filename + '_unclustered_data.png')"
   ]
  },
  {
   "cell_type": "code",
   "execution_count": 75,
   "metadata": {},
   "outputs": [],
   "source": [
    "color_list = ['b','r','g','m','c','k','y']"
   ]
  },
  {
   "cell_type": "code",
   "execution_count": null,
   "metadata": {},
   "outputs": [],
   "source": [
    "'''for i in range(num_clusters):\n",
    "    \n",
    "    plt.figure(i+1,figsize=(figure_width,figure_height))\n",
    "    setup_figure()\n",
    "    plt.title(fig_title + ' - Cluster ' + str(i),fontsize=title_fontsize)\n",
    "    \n",
    "    x_values = data_by_cluster[i][:,0]\n",
    "    y_values = data_by_cluster[i][:,1]\n",
    "    \n",
    "    plt.plot(x_values,y_values,color_list[i % num_clusters] + '.')\n",
    "    plt.savefig(output_figure_filename + '_cluster_' + str(i) + '.png')\n",
    "'''"
   ]
  },
  {
   "cell_type": "code",
   "execution_count": 77,
   "metadata": {},
   "outputs": [
    {
     "data": {
      "image/png": "[encoded data removed]",
      "text/plain": [
       "<Figure size 504x504 with 1 Axes>"
      ]
     },
     "metadata": {
      "needs_background": "light"
     },
     "output_type": "display_data"
    }
   ],
   "source": [
    "plt.figure(num_clusters + 1,figsize=(figure_width,figure_height))\n",
    "setup_figure()\n",
    "plt.title(fig_title + ' - Coloured by Cluster',fontsize=title_fontsize)\n",
    "\n",
    "for i in range(num_clusters):\n",
    "    \n",
    "    x_values = data_by_cluster[i][:,0]\n",
    "    y_values = data_by_cluster[i][:,1]\n",
    "    \n",
    "    plt.plot(x_values,y_values,color_list[i % num_clusters] + '.')\n",
    "      \n",
    "plt.savefig(output_figure_filename + '.png')"
   ]
  },
  {
   "cell_type": "code",
   "execution_count": 78,
   "metadata": {},
   "outputs": [
    {
     "name": "stdout",
     "output_type": "stream",
     "text": [
      "Silhouette Score: 0.5823744483946874\n"
     ]
    }
   ],
   "source": [
    "# These lines calculate the silhouette score...\n",
    "silhouette_kmeans = sklm.silhouette_score(data,clustering_ids_kmeans)\n",
    "\n",
    "# ... and print it:\n",
    "print(\"Silhouette Score:\", silhouette_kmeans)\n"
   ]
  },
  {
   "cell_type": "markdown",
   "metadata": {},
   "source": [
    "### correlation matrix"
   ]
  },
  {
   "cell_type": "code",
   "execution_count": 63,
   "metadata": {},
   "outputs": [
    {
     "name": "stdout",
     "output_type": "stream",
     "text": [
      "[[ 1.00000000e+00             nan             nan             nan\n",
      "   2.57610568e-01  2.43206112e-01  1.94291773e-01  7.17487894e-02\n",
      "  -1.97863803e-02  1.28598706e-01             nan  3.08321544e-02]\n",
      " [            nan             nan             nan             nan\n",
      "              nan             nan             nan             nan\n",
      "              nan             nan             nan             nan]\n",
      " [            nan             nan             nan             nan\n",
      "              nan             nan             nan             nan\n",
      "              nan             nan             nan             nan]\n",
      " [            nan             nan             nan             nan\n",
      "              nan             nan             nan             nan\n",
      "              nan             nan             nan             nan]\n",
      " [ 2.57610568e-01             nan             nan             nan\n",
      "   1.00000000e+00  5.00628955e-01  2.38596602e-01  1.54978816e-01\n",
      "   8.14923007e-02  4.81563926e-02             nan  1.02187814e-01]\n",
      " [ 2.43206112e-01             nan             nan             nan\n",
      "   5.00628955e-01  1.00000000e+00  2.90298869e-01  2.31797806e-01\n",
      "  -2.54389266e-02  1.00076237e-01             nan  7.43427920e-02]\n",
      " [ 1.94291773e-01             nan             nan             nan\n",
      "   2.38596602e-01  2.90298869e-01  1.00000000e+00  5.07292137e-02\n",
      "  -2.08964744e-02  2.87016806e-01             nan  7.79178071e-02]\n",
      " [ 7.17487894e-02             nan             nan             nan\n",
      "   1.54978816e-01  2.31797806e-01  5.07292137e-02  1.00000000e+00\n",
      "  -2.77106379e-02 -5.14152386e-03             nan  4.46069652e-02]\n",
      " [-1.97863803e-02             nan             nan             nan\n",
      "   8.14923007e-02 -2.54389266e-02 -2.08964744e-02 -2.77106379e-02\n",
      "   1.00000000e+00 -1.30015764e-01             nan -6.83758320e-02]\n",
      " [ 1.28598706e-01             nan             nan             nan\n",
      "   4.81563926e-02  1.00076237e-01  2.87016806e-01 -5.14152386e-03\n",
      "  -1.30015764e-01  1.00000000e+00             nan -6.59170750e-04]\n",
      " [            nan             nan             nan             nan\n",
      "              nan             nan             nan             nan\n",
      "              nan             nan             nan             nan]\n",
      " [ 3.08321544e-02             nan             nan             nan\n",
      "   1.02187814e-01  7.43427920e-02  7.79178071e-02  4.46069652e-02\n",
      "  -6.83758320e-02 -6.59170750e-04             nan  1.00000000e+00]]\n"
     ]
    }
   ],
   "source": [
    "# This program creates a correlation matrix from data stored in a csv file.\n",
    "# It then saves the correlation matrix as a csv file.\n",
    "\n",
    "# The data file must be in columns of numbers - no column labels, etc.\n",
    "# Each column is a data series, X0, X1, X2, etc.\n",
    "\n",
    "# This data must be saved as a csv file (e.g. use \"Save As\" in Excel and choose csv format).\n",
    "# It must be saved in the same folder as this program.\n",
    "# See the file demo_multreg_data_example.csv for reference.\n",
    "\n",
    "# In the next line, replace demo_multreg_data_example.csv with the filename of your data:\n",
    "data_filename = 'data_analysis.csv'\n",
    "\n",
    "# In the next line, replace correlation_matrix with the filename you wish to save as:\n",
    "output_filename = 'correlation_matrix.csv'\n",
    "\n",
    "# The next lines import the necessary package to create the correlation analysis:\n",
    "import numpy as np\n",
    "\n",
    "data = np.genfromtxt(data_filename,delimiter = ',')\n",
    "\n",
    "# If there are errors importing the data, you can also copy it in as follows:\n",
    "# e.g. data = [[737.4776314, 34, 65],\n",
    "#              [869.2063792, 57, 73],\n",
    "#              [1033.705248, 59, 100],\n",
    "#              ...\n",
    "#              [737.5129466, 66, 49]]\n",
    "# (Compare this example with the file demo_multreg_data_example.csv)\n",
    "\n",
    "# These lines create the correlation matrix and print it:\n",
    "correlation_matrix = np.corrcoef(data.T)\n",
    "print(correlation_matrix)\n",
    "\n",
    "# correlation_matrix[i,j] is the correlation between the series Xi and Xj.\n",
    "\n",
    "# The next line saves the correlation matrix as a csv file:\n",
    "#np.savetxt(output_filename,correlation_matrix,delimiter=',')"
   ]
  },
  {
   "cell_type": "code",
   "execution_count": 61,
   "metadata": {},
   "outputs": [
    {
     "data": {
      "image/png": "[encoded data removed]",
      "text/plain": [
       "<Figure size 1368x1080 with 2 Axes>"
      ]
     },
     "metadata": {
      "needs_background": "light"
     },
     "output_type": "display_data"
    }
   ],
   "source": [
    "import matplotlib.pyplot as plt\n",
    "\n",
    "#plt.matshow(dataframe.corr())\n",
    "#plt.show()\n",
    "\n",
    "f = plt.figure(figsize=(19, 15))\n",
    "plt.matshow(df1.corr(), fignum=f.number)\n",
    "plt.xticks(range(df1.shape[1]), df1.columns, fontsize=14, rotation=45)\n",
    "plt.yticks(range(df1.shape[1]), df1.columns, fontsize=14)\n",
    "cb = plt.colorbar()\n",
    "cb.ax.tick_params(labelsize=14)\n",
    "plt.title('Correlation Matrix', fontsize=16);"
   ]
  }
 ],
 "metadata": {
  "kernelspec": {
   "display_name": "CASA2020",
   "language": "python",
   "name": "sds2020"
  },
  "language_info": {
   "codemirror_mode": {
    "name": "ipython",
    "version": 3
   },
   "file_extension": ".py",
   "mimetype": "text/x-python",
   "name": "python",
   "nbconvert_exporter": "python",
   "pygments_lexer": "ipython3",
   "version": "3.7.8"
  }
 },
 "nbformat": 4,
 "nbformat_minor": 4
}
